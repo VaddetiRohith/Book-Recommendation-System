{
 "cells": [
  {
   "cell_type": "code",
   "execution_count": 1,
   "id": "41b16b48",
   "metadata": {},
   "outputs": [],
   "source": [
    "import pandas as pd\n",
    "import numpy as np\n",
    "import matplotlib.pyplot as plt\n",
    "import seaborn as sns\n",
    "\n",
    "import warnings\n",
    "warnings.filterwarnings('ignore')"
   ]
  },
  {
   "cell_type": "code",
   "execution_count": 2,
   "id": "13ba5bd0",
   "metadata": {},
   "outputs": [],
   "source": [
    "books = pd.read_csv(r\"D:\\ExcelR Project\\Dataset\\Books.csv\")\n",
    "users = pd.read_csv(r\"D:\\ExcelR Project\\Dataset\\Users.csv\")\n",
    "ratings = pd.read_csv(r\"D:\\ExcelR Project\\Dataset\\Ratings.csv\")"
   ]
  },
  {
   "cell_type": "code",
   "execution_count": 3,
   "id": "a93f5646",
   "metadata": {},
   "outputs": [
    {
     "name": "stdout",
     "output_type": "stream",
     "text": [
      "\t  books shape is (271360, 8)\n",
      "          ratings shape is (1149780, 3)\n",
      "          users shape is (278858, 3)\n"
     ]
    }
   ],
   "source": [
    "# dimension of dataset\n",
    "print(f'''\\t  books shape is {books.shape}\n",
    "          ratings shape is {ratings.shape}\n",
    "          users shape is {users.shape}''')"
   ]
  },
  {
   "cell_type": "code",
   "execution_count": 4,
   "id": "265df59f",
   "metadata": {},
   "outputs": [
    {
     "data": {
      "text/html": [
       "<div>\n",
       "<style scoped>\n",
       "    .dataframe tbody tr th:only-of-type {\n",
       "        vertical-align: middle;\n",
       "    }\n",
       "\n",
       "    .dataframe tbody tr th {\n",
       "        vertical-align: top;\n",
       "    }\n",
       "\n",
       "    .dataframe thead th {\n",
       "        text-align: right;\n",
       "    }\n",
       "</style>\n",
       "<table border=\"1\" class=\"dataframe\">\n",
       "  <thead>\n",
       "    <tr style=\"text-align: right;\">\n",
       "      <th></th>\n",
       "      <th>ISBN</th>\n",
       "      <th>Book-Title</th>\n",
       "      <th>Book-Author</th>\n",
       "      <th>Year-Of-Publication</th>\n",
       "      <th>Publisher</th>\n",
       "      <th>Image-URL-L</th>\n",
       "    </tr>\n",
       "  </thead>\n",
       "  <tbody>\n",
       "    <tr>\n",
       "      <th>0</th>\n",
       "      <td>0195153448</td>\n",
       "      <td>Classical Mythology</td>\n",
       "      <td>Mark P. O. Morford</td>\n",
       "      <td>2002</td>\n",
       "      <td>Oxford University Press</td>\n",
       "      <td>http://images.amazon.com/images/P/0195153448.0...</td>\n",
       "    </tr>\n",
       "    <tr>\n",
       "      <th>1</th>\n",
       "      <td>0002005018</td>\n",
       "      <td>Clara Callan</td>\n",
       "      <td>Richard Bruce Wright</td>\n",
       "      <td>2001</td>\n",
       "      <td>HarperFlamingo Canada</td>\n",
       "      <td>http://images.amazon.com/images/P/0002005018.0...</td>\n",
       "    </tr>\n",
       "  </tbody>\n",
       "</table>\n",
       "</div>"
      ],
      "text/plain": [
       "         ISBN           Book-Title           Book-Author Year-Of-Publication  \\\n",
       "0  0195153448  Classical Mythology    Mark P. O. Morford                2002   \n",
       "1  0002005018         Clara Callan  Richard Bruce Wright                2001   \n",
       "\n",
       "                 Publisher                                        Image-URL-L  \n",
       "0  Oxford University Press  http://images.amazon.com/images/P/0195153448.0...  \n",
       "1    HarperFlamingo Canada  http://images.amazon.com/images/P/0002005018.0...  "
      ]
     },
     "execution_count": 4,
     "metadata": {},
     "output_type": "execute_result"
    }
   ],
   "source": [
    "books = books[['ISBN','Book-Title', 'Book-Author', 'Year-Of-Publication','Publisher','Image-URL-L']]\n",
    "books.head(2)"
   ]
  },
  {
   "cell_type": "code",
   "execution_count": 5,
   "id": "b32710f7",
   "metadata": {},
   "outputs": [],
   "source": [
    "books.rename(columns={\n",
    "    'Book-Title': 'title',\n",
    "    'Book-Author': 'author',\n",
    "    'Year-Of-Publication': 'year',\n",
    "    'Publisher': 'publisher',\n",
    "    'Image-URL-L': 'img_url'\n",
    "},\n",
    "             inplace=True)"
   ]
  },
  {
   "cell_type": "code",
   "execution_count": 6,
   "id": "eb2499b4",
   "metadata": {
    "scrolled": true
   },
   "outputs": [
    {
     "data": {
      "text/html": [
       "<div>\n",
       "<style scoped>\n",
       "    .dataframe tbody tr th:only-of-type {\n",
       "        vertical-align: middle;\n",
       "    }\n",
       "\n",
       "    .dataframe tbody tr th {\n",
       "        vertical-align: top;\n",
       "    }\n",
       "\n",
       "    .dataframe thead th {\n",
       "        text-align: right;\n",
       "    }\n",
       "</style>\n",
       "<table border=\"1\" class=\"dataframe\">\n",
       "  <thead>\n",
       "    <tr style=\"text-align: right;\">\n",
       "      <th></th>\n",
       "      <th>ISBN</th>\n",
       "      <th>title</th>\n",
       "      <th>author</th>\n",
       "      <th>year</th>\n",
       "      <th>publisher</th>\n",
       "      <th>img_url</th>\n",
       "    </tr>\n",
       "  </thead>\n",
       "  <tbody>\n",
       "    <tr>\n",
       "      <th>0</th>\n",
       "      <td>0195153448</td>\n",
       "      <td>Classical Mythology</td>\n",
       "      <td>Mark P. O. Morford</td>\n",
       "      <td>2002</td>\n",
       "      <td>Oxford University Press</td>\n",
       "      <td>http://images.amazon.com/images/P/0195153448.0...</td>\n",
       "    </tr>\n",
       "    <tr>\n",
       "      <th>1</th>\n",
       "      <td>0002005018</td>\n",
       "      <td>Clara Callan</td>\n",
       "      <td>Richard Bruce Wright</td>\n",
       "      <td>2001</td>\n",
       "      <td>HarperFlamingo Canada</td>\n",
       "      <td>http://images.amazon.com/images/P/0002005018.0...</td>\n",
       "    </tr>\n",
       "  </tbody>\n",
       "</table>\n",
       "</div>"
      ],
      "text/plain": [
       "         ISBN                title                author  year  \\\n",
       "0  0195153448  Classical Mythology    Mark P. O. Morford  2002   \n",
       "1  0002005018         Clara Callan  Richard Bruce Wright  2001   \n",
       "\n",
       "                 publisher                                            img_url  \n",
       "0  Oxford University Press  http://images.amazon.com/images/P/0195153448.0...  \n",
       "1    HarperFlamingo Canada  http://images.amazon.com/images/P/0002005018.0...  "
      ]
     },
     "execution_count": 6,
     "metadata": {},
     "output_type": "execute_result"
    }
   ],
   "source": [
    "books.head(2)"
   ]
  },
  {
   "cell_type": "code",
   "execution_count": 7,
   "id": "87f22021",
   "metadata": {},
   "outputs": [],
   "source": [
    "ratings.rename(columns={\n",
    "    'User-ID' : 'user_id',\n",
    "    'Book-Rating' : 'rating',\n",
    "    \n",
    "}, inplace=True)"
   ]
  },
  {
   "cell_type": "code",
   "execution_count": 8,
   "id": "b6d9fca5",
   "metadata": {},
   "outputs": [
    {
     "data": {
      "text/plain": [
       "ISBN         0\n",
       "title        0\n",
       "author       1\n",
       "year         0\n",
       "publisher    2\n",
       "img_url      3\n",
       "dtype: int64"
      ]
     },
     "execution_count": 8,
     "metadata": {},
     "output_type": "execute_result"
    }
   ],
   "source": [
    "books.isnull().sum()"
   ]
  },
  {
   "cell_type": "code",
   "execution_count": 9,
   "id": "0de1a390",
   "metadata": {},
   "outputs": [
    {
     "data": {
      "text/plain": [
       "User-ID          0\n",
       "Location         0\n",
       "Age         110762\n",
       "dtype: int64"
      ]
     },
     "execution_count": 9,
     "metadata": {},
     "output_type": "execute_result"
    }
   ],
   "source": [
    "users.isnull().sum()"
   ]
  },
  {
   "cell_type": "code",
   "execution_count": 10,
   "id": "615cbf8f",
   "metadata": {},
   "outputs": [
    {
     "data": {
      "text/plain": [
       "user_id    0\n",
       "ISBN       0\n",
       "rating     0\n",
       "dtype: int64"
      ]
     },
     "execution_count": 10,
     "metadata": {},
     "output_type": "execute_result"
    }
   ],
   "source": [
    "ratings.isnull().sum()"
   ]
  },
  {
   "cell_type": "code",
   "execution_count": 11,
   "id": "dad45740",
   "metadata": {},
   "outputs": [
    {
     "data": {
      "text/plain": [
       "0"
      ]
     },
     "execution_count": 11,
     "metadata": {},
     "output_type": "execute_result"
    }
   ],
   "source": [
    "books.duplicated().sum()"
   ]
  },
  {
   "cell_type": "code",
   "execution_count": 12,
   "id": "2ed6e639",
   "metadata": {},
   "outputs": [
    {
     "data": {
      "text/plain": [
       "0"
      ]
     },
     "execution_count": 12,
     "metadata": {},
     "output_type": "execute_result"
    }
   ],
   "source": [
    "ratings.duplicated().sum()"
   ]
  },
  {
   "cell_type": "code",
   "execution_count": 13,
   "id": "719aeb5c",
   "metadata": {},
   "outputs": [
    {
     "data": {
      "text/plain": [
       "0"
      ]
     },
     "execution_count": 13,
     "metadata": {},
     "output_type": "execute_result"
    }
   ],
   "source": [
    "users.duplicated().sum()"
   ]
  },
  {
   "cell_type": "markdown",
   "id": "edd4c4d9",
   "metadata": {},
   "source": [
    "### Users_Dataset"
   ]
  },
  {
   "cell_type": "code",
   "execution_count": 14,
   "id": "d86d1a5b",
   "metadata": {},
   "outputs": [
    {
     "data": {
      "text/plain": [
       "Index(['User-ID', 'Location', 'Age'], dtype='object')"
      ]
     },
     "execution_count": 14,
     "metadata": {},
     "output_type": "execute_result"
    }
   ],
   "source": [
    "users.columns"
   ]
  },
  {
   "cell_type": "code",
   "execution_count": 15,
   "id": "8228ea93",
   "metadata": {},
   "outputs": [],
   "source": [
    "users.rename(columns={\n",
    "    'User-ID' : 'user_id',\n",
    "    'Age' : 'age',\n",
    "    'Location' : 'location'\n",
    "    \n",
    "}, inplace=True)"
   ]
  },
  {
   "cell_type": "code",
   "execution_count": 16,
   "id": "b1fa820b",
   "metadata": {},
   "outputs": [
    {
     "data": {
      "image/png": "[encoded data removed]",
      "text/plain": [
       "<Figure size 640x480 with 1 Axes>"
      ]
     },
     "metadata": {},
     "output_type": "display_data"
    }
   ],
   "source": [
    "plt.hist(users['age'], bins=[0, 10, 20, 30, 40, 50, 60, 70, 80, 90, 100])\n",
    "plt.title('Age Distribution')\n",
    "plt.xlabel('Age')\n",
    "plt.ylabel('Count')\n",
    "plt.grid()"
   ]
  },
  {
   "cell_type": "code",
   "execution_count": 17,
   "id": "132ab6dd",
   "metadata": {},
   "outputs": [
    {
     "data": {
      "text/plain": [
       "Text(0.5, 1.0, 'outliers in Age Column')"
      ]
     },
     "execution_count": 17,
     "metadata": {},
     "output_type": "execute_result"
    },
    {
     "data": {
      "image/png": "[encoded data removed]",
      "text/plain": [
       "<Figure size 640x480 with 1 Axes>"
      ]
     },
     "metadata": {},
     "output_type": "display_data"
    }
   ],
   "source": [
    "sns.boxplot(data=users['age'])\n",
    "plt.title('outliers in Age Column')"
   ]
  },
  {
   "cell_type": "code",
   "execution_count": 18,
   "id": "1b85a3e3",
   "metadata": {},
   "outputs": [
    {
     "name": "stdout",
     "output_type": "stream",
     "text": [
      "[nan, 0.0, 1.0, 2.0, 3.0, 4.0, 5.0, 6.0, 7.0, 8.0, 9.0, 10.0, 11.0, 12.0, 13.0, 14.0, 15.0, 16.0, 17.0, 18.0, 19.0, 20.0, 21.0, 22.0, 23.0, 24.0, 25.0, 26.0, 27.0, 28.0, 29.0, 30.0, 31.0, 32.0, 33.0, 34.0, 35.0, 36.0, 37.0, 38.0, 39.0, 40.0, 41.0, 42.0, 43.0, 44.0, 45.0, 46.0, 47.0, 48.0, 49.0, 50.0, 51.0, 52.0, 53.0, 54.0, 55.0, 56.0, 57.0, 58.0, 59.0, 60.0, 61.0, 62.0, 63.0, 64.0, 65.0, 66.0, 67.0, 68.0, 69.0, 70.0, 71.0, 72.0, 73.0, 74.0, 75.0, 76.0, 77.0, 78.0, 79.0, 80.0, 81.0, 82.0, 83.0, 84.0, 85.0, 86.0, 87.0, 88.0, 89.0, 90.0, 91.0, 92.0, 93.0, 94.0, 95.0, 96.0, 97.0, 98.0, 99.0, 100.0, 101.0, 102.0, 103.0, 104.0, 105.0, 106.0, 107.0, 108.0, 109.0, 110.0, 111.0, 113.0, 114.0, 115.0, 116.0, 118.0, 119.0, 123.0, 124.0, 127.0, 128.0, 132.0, 133.0, 136.0, 137.0, 138.0, 140.0, 141.0, 143.0, 146.0, 147.0, 148.0, 151.0, 152.0, 156.0, 157.0, 159.0, 162.0, 168.0, 172.0, 175.0, 183.0, 186.0, 189.0, 199.0, 200.0, 201.0, 204.0, 207.0, 208.0, 209.0, 210.0, 212.0, 219.0, 220.0, 223.0, 226.0, 228.0, 229.0, 230.0, 231.0, 237.0, 239.0, 244.0]\n"
     ]
    }
   ],
   "source": [
    "print(sorted(users.age.unique()))"
   ]
  },
  {
   "cell_type": "code",
   "execution_count": 19,
   "id": "b49a6da7",
   "metadata": {},
   "outputs": [
    {
     "data": {
      "text/plain": [
       "Text(0.5, 1.0, 'Age Distribution Plot')"
      ]
     },
     "execution_count": 19,
     "metadata": {},
     "output_type": "execute_result"
    },
    {
     "data": {
      "image/png": "[encoded data removed]",
      "text/plain": [
       "<Figure size 640x480 with 1 Axes>"
      ]
     },
     "metadata": {},
     "output_type": "display_data"
    }
   ],
   "source": [
    "sns.distplot(users['age'])\n",
    "plt.title('Age Distribution Plot')"
   ]
  },
  {
   "cell_type": "markdown",
   "id": "a7978872",
   "metadata": {},
   "source": [
    "***This distribution is right skewed and we have seen in the box plot as well there are more outliers on right hand side***\n",
    "\n",
    "\n",
    "***we have Outlier data in Age***"
   ]
  },
  {
   "cell_type": "code",
   "execution_count": 20,
   "id": "456b1487",
   "metadata": {},
   "outputs": [
    {
     "data": {
      "text/plain": [
       "<AxesSubplot:>"
      ]
     },
     "execution_count": 20,
     "metadata": {},
     "output_type": "execute_result"
    },
    {
     "data": {
      "image/png": "[encoded data removed]",
      "text/plain": [
       "<Figure size 640x480 with 2 Axes>"
      ]
     },
     "metadata": {},
     "output_type": "display_data"
    }
   ],
   "source": [
    "sns.heatmap(users.isnull(),cmap='viridis')"
   ]
  },
  {
   "cell_type": "markdown",
   "id": "994d4c30",
   "metadata": {},
   "source": [
    "***Age value's below 5 and above 80 do not make much sense for our book rating case...hence replacing these by NaNs***"
   ]
  },
  {
   "cell_type": "code",
   "execution_count": 21,
   "id": "638cfd36",
   "metadata": {},
   "outputs": [],
   "source": [
    "# outlier data became NaN\n",
    "users.loc[(users.age > 80) | (users.age < 5), 'age'] = np.nan"
   ]
  },
  {
   "cell_type": "code",
   "execution_count": 22,
   "id": "9630a591",
   "metadata": {},
   "outputs": [
    {
     "data": {
      "text/plain": [
       "user_id          0\n",
       "location         0\n",
       "age         112230\n",
       "dtype: int64"
      ]
     },
     "execution_count": 22,
     "metadata": {},
     "output_type": "execute_result"
    }
   ],
   "source": [
    "users.isna().sum()"
   ]
  },
  {
   "cell_type": "markdown",
   "id": "d3ec0652",
   "metadata": {},
   "source": [
    "***Age has positive Skewness (right tail) so we can use median to fill Nan values, but for this we don't like to fill Nan value just for one range of age. To handle this we'll use country column to fill Nan***\n",
    "\n",
    "**Lets Create Country column**"
   ]
  },
  {
   "cell_type": "code",
   "execution_count": 23,
   "id": "d43c708e",
   "metadata": {},
   "outputs": [
    {
     "data": {
      "text/plain": [
       "array(['nyc, new york, usa', 'stockton, california, usa',\n",
       "       'moscow, yukon territory, russia', ...,\n",
       "       'sergnano, lombardia, italy', 'stranraer, n/a, united kingdom',\n",
       "       'tacoma, washington, united kingdom'], dtype=object)"
      ]
     },
     "execution_count": 23,
     "metadata": {},
     "output_type": "execute_result"
    }
   ],
   "source": [
    "users.location.unique()"
   ]
  },
  {
   "cell_type": "code",
   "execution_count": 24,
   "id": "29af4961",
   "metadata": {},
   "outputs": [
    {
     "data": {
      "text/plain": [
       "57339"
      ]
     },
     "execution_count": 24,
     "metadata": {},
     "output_type": "execute_result"
    }
   ],
   "source": [
    "users.location.nunique()"
   ]
  },
  {
   "cell_type": "markdown",
   "id": "f6cc9424",
   "metadata": {},
   "source": [
    "***57339 unique Value it's really hard to understand***\n",
    "***So lets create column Country***"
   ]
  },
  {
   "cell_type": "code",
   "execution_count": 25,
   "id": "c9c71fd3",
   "metadata": {},
   "outputs": [],
   "source": [
    "for i in users:\n",
    "    users['country']=users.location.str.extract(r'\\,+\\s?(\\w*\\s?\\w*)\\\"*$')   "
   ]
  },
  {
   "cell_type": "code",
   "execution_count": 26,
   "id": "d65141a8",
   "metadata": {},
   "outputs": [
    {
     "data": {
      "text/plain": [
       "529"
      ]
     },
     "execution_count": 26,
     "metadata": {},
     "output_type": "execute_result"
    }
   ],
   "source": [
    "users.country.nunique()"
   ]
  },
  {
   "cell_type": "code",
   "execution_count": 27,
   "id": "96b1d916",
   "metadata": {},
   "outputs": [],
   "source": [
    "#drop location column\n",
    "users.drop('location',axis=1,inplace=True)"
   ]
  },
  {
   "cell_type": "code",
   "execution_count": 28,
   "id": "6d85f653",
   "metadata": {},
   "outputs": [
    {
     "data": {
      "text/html": [
       "<div>\n",
       "<style scoped>\n",
       "    .dataframe tbody tr th:only-of-type {\n",
       "        vertical-align: middle;\n",
       "    }\n",
       "\n",
       "    .dataframe tbody tr th {\n",
       "        vertical-align: top;\n",
       "    }\n",
       "\n",
       "    .dataframe thead th {\n",
       "        text-align: right;\n",
       "    }\n",
       "</style>\n",
       "<table border=\"1\" class=\"dataframe\">\n",
       "  <thead>\n",
       "    <tr style=\"text-align: right;\">\n",
       "      <th></th>\n",
       "      <th>user_id</th>\n",
       "      <th>age</th>\n",
       "      <th>country</th>\n",
       "    </tr>\n",
       "  </thead>\n",
       "  <tbody>\n",
       "    <tr>\n",
       "      <th>0</th>\n",
       "      <td>1</td>\n",
       "      <td>NaN</td>\n",
       "      <td>usa</td>\n",
       "    </tr>\n",
       "    <tr>\n",
       "      <th>1</th>\n",
       "      <td>2</td>\n",
       "      <td>18.0</td>\n",
       "      <td>usa</td>\n",
       "    </tr>\n",
       "  </tbody>\n",
       "</table>\n",
       "</div>"
      ],
      "text/plain": [
       "   user_id   age country\n",
       "0        1   NaN     usa\n",
       "1        2  18.0     usa"
      ]
     },
     "execution_count": 28,
     "metadata": {},
     "output_type": "execute_result"
    }
   ],
   "source": [
    "users.head(2)"
   ]
  },
  {
   "cell_type": "code",
   "execution_count": 29,
   "id": "0041ee6d",
   "metadata": {},
   "outputs": [
    {
     "data": {
      "text/plain": [
       "user_id         0\n",
       "age        112230\n",
       "country       369\n",
       "dtype: int64"
      ]
     },
     "execution_count": 29,
     "metadata": {},
     "output_type": "execute_result"
    }
   ],
   "source": [
    "users.isnull().sum()"
   ]
  },
  {
   "cell_type": "code",
   "execution_count": 30,
   "id": "a3ac45cf",
   "metadata": {},
   "outputs": [],
   "source": [
    "users['country']=users['country'].astype('str')"
   ]
  },
  {
   "cell_type": "code",
   "execution_count": 31,
   "id": "5c9e0ece",
   "metadata": {},
   "outputs": [
    {
     "name": "stdout",
     "output_type": "stream",
     "text": [
      "['', '01776', '02458', '19104', '23232', '30064', '85021', '87510', '_ brasil', 'a', 'aaa', 'adsgfdr', 'afghanistan', 'ahrensburg', 'alachua', 'albania', 'alderney', 'algeria', 'algérie', 'allen', 'ama lurra', 'america', 'american samoa', 'andorra', 'angola', 'antarctica', 'aotearoa', 'argentina', 'armenia', 'aroostook', 'aruba', 'asturies', 'auckland', 'austbritania', 'australia', 'australii', 'austria', 'autralia', 'az', 'azerbaijan', 'bademn würtemberg', 'bahamas', 'bahrain', 'baltimore', 'bangladesh', 'barbados', 'basilicata', 'basque country', 'bavaria', 'baxter', 'bbbzzzzz', 'belarus', 'belgi', 'belgique', 'belgium', 'belize', 'bell', 'benin', 'berguedà', 'bermuda', 'bernalillo', 'bfe', 'bhutan', 'bih', 'bkk', 'bladen', 'bolivia', 'bosnia', 'botswana', 'brasil', 'brazil', 'brunei', 'brunei darussalam', 'bucks', 'bulgaria', 'buncombe', 'burkina faso', 'burkinafasu', 'burlington', 'burma', 'butler', 'c', 'cadd0', 'calabria', 'california', 'cambodia', 'camden', 'cameroon', 'can', 'canada', 'canada eh', 'cananda', 'canda', 'cape may', 'cape town', 'cape verde', 'caribbean sea', 'carter', 'cass', 'catalonia', 'catalunya', 'catalunya spain', 'cayman islands', 'chad', 'channel islands', 'cherokee', 'chian', 'chile', 'china', 'china öð¹ú', 'chinaöð¹ú', 'clackamas', 'clinton', 'cn', 'cnina', 'collin', 'colombia', 'comoros', 'congo', 'cook', 'copenhagen', 'costa rica', 'country', 'courtenay', 'croatia', 'csa', 'cuba', 'cyprus', 'czech republic', 'côte d', 'dauphin', 'davidson', 'de', 'dekalb', 'denmark', 'der', 'deutsches reich', 'deutschland', 'dfg', 'distrito federal', 'diy', 'djibouti', 'dominica', 'dominican republic', 'doodedoo', 'dublin', 'east africa', 'ecuador', 'effingham', 'egypt', 'el salvador', 'england', 'england uk', 'english', 'equatorial geuinea', 'eritrea', 'españa', 'essex', 'estonia', 'ethiopia', 'europa', 'europe', 'euskadi', 'euskal herria', 'evil empire', 'fairyland', 'faroe islands', 'ferrara', 'fifi', 'fiji', 'finland', 'fontana', 'fort bend', 'fortaleza', 'framingham', 'france', 'fred', 'frome', 'fulton', 'gabon', 'galiza', 'galiza neghra', 'gb', 'geermany', 'georgia', 'germany', 'germay', 'ghana', 'goteborg', 'granville', 'greece', 'grenada', 'guam', 'guatemala', 'guernsey', 'guinea', 'guyana', 'haiti', 'hamilton', 'hampden', 'harvatija', 'heaven', 'hennipen', 'henry', 'hernando', 'hidalgo', 'hillsborough', 'holland', 'holy see', 'honduras', 'hong kong', 'hongkong', 'hornyonic', 'houston', 'hungary', 'iceland', 'id', 'il canada', 'in', 'india', 'indiai', 'indonesia', 'input error', 'iran', 'iraq', 'ireland', 'israel', 'isreal', 'italia', 'italien', 'italy', 'itlay', 'jackson', 'jamaica', 'japan', 'jersey', 'johnson', 'jordan', 'k1c7b1', 'kazakhstan', 'kenya', 'kern', 'kiribati', 'korea', 'kosovo', 'ksa', 'kuwait', 'kyrgyzstan', 'kz', 'l', 'la argentina', 'la belgique', 'la france', 'la suisse', 'la svizzera', 'lake', 'lane', 'laos', 'latvia', 'lazio', 'le canada', 'le madagascar', 'lebanon', 'lecce', 'lee', 'lesotho', 'liaoning', 'liberia', 'libya', 'lithuania', 'liushi', 'livingston', 'lj', 'lkjlj', 'lleida', 'lombardia', 'london', 'lornsenland', 'luxembourg', 'macau', 'macedonia', 'madagascar', 'madrid', 'maine', 'malawi', 'malaysia', 'malaysian', 'maldives', 'mali', 'malta', 'maracopa', 'maricopa', 'maroc', 'marrion', 'marshall islands', 'mauritania', 'mauritius', 'mexico', 'micronesia', 'milano', 'minnehaha', 'missouri', 'moldova', 'monaco', 'mongolia', 'monroe', 'monterrey', 'mordor', 'morgan', 'morocco', 'mozambique', 'moçambique', 'my', 'myanmar', 'mérida', 'méxico', 'namibia', 'nan', 'nederlands', 'nepal', 'netherlands', 'netherlands antilles', 'neverland', 'new london', 'new zealand', 'newzealand', 'nh', 'nicaragua', 'niger', 'nigeria', 'nl', 'no more', 'none', 'north carolina', 'north korea', 'northern ireland', 'norway', 'nowhere', 'nrw', 'nyc', 'nyhamnsläge', 'nz', 'oakland', 'ohio', 'oman', 'onondaga nation', 'orange co', 'orense', 'osceola', 'ouranos', 'pa', 'pakistan', 'palau', 'palestine', 'palm beach', 'panama', 'paraguay', 'pasco', 'pender', 'peru', 'perãº', 'petrolwar nation', 'phila', 'philippine', 'philippines', 'philippinies', 'phillipines', 'phils', 'phippines', 'pinallas', 'pippo', 'pistlavakia', 'poland', 'polk', 'polska', 'portugal', 'pr', 'prc', 'prince william', 'pueblo', 'puerto rico', 'qatar', 'queensland', 'queenspark', 'quit', 'rapides', 'rice', 'richmond country', 'rmi', 'roma', 'romania', 'rosario', 'rosello', 'rsa', 'russia', 'russian federation', 'rutherford', 'rwanda', 'saint loius', 'saint lucia', 'saint luica', 'samoa', 'san bernardino', 'san franicsco', 'san marino', 'san mateo', 'santa barbara', 'sardegna', 'sardinia', 'saudi arabia', 'saudia arabia', 'scotland', 'senegal', 'serbia', 'shelby', 'sicilia', 'sierra leone', 'singapore', 'slo', 'slovak republik', 'slovakia', 'slovenia', 'smith', 'solano', 'solomon islands', 'somalia', 'somewherein space', 'south africa', 'south korea', 'space', 'spain', 'spotsylvania', 'sri lanka', 'srilanka', 'strongbadia', 'sudan', 'suisse', 'suriname', 'swaziland', 'swazilandia', 'sweden', 'switzerland', 'syria', 'taiwan', 'tajikistan', 'tanzania', 'tdzimi', 'texas', 'thailand', 'thailoand', 'the', 'the gambia', 'the netherlands', 'the philippines', 'thing', 'tobago', 'togo', 'tonga', 'toscana', 'travelling', 'trinidad', 'tunisia', 'turkei', 'turkey', 'turkmenistan', 'tyrtyrt', 'türkiye', 'u', 'u k', 'ua', 'uae', 'uganda', 'uk', 'ukrain', 'ukraine', 'unit', 'unite states', 'united kindgdom', 'united kindgonm', 'united kingdom', 'united sates', 'united staes', 'united state', 'united statea', 'united stated', 'united states', 'universe', 'unknown', 'urugua', 'uruguay', 'us', 'usa', 'ussurfing', 'ust', 'uusa', 'uyo', 'uzbekistan', 'valtesse', 'van wert', 'vanuatu', 'vatican city', 'venezuela', 'ventura', 'ventura county', 'vicenza', 'victoria', 'vietnam', 'vorce', 'wales', 'washtenaw', 'west yorkshire', 'whatcom', 'windham', 'wonderful usa', 'wood', 'worcester', 'x', 'xinyu', 'xxxxxx', 'yakima', 'yanhill', 'yemen', 'ysa', 'yugoslavia', 'yunling', 'z', 'zambia', 'zhengjiang', 'zimbabwe', 'öð¹ú']\n"
     ]
    }
   ],
   "source": [
    "a=list(users.country.unique())\n",
    "a = [x for x in a if x is not None]\n",
    "a.sort()\n",
    "print(a)"
   ]
  },
  {
   "cell_type": "code",
   "execution_count": 32,
   "id": "6cf4b8cd",
   "metadata": {},
   "outputs": [],
   "source": [
    "users['country'].replace(['','01776','02458','19104','23232','30064','85021','87510','alachua','america','austria','autralia','cananda','geermany','italia','united kindgonm','united sates','united staes','united state','united states','us'],\n",
    "                           ['other','usa','usa','usa','usa','usa','usa','usa','usa','usa','australia','australia','canada','germany','italy','united kingdom','usa','usa','usa','usa','usa'],inplace=True)"
   ]
  },
  {
   "cell_type": "code",
   "execution_count": 33,
   "id": "c93b7042",
   "metadata": {},
   "outputs": [
    {
     "data": {
      "text/plain": [
       "Text(0.5, 1.0, 'Count of users Country wise')"
      ]
     },
     "execution_count": 33,
     "metadata": {},
     "output_type": "execute_result"
    },
    {
     "data": {
      "image/png": "[encoded data removed]",
      "text/plain": [
       "<Figure size 1500x800 with 1 Axes>"
      ]
     },
     "metadata": {},
     "output_type": "display_data"
    }
   ],
   "source": [
    "plt.figure(figsize=(15, 8))\n",
    "sns.countplot(y='country',\n",
    "              data=users,\n",
    "              order=pd.value_counts(users['country']).iloc[:10].index)\n",
    "plt.title('Count of users Country wise')"
   ]
  },
  {
   "cell_type": "markdown",
   "id": "fa30e649",
   "metadata": {},
   "source": [
    "**Most number of users are from USA**\n",
    "***Let's treat outliers in users age***"
   ]
  },
  {
   "cell_type": "code",
   "execution_count": 34,
   "id": "b6aefab1",
   "metadata": {},
   "outputs": [
    {
     "data": {
      "text/plain": [
       "user_id         0\n",
       "age        112230\n",
       "country         0\n",
       "dtype: int64"
      ]
     },
     "execution_count": 34,
     "metadata": {},
     "output_type": "execute_result"
    }
   ],
   "source": [
    "users.isna().sum()"
   ]
  },
  {
   "cell_type": "code",
   "execution_count": 35,
   "id": "3c20a59e",
   "metadata": {},
   "outputs": [
    {
     "data": {
      "text/plain": [
       "Text(0.5, 1.0, 'Age Distribution plot')"
      ]
     },
     "execution_count": 35,
     "metadata": {},
     "output_type": "execute_result"
    },
    {
     "data": {
      "image/png": "[encoded data removed]",
      "text/plain": [
       "<Figure size 640x480 with 1 Axes>"
      ]
     },
     "metadata": {},
     "output_type": "display_data"
    }
   ],
   "source": [
    "sns.distplot(users.age)\n",
    "plt.title(\"Age Distribution plot\")"
   ]
  },
  {
   "cell_type": "code",
   "execution_count": 36,
   "id": "4997cb87",
   "metadata": {},
   "outputs": [],
   "source": [
    "users['age'] = users['age'].fillna(users.groupby('country')['age'].transform('median'))"
   ]
  },
  {
   "cell_type": "code",
   "execution_count": 37,
   "id": "039762a4",
   "metadata": {},
   "outputs": [
    {
     "data": {
      "text/plain": [
       "user_id      0\n",
       "age        277\n",
       "country      0\n",
       "dtype: int64"
      ]
     },
     "execution_count": 37,
     "metadata": {},
     "output_type": "execute_result"
    }
   ],
   "source": [
    "users.isna().sum()"
   ]
  },
  {
   "cell_type": "markdown",
   "id": "9dacdfb9",
   "metadata": {},
   "source": [
    "***Still we have 277 Nan values let's fill them with mean***"
   ]
  },
  {
   "cell_type": "code",
   "execution_count": 38,
   "id": "d213de2a",
   "metadata": {},
   "outputs": [],
   "source": [
    "users['age'].fillna(users.age.mean(),inplace=True)"
   ]
  },
  {
   "cell_type": "code",
   "execution_count": 39,
   "id": "35f57477",
   "metadata": {},
   "outputs": [
    {
     "data": {
      "text/plain": [
       "user_id    0\n",
       "age        0\n",
       "country    0\n",
       "dtype: int64"
      ]
     },
     "execution_count": 39,
     "metadata": {},
     "output_type": "execute_result"
    }
   ],
   "source": [
    "users.isna().sum()"
   ]
  },
  {
   "cell_type": "markdown",
   "id": "3e8e537d",
   "metadata": {},
   "source": [
    "### Books_Dataset"
   ]
  },
  {
   "cell_type": "code",
   "execution_count": 40,
   "id": "67530d6a",
   "metadata": {},
   "outputs": [
    {
     "data": {
      "text/html": [
       "<div>\n",
       "<style scoped>\n",
       "    .dataframe tbody tr th:only-of-type {\n",
       "        vertical-align: middle;\n",
       "    }\n",
       "\n",
       "    .dataframe tbody tr th {\n",
       "        vertical-align: top;\n",
       "    }\n",
       "\n",
       "    .dataframe thead th {\n",
       "        text-align: right;\n",
       "    }\n",
       "</style>\n",
       "<table border=\"1\" class=\"dataframe\">\n",
       "  <thead>\n",
       "    <tr style=\"text-align: right;\">\n",
       "      <th></th>\n",
       "      <th>ISBN</th>\n",
       "      <th>title</th>\n",
       "      <th>author</th>\n",
       "      <th>year</th>\n",
       "      <th>publisher</th>\n",
       "      <th>img_url</th>\n",
       "    </tr>\n",
       "  </thead>\n",
       "  <tbody>\n",
       "    <tr>\n",
       "      <th>0</th>\n",
       "      <td>0195153448</td>\n",
       "      <td>Classical Mythology</td>\n",
       "      <td>Mark P. O. Morford</td>\n",
       "      <td>2002</td>\n",
       "      <td>Oxford University Press</td>\n",
       "      <td>http://images.amazon.com/images/P/0195153448.0...</td>\n",
       "    </tr>\n",
       "    <tr>\n",
       "      <th>1</th>\n",
       "      <td>0002005018</td>\n",
       "      <td>Clara Callan</td>\n",
       "      <td>Richard Bruce Wright</td>\n",
       "      <td>2001</td>\n",
       "      <td>HarperFlamingo Canada</td>\n",
       "      <td>http://images.amazon.com/images/P/0002005018.0...</td>\n",
       "    </tr>\n",
       "  </tbody>\n",
       "</table>\n",
       "</div>"
      ],
      "text/plain": [
       "         ISBN                title                author  year  \\\n",
       "0  0195153448  Classical Mythology    Mark P. O. Morford  2002   \n",
       "1  0002005018         Clara Callan  Richard Bruce Wright  2001   \n",
       "\n",
       "                 publisher                                            img_url  \n",
       "0  Oxford University Press  http://images.amazon.com/images/P/0195153448.0...  \n",
       "1    HarperFlamingo Canada  http://images.amazon.com/images/P/0002005018.0...  "
      ]
     },
     "execution_count": 40,
     "metadata": {},
     "output_type": "execute_result"
    }
   ],
   "source": [
    "books.head(2)"
   ]
  },
  {
   "cell_type": "code",
   "execution_count": 41,
   "id": "682b808c",
   "metadata": {},
   "outputs": [
    {
     "data": {
      "text/plain": [
       "ISBN         object\n",
       "title        object\n",
       "author       object\n",
       "year         object\n",
       "publisher    object\n",
       "img_url      object\n",
       "dtype: object"
      ]
     },
     "execution_count": 41,
     "metadata": {},
     "output_type": "execute_result"
    }
   ],
   "source": [
    "books.dtypes"
   ]
  },
  {
   "cell_type": "code",
   "execution_count": 42,
   "id": "c6fc41a6",
   "metadata": {},
   "outputs": [
    {
     "name": "stdout",
     "output_type": "stream",
     "text": [
      "['0', '1376', '1378', '1806', '1897', '1900', '1901', '1902', '1904', '1906', '1908', '1909', '1910', '1911', '1914', '1917', '1919', '1920', '1921', '1922', '1923', '1924', '1925', '1926', '1927', '1928', '1929', '1930', '1931', '1932', '1933', '1934', '1935', '1936', '1937', '1938', '1939', '1940', '1941', '1942', '1943', '1944', '1945', '1946', '1947', '1948', '1949', '1950', '1951', '1952', '1953', '1954', '1955', '1956', '1957', '1958', '1959', '1960', '1961', '1962', '1963', '1964', '1965', '1966', '1967', '1968', '1969', '1970', '1971', '1972', '1973', '1974', '1975', '1976', '1977', '1978', '1979', '1980', '1981', '1982', '1983', '1984', '1985', '1986', '1987', '1988', '1989', '1990', '1991', '1992', '1993', '1994', '1995', '1996', '1997', '1998', '1999', '2000', '2001', '2002', '2003', '2004', '2005', '2006', '2008', '2010', '2011', '2012', '2020', '2021', '2024', '2026', '2030', '2037', '2038', '2050', 'DK Publishing Inc', 'Gallimard']\n"
     ]
    }
   ],
   "source": [
    "books['year']=books['year'].astype('str')\n",
    "a=list(books['year'].unique())\n",
    "\n",
    "a = [x for x in a if x is not None]\n",
    "a.sort()\n",
    "print(a)"
   ]
  },
  {
   "cell_type": "code",
   "execution_count": 43,
   "id": "7b0e5c68",
   "metadata": {},
   "outputs": [
    {
     "data": {
      "text/html": [
       "<div>\n",
       "<style scoped>\n",
       "    .dataframe tbody tr th:only-of-type {\n",
       "        vertical-align: middle;\n",
       "    }\n",
       "\n",
       "    .dataframe tbody tr th {\n",
       "        vertical-align: top;\n",
       "    }\n",
       "\n",
       "    .dataframe thead th {\n",
       "        text-align: right;\n",
       "    }\n",
       "</style>\n",
       "<table border=\"1\" class=\"dataframe\">\n",
       "  <thead>\n",
       "    <tr style=\"text-align: right;\">\n",
       "      <th></th>\n",
       "      <th>ISBN</th>\n",
       "      <th>title</th>\n",
       "      <th>author</th>\n",
       "      <th>year</th>\n",
       "      <th>publisher</th>\n",
       "      <th>img_url</th>\n",
       "    </tr>\n",
       "  </thead>\n",
       "  <tbody>\n",
       "    <tr>\n",
       "      <th>209538</th>\n",
       "      <td>078946697X</td>\n",
       "      <td>DK Readers: Creating the X-Men, How It All Beg...</td>\n",
       "      <td>2000</td>\n",
       "      <td>DK Publishing Inc</td>\n",
       "      <td>http://images.amazon.com/images/P/078946697X.0...</td>\n",
       "      <td>NaN</td>\n",
       "    </tr>\n",
       "    <tr>\n",
       "      <th>221678</th>\n",
       "      <td>0789466953</td>\n",
       "      <td>DK Readers: Creating the X-Men, How Comic Book...</td>\n",
       "      <td>2000</td>\n",
       "      <td>DK Publishing Inc</td>\n",
       "      <td>http://images.amazon.com/images/P/0789466953.0...</td>\n",
       "      <td>NaN</td>\n",
       "    </tr>\n",
       "  </tbody>\n",
       "</table>\n",
       "</div>"
      ],
      "text/plain": [
       "              ISBN                                              title author  \\\n",
       "209538  078946697X  DK Readers: Creating the X-Men, How It All Beg...   2000   \n",
       "221678  0789466953  DK Readers: Creating the X-Men, How Comic Book...   2000   \n",
       "\n",
       "                     year                                          publisher  \\\n",
       "209538  DK Publishing Inc  http://images.amazon.com/images/P/078946697X.0...   \n",
       "221678  DK Publishing Inc  http://images.amazon.com/images/P/0789466953.0...   \n",
       "\n",
       "       img_url  \n",
       "209538     NaN  \n",
       "221678     NaN  "
      ]
     },
     "execution_count": 43,
     "metadata": {},
     "output_type": "execute_result"
    }
   ],
   "source": [
    "    #investigating the rows having 'DK Publishing Inc' as yearOfPublication\n",
    "    books.loc[books['year'] == 'DK Publishing Inc',:]"
   ]
  },
  {
   "cell_type": "markdown",
   "id": "bff7fddd",
   "metadata": {},
   "source": [
    "***As it can be seen from above that there are some incorrect entries in Year field. It looks like Publisher names 'DK Publishing Inc' and 'Gallimard' have been incorrectly loaded as Year-Of-Publication in dataset due to some errors in csv file***"
   ]
  },
  {
   "cell_type": "code",
   "execution_count": 44,
   "id": "afca2112",
   "metadata": {},
   "outputs": [
    {
     "data": {
      "text/html": [
       "<div>\n",
       "<style scoped>\n",
       "    .dataframe tbody tr th:only-of-type {\n",
       "        vertical-align: middle;\n",
       "    }\n",
       "\n",
       "    .dataframe tbody tr th {\n",
       "        vertical-align: top;\n",
       "    }\n",
       "\n",
       "    .dataframe thead th {\n",
       "        text-align: right;\n",
       "    }\n",
       "</style>\n",
       "<table border=\"1\" class=\"dataframe\">\n",
       "  <thead>\n",
       "    <tr style=\"text-align: right;\">\n",
       "      <th></th>\n",
       "      <th>ISBN</th>\n",
       "      <th>title</th>\n",
       "      <th>author</th>\n",
       "      <th>year</th>\n",
       "      <th>publisher</th>\n",
       "      <th>img_url</th>\n",
       "    </tr>\n",
       "  </thead>\n",
       "  <tbody>\n",
       "    <tr>\n",
       "      <th>209538</th>\n",
       "      <td>078946697X</td>\n",
       "      <td>DK Readers: Creating the X-Men, How It All Beg...</td>\n",
       "      <td>Michael Teitelbaum</td>\n",
       "      <td>2000</td>\n",
       "      <td>DK Publishing Inc</td>\n",
       "      <td>NaN</td>\n",
       "    </tr>\n",
       "    <tr>\n",
       "      <th>221678</th>\n",
       "      <td>0789466953</td>\n",
       "      <td>DK Readers: Creating the X-Men, How Comic Book...</td>\n",
       "      <td>James Buckley</td>\n",
       "      <td>2000</td>\n",
       "      <td>DK Publishing Inc</td>\n",
       "      <td>NaN</td>\n",
       "    </tr>\n",
       "  </tbody>\n",
       "</table>\n",
       "</div>"
      ],
      "text/plain": [
       "              ISBN                                              title  \\\n",
       "209538  078946697X  DK Readers: Creating the X-Men, How It All Beg...   \n",
       "221678  0789466953  DK Readers: Creating the X-Men, How Comic Book...   \n",
       "\n",
       "                    author  year          publisher img_url  \n",
       "209538  Michael Teitelbaum  2000  DK Publishing Inc     NaN  \n",
       "221678       James Buckley  2000  DK Publishing Inc     NaN  "
      ]
     },
     "execution_count": 44,
     "metadata": {},
     "output_type": "execute_result"
    }
   ],
   "source": [
    "#From above, it is seen that bookAuthor is incorrectly loaded with bookTitle, hence making required corrections\n",
    "#ISBN '0789466953'\n",
    "books.loc[books.ISBN == '0789466953','year'] = 2000\n",
    "books.loc[books.ISBN == '0789466953','author'] = \"James Buckley\"\n",
    "books.loc[books.ISBN == '0789466953','publisher'] = \"DK Publishing Inc\"\n",
    "books.loc[books.ISBN == '0789466953','title'] = \"DK Readers: Creating the X-Men, How Comic Books Come to Life (Level 4: Proficient Readers)\"\n",
    "\n",
    "#ISBN '078946697X'\n",
    "books.loc[books.ISBN == '078946697X','year'] = 2000\n",
    "books.loc[books.ISBN == '078946697X','author'] = \"Michael Teitelbaum\"\n",
    "books.loc[books.ISBN == '078946697X','publisher'] = \"DK Publishing Inc\"\n",
    "books.loc[books.ISBN == '078946697X','title'] = \"DK Readers: Creating the X-Men, How It All Began (Level 4: Proficient Readers)\"\n",
    "\n",
    "#rechecking\n",
    "books.loc[(books.ISBN == '0789466953') | (books.ISBN == '078946697X'),:]"
   ]
  },
  {
   "cell_type": "code",
   "execution_count": 45,
   "id": "d92a275f",
   "metadata": {
    "scrolled": true
   },
   "outputs": [
    {
     "data": {
      "text/html": [
       "<div>\n",
       "<style scoped>\n",
       "    .dataframe tbody tr th:only-of-type {\n",
       "        vertical-align: middle;\n",
       "    }\n",
       "\n",
       "    .dataframe tbody tr th {\n",
       "        vertical-align: top;\n",
       "    }\n",
       "\n",
       "    .dataframe thead th {\n",
       "        text-align: right;\n",
       "    }\n",
       "</style>\n",
       "<table border=\"1\" class=\"dataframe\">\n",
       "  <thead>\n",
       "    <tr style=\"text-align: right;\">\n",
       "      <th></th>\n",
       "      <th>ISBN</th>\n",
       "      <th>title</th>\n",
       "      <th>author</th>\n",
       "      <th>year</th>\n",
       "      <th>publisher</th>\n",
       "      <th>img_url</th>\n",
       "    </tr>\n",
       "  </thead>\n",
       "  <tbody>\n",
       "    <tr>\n",
       "      <th>220731</th>\n",
       "      <td>2070426769</td>\n",
       "      <td>Peuple du ciel, suivi de 'Les Bergers\\\";Jean-M...</td>\n",
       "      <td>2003</td>\n",
       "      <td>Gallimard</td>\n",
       "      <td>http://images.amazon.com/images/P/2070426769.0...</td>\n",
       "      <td>NaN</td>\n",
       "    </tr>\n",
       "  </tbody>\n",
       "</table>\n",
       "</div>"
      ],
      "text/plain": [
       "              ISBN                                              title author  \\\n",
       "220731  2070426769  Peuple du ciel, suivi de 'Les Bergers\\\";Jean-M...   2003   \n",
       "\n",
       "             year                                          publisher img_url  \n",
       "220731  Gallimard  http://images.amazon.com/images/P/2070426769.0...     NaN  "
      ]
     },
     "execution_count": 45,
     "metadata": {},
     "output_type": "execute_result"
    }
   ],
   "source": [
    "#investigating the rows having 'Gallimard' as yearOfPublication\n",
    "books.loc[books['year'] == 'Gallimard',:]"
   ]
  },
  {
   "cell_type": "code",
   "execution_count": 46,
   "id": "f7ade884",
   "metadata": {},
   "outputs": [
    {
     "data": {
      "text/html": [
       "<div>\n",
       "<style scoped>\n",
       "    .dataframe tbody tr th:only-of-type {\n",
       "        vertical-align: middle;\n",
       "    }\n",
       "\n",
       "    .dataframe tbody tr th {\n",
       "        vertical-align: top;\n",
       "    }\n",
       "\n",
       "    .dataframe thead th {\n",
       "        text-align: right;\n",
       "    }\n",
       "</style>\n",
       "<table border=\"1\" class=\"dataframe\">\n",
       "  <thead>\n",
       "    <tr style=\"text-align: right;\">\n",
       "      <th></th>\n",
       "      <th>ISBN</th>\n",
       "      <th>title</th>\n",
       "      <th>author</th>\n",
       "      <th>year</th>\n",
       "      <th>publisher</th>\n",
       "      <th>img_url</th>\n",
       "    </tr>\n",
       "  </thead>\n",
       "  <tbody>\n",
       "    <tr>\n",
       "      <th>220731</th>\n",
       "      <td>2070426769</td>\n",
       "      <td>Peuple du ciel, suivi de 'Les Bergers</td>\n",
       "      <td>Jean-Marie Gustave Le ClÃ?Â©zio</td>\n",
       "      <td>2003</td>\n",
       "      <td>Gallimard</td>\n",
       "      <td>NaN</td>\n",
       "    </tr>\n",
       "  </tbody>\n",
       "</table>\n",
       "</div>"
      ],
      "text/plain": [
       "              ISBN                                  title  \\\n",
       "220731  2070426769  Peuple du ciel, suivi de 'Les Bergers   \n",
       "\n",
       "                                 author  year  publisher img_url  \n",
       "220731  Jean-Marie Gustave Le ClÃ?Â©zio  2003  Gallimard     NaN  "
      ]
     },
     "execution_count": 46,
     "metadata": {},
     "output_type": "execute_result"
    }
   ],
   "source": [
    "#making required corrections as above, keeping other fields intact\n",
    "books.loc[books.ISBN == '2070426769','year'] = 2003\n",
    "books.loc[books.ISBN == '2070426769','author'] = \"Jean-Marie Gustave Le ClÃ?Â©zio\"\n",
    "books.loc[books.ISBN == '2070426769','publisher'] = \"Gallimard\"\n",
    "books.loc[books.ISBN == '2070426769','title'] = \"Peuple du ciel, suivi de 'Les Bergers\"\n",
    "\n",
    "\n",
    "books.loc[books.ISBN == '2070426769',:]"
   ]
  },
  {
   "cell_type": "code",
   "execution_count": 47,
   "id": "10e12133",
   "metadata": {},
   "outputs": [
    {
     "name": "stdout",
     "output_type": "stream",
     "text": [
      "[0, 1376, 1378, 1806, 1897, 1900, 1901, 1902, 1904, 1906, 1908, 1909, 1910, 1911, 1914, 1917, 1919, 1920, 1921, 1922, 1923, 1924, 1925, 1926, 1927, 1928, 1929, 1930, 1931, 1932, 1933, 1934, 1935, 1936, 1937, 1938, 1939, 1940, 1941, 1942, 1943, 1944, 1945, 1946, 1947, 1948, 1949, 1950, 1951, 1952, 1953, 1954, 1955, 1956, 1957, 1958, 1959, 1960, 1961, 1962, 1963, 1964, 1965, 1966, 1967, 1968, 1969, 1970, 1971, 1972, 1973, 1974, 1975, 1976, 1977, 1978, 1979, 1980, 1981, 1982, 1983, 1984, 1985, 1986, 1987, 1988, 1989, 1990, 1991, 1992, 1993, 1994, 1995, 1996, 1997, 1998, 1999, 2000, 2001, 2002, 2003, 2004, 2005, 2006, 2008, 2010, 2011, 2012, 2020, 2021, 2024, 2026, 2030, 2037, 2038, 2050]\n"
     ]
    }
   ],
   "source": [
    "books['year']=pd.to_numeric(books['year'], errors='coerce')\n",
    "\n",
    "print(sorted(books['year'].unique()))\n",
    "#Now it can be seen that yearOfPublication has all values as integers"
   ]
  },
  {
   "cell_type": "markdown",
   "id": "b50949ca",
   "metadata": {},
   "source": [
    "***The value 0 for Year is invalid  We have assumed that the years after 2021 to be invalid and setting invalid years as NaN***"
   ]
  },
  {
   "cell_type": "code",
   "execution_count": 48,
   "id": "bae45672",
   "metadata": {},
   "outputs": [],
   "source": [
    "books.loc[(books['year'] > 2021) | (books['year'] == 0),'year'] = np.NAN\n",
    "\n",
    "#replacing NaNs with median value of Year-Of-Publication\n",
    "books['year'].fillna(round(books['year'].median()), inplace=True)"
   ]
  },
  {
   "cell_type": "code",
   "execution_count": 49,
   "id": "401695d8",
   "metadata": {},
   "outputs": [
    {
     "data": {
      "text/plain": [
       "ISBN         0\n",
       "title        0\n",
       "author       1\n",
       "year         0\n",
       "publisher    2\n",
       "img_url      3\n",
       "dtype: int64"
      ]
     },
     "execution_count": 49,
     "metadata": {},
     "output_type": "execute_result"
    }
   ],
   "source": [
    "books.isna().sum()"
   ]
  },
  {
   "cell_type": "code",
   "execution_count": 50,
   "id": "39d4dcb3",
   "metadata": {},
   "outputs": [
    {
     "data": {
      "text/html": [
       "<div>\n",
       "<style scoped>\n",
       "    .dataframe tbody tr th:only-of-type {\n",
       "        vertical-align: middle;\n",
       "    }\n",
       "\n",
       "    .dataframe tbody tr th {\n",
       "        vertical-align: top;\n",
       "    }\n",
       "\n",
       "    .dataframe thead th {\n",
       "        text-align: right;\n",
       "    }\n",
       "</style>\n",
       "<table border=\"1\" class=\"dataframe\">\n",
       "  <thead>\n",
       "    <tr style=\"text-align: right;\">\n",
       "      <th></th>\n",
       "      <th>ISBN</th>\n",
       "      <th>title</th>\n",
       "      <th>author</th>\n",
       "      <th>year</th>\n",
       "      <th>publisher</th>\n",
       "      <th>img_url</th>\n",
       "    </tr>\n",
       "  </thead>\n",
       "  <tbody>\n",
       "    <tr>\n",
       "      <th>128890</th>\n",
       "      <td>193169656X</td>\n",
       "      <td>Tyrant Moon</td>\n",
       "      <td>Elaine Corvidae</td>\n",
       "      <td>2002.0</td>\n",
       "      <td>NaN</td>\n",
       "      <td>http://images.amazon.com/images/P/193169656X.0...</td>\n",
       "    </tr>\n",
       "    <tr>\n",
       "      <th>129037</th>\n",
       "      <td>1931696993</td>\n",
       "      <td>Finders Keepers</td>\n",
       "      <td>Linnea Sinclair</td>\n",
       "      <td>2001.0</td>\n",
       "      <td>NaN</td>\n",
       "      <td>http://images.amazon.com/images/P/1931696993.0...</td>\n",
       "    </tr>\n",
       "  </tbody>\n",
       "</table>\n",
       "</div>"
      ],
      "text/plain": [
       "              ISBN            title           author    year publisher  \\\n",
       "128890  193169656X      Tyrant Moon  Elaine Corvidae  2002.0       NaN   \n",
       "129037  1931696993  Finders Keepers  Linnea Sinclair  2001.0       NaN   \n",
       "\n",
       "                                                  img_url  \n",
       "128890  http://images.amazon.com/images/P/193169656X.0...  \n",
       "129037  http://images.amazon.com/images/P/1931696993.0...  "
      ]
     },
     "execution_count": 50,
     "metadata": {},
     "output_type": "execute_result"
    }
   ],
   "source": [
    "#exploring 'publisher' column\n",
    "books.loc[books.publisher.isnull(),:]\n",
    "#two NaNs"
   ]
  },
  {
   "cell_type": "code",
   "execution_count": 51,
   "id": "23716755",
   "metadata": {},
   "outputs": [],
   "source": [
    "#Filling Nan of Publisher with others\n",
    "books.publisher.fillna('Novelbooks Inc',inplace=True)"
   ]
  },
  {
   "cell_type": "code",
   "execution_count": 52,
   "id": "2dd50dfc",
   "metadata": {},
   "outputs": [
    {
     "data": {
      "text/html": [
       "<div>\n",
       "<style scoped>\n",
       "    .dataframe tbody tr th:only-of-type {\n",
       "        vertical-align: middle;\n",
       "    }\n",
       "\n",
       "    .dataframe tbody tr th {\n",
       "        vertical-align: top;\n",
       "    }\n",
       "\n",
       "    .dataframe thead th {\n",
       "        text-align: right;\n",
       "    }\n",
       "</style>\n",
       "<table border=\"1\" class=\"dataframe\">\n",
       "  <thead>\n",
       "    <tr style=\"text-align: right;\">\n",
       "      <th></th>\n",
       "      <th>ISBN</th>\n",
       "      <th>title</th>\n",
       "      <th>author</th>\n",
       "      <th>year</th>\n",
       "      <th>publisher</th>\n",
       "      <th>img_url</th>\n",
       "    </tr>\n",
       "  </thead>\n",
       "  <tbody>\n",
       "    <tr>\n",
       "      <th>187689</th>\n",
       "      <td>9627982032</td>\n",
       "      <td>The Credit Suisse Guide to Managing Your Perso...</td>\n",
       "      <td>NaN</td>\n",
       "      <td>1995.0</td>\n",
       "      <td>Edinburgh Financial Publishing</td>\n",
       "      <td>http://images.amazon.com/images/P/9627982032.0...</td>\n",
       "    </tr>\n",
       "  </tbody>\n",
       "</table>\n",
       "</div>"
      ],
      "text/plain": [
       "              ISBN                                              title author  \\\n",
       "187689  9627982032  The Credit Suisse Guide to Managing Your Perso...    NaN   \n",
       "\n",
       "          year                       publisher  \\\n",
       "187689  1995.0  Edinburgh Financial Publishing   \n",
       "\n",
       "                                                  img_url  \n",
       "187689  http://images.amazon.com/images/P/9627982032.0...  "
      ]
     },
     "execution_count": 52,
     "metadata": {},
     "output_type": "execute_result"
    }
   ],
   "source": [
    "#exploring 'Book-Author' column\n",
    "books.loc[books['author'].isnull(),:]"
   ]
  },
  {
   "cell_type": "code",
   "execution_count": 53,
   "id": "c5b14fac",
   "metadata": {},
   "outputs": [],
   "source": [
    "#Filling Nan of author with author's name\n",
    "books['author'].fillna('Larissa Anne',inplace=True)"
   ]
  },
  {
   "cell_type": "code",
   "execution_count": 54,
   "id": "de6b2554",
   "metadata": {},
   "outputs": [
    {
     "data": {
      "text/plain": [
       "ISBN         0\n",
       "title        0\n",
       "author       0\n",
       "year         0\n",
       "publisher    0\n",
       "img_url      3\n",
       "dtype: int64"
      ]
     },
     "execution_count": 54,
     "metadata": {},
     "output_type": "execute_result"
    }
   ],
   "source": [
    "books.isna().sum()"
   ]
  },
  {
   "cell_type": "code",
   "execution_count": 55,
   "id": "12a801f2",
   "metadata": {},
   "outputs": [
    {
     "data": {
      "text/plain": [
       "ISBN         0\n",
       "title        0\n",
       "author       0\n",
       "year         0\n",
       "publisher    0\n",
       "img_url      0\n",
       "dtype: int64"
      ]
     },
     "execution_count": 55,
     "metadata": {},
     "output_type": "execute_result"
    }
   ],
   "source": [
    "books.dropna(inplace=True)\n",
    "books.isna().sum()"
   ]
  },
  {
   "cell_type": "code",
   "execution_count": 56,
   "id": "be9b3683",
   "metadata": {},
   "outputs": [
    {
     "data": {
      "text/plain": [
       "ISBN          object\n",
       "title         object\n",
       "author        object\n",
       "year         float64\n",
       "publisher     object\n",
       "img_url       object\n",
       "dtype: object"
      ]
     },
     "execution_count": 56,
     "metadata": {},
     "output_type": "execute_result"
    }
   ],
   "source": [
    "books.dtypes"
   ]
  },
  {
   "cell_type": "code",
   "execution_count": 57,
   "id": "303e60ff",
   "metadata": {},
   "outputs": [
    {
     "data": {
      "text/plain": [
       "<AxesSubplot:>"
      ]
     },
     "execution_count": 57,
     "metadata": {},
     "output_type": "execute_result"
    },
    {
     "data": {
      "image/png": "[encoded data removed]",
      "text/plain": [
       "<Figure size 640x480 with 2 Axes>"
      ]
     },
     "metadata": {},
     "output_type": "display_data"
    }
   ],
   "source": [
    "sns.heatmap(books.isnull(),cmap='viridis')"
   ]
  },
  {
   "cell_type": "code",
   "execution_count": 58,
   "id": "837716ba",
   "metadata": {},
   "outputs": [
    {
     "data": {
      "text/plain": [
       "<AxesSubplot:xlabel='year', ylabel='Density'>"
      ]
     },
     "execution_count": 58,
     "metadata": {},
     "output_type": "execute_result"
    },
    {
     "data": {
      "image/png": "[encoded data removed]",
      "text/plain": [
       "<Figure size 640x480 with 1 Axes>"
      ]
     },
     "metadata": {},
     "output_type": "display_data"
    }
   ],
   "source": [
    "sns.distplot(books['year'])"
   ]
  },
  {
   "cell_type": "markdown",
   "id": "7be6d961",
   "metadata": {},
   "source": [
    "***Here we can see that year 2000 has most number of books***"
   ]
  },
  {
   "cell_type": "code",
   "execution_count": 59,
   "id": "04aac825",
   "metadata": {},
   "outputs": [
    {
     "data": {
      "text/plain": [
       "Text(0.5, 1.0, 'Top 15 years of books published')"
      ]
     },
     "execution_count": 59,
     "metadata": {},
     "output_type": "execute_result"
    },
    {
     "data": {
      "image/png": "[encoded data removed]",
      "text/plain": [
       "<Figure size 1500x1000 with 1 Axes>"
      ]
     },
     "metadata": {},
     "output_type": "display_data"
    }
   ],
   "source": [
    "plt.figure(figsize=(15, 10))\n",
    "sns.countplot(y='year',\n",
    "              data=books,\n",
    "              order=pd.value_counts(books['year']).iloc[:15].index)\n",
    "plt.title('Top 15 years of books published')"
   ]
  },
  {
   "cell_type": "markdown",
   "id": "bcefe9c9",
   "metadata": {},
   "source": [
    "***Here we can see in 2002 most number of books were published***"
   ]
  },
  {
   "cell_type": "code",
   "execution_count": 60,
   "id": "6badec19",
   "metadata": {},
   "outputs": [
    {
     "data": {
      "text/plain": [
       "Text(0.5, 1.0, 'Authors with most number of books')"
      ]
     },
     "execution_count": 60,
     "metadata": {},
     "output_type": "execute_result"
    },
    {
     "data": {
      "image/png": "[encoded data removed]",
      "text/plain": [
       "<Figure size 1500x1000 with 1 Axes>"
      ]
     },
     "metadata": {},
     "output_type": "display_data"
    }
   ],
   "source": [
    "plt.figure(figsize=(15, 10))\n",
    "sns.countplot(y='author',\n",
    "              data=books,\n",
    "              order=pd.value_counts(books['author']).iloc[:10].index)\n",
    "plt.title('Authors with most number of books')"
   ]
  },
  {
   "cell_type": "code",
   "execution_count": 61,
   "id": "576e2a5f",
   "metadata": {},
   "outputs": [
    {
     "data": {
      "image/png": "[encoded data removed]",
      "text/plain": [
       "<Figure size 1500x800 with 1 Axes>"
      ]
     },
     "metadata": {},
     "output_type": "display_data"
    }
   ],
   "source": [
    "# Top 10 Publisher which have published the most books\n",
    "\n",
    "plt.figure(figsize=(15, 8))\n",
    "sns.countplot(data=books,\n",
    "              y='publisher',\n",
    "              order=pd.value_counts(books['publisher']).iloc[:10].index)\n",
    "plt.title('Top 10 Publisher')\n",
    "plt.show()"
   ]
  },
  {
   "cell_type": "code",
   "execution_count": 62,
   "id": "5e0b855c",
   "metadata": {},
   "outputs": [
    {
     "data": {
      "image/png": "[encoded data removed]",
      "text/plain": [
       "<Figure size 1500x800 with 1 Axes>"
      ]
     },
     "metadata": {},
     "output_type": "display_data"
    }
   ],
   "source": [
    "# Top 10 Title which have written the most books\n",
    "\n",
    "plt.figure(figsize=(15, 8))\n",
    "sns.countplot(data=books,\n",
    "              y='title',\n",
    "              order=pd.value_counts(books['title']).iloc[:10].index)\n",
    "plt.title('Top 10 Title')\n",
    "plt.show()"
   ]
  },
  {
   "cell_type": "markdown",
   "id": "fae82dd8",
   "metadata": {},
   "source": [
    "### Ratings_Dataset"
   ]
  },
  {
   "cell_type": "code",
   "execution_count": 63,
   "id": "1133dc4a",
   "metadata": {},
   "outputs": [
    {
     "data": {
      "text/html": [
       "<div>\n",
       "<style scoped>\n",
       "    .dataframe tbody tr th:only-of-type {\n",
       "        vertical-align: middle;\n",
       "    }\n",
       "\n",
       "    .dataframe tbody tr th {\n",
       "        vertical-align: top;\n",
       "    }\n",
       "\n",
       "    .dataframe thead th {\n",
       "        text-align: right;\n",
       "    }\n",
       "</style>\n",
       "<table border=\"1\" class=\"dataframe\">\n",
       "  <thead>\n",
       "    <tr style=\"text-align: right;\">\n",
       "      <th></th>\n",
       "      <th>user_id</th>\n",
       "      <th>ISBN</th>\n",
       "      <th>rating</th>\n",
       "    </tr>\n",
       "  </thead>\n",
       "  <tbody>\n",
       "    <tr>\n",
       "      <th>0</th>\n",
       "      <td>276725</td>\n",
       "      <td>034545104X</td>\n",
       "      <td>0</td>\n",
       "    </tr>\n",
       "    <tr>\n",
       "      <th>1</th>\n",
       "      <td>276726</td>\n",
       "      <td>0155061224</td>\n",
       "      <td>5</td>\n",
       "    </tr>\n",
       "  </tbody>\n",
       "</table>\n",
       "</div>"
      ],
      "text/plain": [
       "   user_id        ISBN  rating\n",
       "0   276725  034545104X       0\n",
       "1   276726  0155061224       5"
      ]
     },
     "execution_count": 63,
     "metadata": {},
     "output_type": "execute_result"
    }
   ],
   "source": [
    "ratings.head(2)"
   ]
  },
  {
   "cell_type": "markdown",
   "id": "a2977f00",
   "metadata": {},
   "source": [
    "**Ratings dataset should have books only which exist in our books dataset**"
   ]
  },
  {
   "cell_type": "code",
   "execution_count": 64,
   "id": "e389717a",
   "metadata": {},
   "outputs": [
    {
     "data": {
      "text/plain": [
       "((1149780, 3), (1031132, 3))"
      ]
     },
     "execution_count": 64,
     "metadata": {},
     "output_type": "execute_result"
    }
   ],
   "source": [
    "ratings_new = ratings[ratings.ISBN.isin(books.ISBN)]\n",
    "ratings.shape,ratings_new.shape"
   ]
  },
  {
   "cell_type": "markdown",
   "id": "387d7ceb",
   "metadata": {},
   "source": [
    "**It can be seen that many rows having book ISBN not part of books dataset got dropped off**\n",
    "\n",
    "**Ratings dataset should have ratings from users which exist in users dataset.**"
   ]
  },
  {
   "cell_type": "code",
   "execution_count": 65,
   "id": "ec36e304",
   "metadata": {},
   "outputs": [
    {
     "name": "stdout",
     "output_type": "stream",
     "text": [
      "Shape of dataset before dropping (1031132, 3)\n",
      "shape of dataset after dropping (1031132, 3)\n"
     ]
    }
   ],
   "source": [
    "print(\"Shape of dataset before dropping\",ratings_new.shape)\n",
    "\n",
    "ratings_new = ratings_new[ratings_new['user_id'].isin(users['user_id'])]\n",
    "print(\"shape of dataset after dropping\",ratings_new.shape)"
   ]
  },
  {
   "cell_type": "markdown",
   "id": "890225aa",
   "metadata": {},
   "source": [
    "**It can be seen that no new user was there in ratings dataset.**"
   ]
  },
  {
   "cell_type": "code",
   "execution_count": 66,
   "id": "26df7b7d",
   "metadata": {},
   "outputs": [
    {
     "data": {
      "text/plain": [
       "user_id    0\n",
       "ISBN       0\n",
       "rating     0\n",
       "dtype: int64"
      ]
     },
     "execution_count": 66,
     "metadata": {},
     "output_type": "execute_result"
    }
   ],
   "source": [
    "ratings_new.isna().sum()"
   ]
  },
  {
   "cell_type": "code",
   "execution_count": 67,
   "id": "6c67ba6b",
   "metadata": {},
   "outputs": [
    {
     "data": {
      "text/plain": [
       "<AxesSubplot:>"
      ]
     },
     "execution_count": 67,
     "metadata": {},
     "output_type": "execute_result"
    },
    {
     "data": {
      "image/png": "[encoded data removed]",
      "text/plain": [
       "<Figure size 640x480 with 2 Axes>"
      ]
     },
     "metadata": {},
     "output_type": "display_data"
    }
   ],
   "source": [
    "sns.heatmap(ratings.isnull(),cmap='viridis')"
   ]
  },
  {
   "cell_type": "code",
   "execution_count": 68,
   "id": "1816f9ad",
   "metadata": {},
   "outputs": [
    {
     "data": {
      "text/plain": [
       "array([ 0,  5,  3,  6,  8,  7, 10,  9,  4,  1,  2], dtype=int64)"
      ]
     },
     "execution_count": 68,
     "metadata": {},
     "output_type": "execute_result"
    }
   ],
   "source": [
    "ratings.rating.unique()"
   ]
  },
  {
   "cell_type": "code",
   "execution_count": 69,
   "id": "704d6118",
   "metadata": {
    "scrolled": false
   },
   "outputs": [
    {
     "data": {
      "text/plain": [
       "Text(0, 0.5, 'Count')"
      ]
     },
     "execution_count": 69,
     "metadata": {},
     "output_type": "execute_result"
    },
    {
     "data": {
      "image/png": "[encoded data removed]",
      "text/plain": [
       "<Figure size 1000x400 with 1 Axes>"
      ]
     },
     "metadata": {},
     "output_type": "display_data"
    }
   ],
   "source": [
    "plt.style.use('dark_background')\n",
    "plt.figure(figsize=(10, 4))\n",
    "sns.countplot(data=ratings, x='rating',palette='coolwarm')\n",
    "plt.title('Book Rating Distribution')\n",
    "plt.ylabel('Count')"
   ]
  },
  {
   "cell_type": "markdown",
   "id": "c5df47c0",
   "metadata": {},
   "source": [
    "**Most of the Rating are '0'**"
   ]
  },
  {
   "cell_type": "markdown",
   "id": "e5bb006c",
   "metadata": {},
   "source": [
    "***The ratings are very unevenly distributed.As quoted in the description of the dataset -Book-Ratings contains the book rating information. Ratings are either explicit, expressed on a scale from 1-10 higher values denoting higher appreciation, or implicit, expressed by 0.Hence segragating implicit and explict ratings datasets***"
   ]
  },
  {
   "cell_type": "code",
   "execution_count": 70,
   "id": "88e25e34",
   "metadata": {},
   "outputs": [],
   "source": [
    "#Hence segragating implicit and explict ratings datasets\n",
    "ratings_explicit = ratings_new[ratings_new['rating'] != 0]\n",
    "ratings_implicit = ratings_new[ratings_new['rating'] == 0]"
   ]
  },
  {
   "cell_type": "code",
   "execution_count": 71,
   "id": "2ae26a22",
   "metadata": {},
   "outputs": [
    {
     "name": "stdout",
     "output_type": "stream",
     "text": [
      "ratings_explicit dataset shape (383841, 3)\n",
      "ratings_implicit dataset (647291, 3)\n"
     ]
    }
   ],
   "source": [
    "print('ratings_explicit dataset shape',ratings_explicit.shape)\n",
    "print('ratings_implicit dataset',ratings_implicit.shape)"
   ]
  },
  {
   "cell_type": "code",
   "execution_count": 72,
   "id": "a8bf79dc",
   "metadata": {},
   "outputs": [
    {
     "data": {
      "text/plain": [
       "Text(0, 0.5, 'Count')"
      ]
     },
     "execution_count": 72,
     "metadata": {},
     "output_type": "execute_result"
    },
    {
     "data": {
      "image/png": "[encoded data removed]",
      "text/plain": [
       "<Figure size 1000x400 with 1 Axes>"
      ]
     },
     "metadata": {},
     "output_type": "display_data"
    }
   ],
   "source": [
    "plt.figure(figsize=(10, 4))\n",
    "sns.countplot(data=ratings_explicit , x='rating', palette='coolwarm')\n",
    "plt.title('Book Rating Distribution from 1 - 10')\n",
    "plt.ylabel('Count')"
   ]
  },
  {
   "cell_type": "markdown",
   "id": "d72cfc8d",
   "metadata": {},
   "source": [
    "**It can be observe that higher ratings are more common amongst users and rating 8 has been rated highest number of times**\n",
    "\n"
   ]
  },
  {
   "cell_type": "code",
   "execution_count": 73,
   "id": "ac72927e",
   "metadata": {},
   "outputs": [
    {
     "data": {
      "text/html": [
       "<div>\n",
       "<style scoped>\n",
       "    .dataframe tbody tr th:only-of-type {\n",
       "        vertical-align: middle;\n",
       "    }\n",
       "\n",
       "    .dataframe tbody tr th {\n",
       "        vertical-align: top;\n",
       "    }\n",
       "\n",
       "    .dataframe thead th {\n",
       "        text-align: right;\n",
       "    }\n",
       "</style>\n",
       "<table border=\"1\" class=\"dataframe\">\n",
       "  <thead>\n",
       "    <tr style=\"text-align: right;\">\n",
       "      <th></th>\n",
       "      <th>rating</th>\n",
       "    </tr>\n",
       "    <tr>\n",
       "      <th>ISBN</th>\n",
       "      <th></th>\n",
       "    </tr>\n",
       "  </thead>\n",
       "  <tbody>\n",
       "    <tr>\n",
       "      <th>0316666343</th>\n",
       "      <td>707</td>\n",
       "    </tr>\n",
       "    <tr>\n",
       "      <th>0971880107</th>\n",
       "      <td>581</td>\n",
       "    </tr>\n",
       "    <tr>\n",
       "      <th>0385504209</th>\n",
       "      <td>487</td>\n",
       "    </tr>\n",
       "    <tr>\n",
       "      <th>0312195516</th>\n",
       "      <td>383</td>\n",
       "    </tr>\n",
       "    <tr>\n",
       "      <th>0060928336</th>\n",
       "      <td>320</td>\n",
       "    </tr>\n",
       "  </tbody>\n",
       "</table>\n",
       "</div>"
      ],
      "text/plain": [
       "            rating\n",
       "ISBN              \n",
       "0316666343     707\n",
       "0971880107     581\n",
       "0385504209     487\n",
       "0312195516     383\n",
       "0060928336     320"
      ]
     },
     "execution_count": 73,
     "metadata": {},
     "output_type": "execute_result"
    }
   ],
   "source": [
    "# Let's find the top 5 books which are rated by most number of users.\n",
    "rating_count = pd.DataFrame(ratings_explicit.groupby('ISBN')['rating'].count())\n",
    "rating_count.sort_values('rating', ascending=False).head()"
   ]
  },
  {
   "cell_type": "code",
   "execution_count": 74,
   "id": "6cf24f28",
   "metadata": {},
   "outputs": [
    {
     "data": {
      "text/html": [
       "<div>\n",
       "<style scoped>\n",
       "    .dataframe tbody tr th:only-of-type {\n",
       "        vertical-align: middle;\n",
       "    }\n",
       "\n",
       "    .dataframe tbody tr th {\n",
       "        vertical-align: top;\n",
       "    }\n",
       "\n",
       "    .dataframe thead th {\n",
       "        text-align: right;\n",
       "    }\n",
       "</style>\n",
       "<table border=\"1\" class=\"dataframe\">\n",
       "  <thead>\n",
       "    <tr style=\"text-align: right;\">\n",
       "      <th></th>\n",
       "      <th>ISBN</th>\n",
       "      <th>title</th>\n",
       "      <th>author</th>\n",
       "      <th>year</th>\n",
       "      <th>publisher</th>\n",
       "      <th>img_url</th>\n",
       "    </tr>\n",
       "  </thead>\n",
       "  <tbody>\n",
       "    <tr>\n",
       "      <th>0</th>\n",
       "      <td>0316666343</td>\n",
       "      <td>The Lovely Bones: A Novel</td>\n",
       "      <td>Alice Sebold</td>\n",
       "      <td>2002.0</td>\n",
       "      <td>Little, Brown</td>\n",
       "      <td>http://images.amazon.com/images/P/0316666343.0...</td>\n",
       "    </tr>\n",
       "    <tr>\n",
       "      <th>1</th>\n",
       "      <td>0971880107</td>\n",
       "      <td>Wild Animus</td>\n",
       "      <td>Rich Shapero</td>\n",
       "      <td>2004.0</td>\n",
       "      <td>Too Far</td>\n",
       "      <td>http://images.amazon.com/images/P/0971880107.0...</td>\n",
       "    </tr>\n",
       "    <tr>\n",
       "      <th>2</th>\n",
       "      <td>0385504209</td>\n",
       "      <td>The Da Vinci Code</td>\n",
       "      <td>Dan Brown</td>\n",
       "      <td>2003.0</td>\n",
       "      <td>Doubleday</td>\n",
       "      <td>http://images.amazon.com/images/P/0385504209.0...</td>\n",
       "    </tr>\n",
       "    <tr>\n",
       "      <th>3</th>\n",
       "      <td>0312195516</td>\n",
       "      <td>The Red Tent (Bestselling Backlist)</td>\n",
       "      <td>Anita Diamant</td>\n",
       "      <td>1998.0</td>\n",
       "      <td>Picador USA</td>\n",
       "      <td>http://images.amazon.com/images/P/0312195516.0...</td>\n",
       "    </tr>\n",
       "    <tr>\n",
       "      <th>4</th>\n",
       "      <td>0060928336</td>\n",
       "      <td>Divine Secrets of the Ya-Ya Sisterhood: A Novel</td>\n",
       "      <td>Rebecca Wells</td>\n",
       "      <td>1997.0</td>\n",
       "      <td>Perennial</td>\n",
       "      <td>http://images.amazon.com/images/P/0060928336.0...</td>\n",
       "    </tr>\n",
       "  </tbody>\n",
       "</table>\n",
       "</div>"
      ],
      "text/plain": [
       "         ISBN                                            title         author  \\\n",
       "0  0316666343                        The Lovely Bones: A Novel   Alice Sebold   \n",
       "1  0971880107                                      Wild Animus   Rich Shapero   \n",
       "2  0385504209                                The Da Vinci Code      Dan Brown   \n",
       "3  0312195516              The Red Tent (Bestselling Backlist)  Anita Diamant   \n",
       "4  0060928336  Divine Secrets of the Ya-Ya Sisterhood: A Novel  Rebecca Wells   \n",
       "\n",
       "     year      publisher                                            img_url  \n",
       "0  2002.0  Little, Brown  http://images.amazon.com/images/P/0316666343.0...  \n",
       "1  2004.0        Too Far  http://images.amazon.com/images/P/0971880107.0...  \n",
       "2  2003.0      Doubleday  http://images.amazon.com/images/P/0385504209.0...  \n",
       "3  1998.0    Picador USA  http://images.amazon.com/images/P/0312195516.0...  \n",
       "4  1997.0      Perennial  http://images.amazon.com/images/P/0060928336.0...  "
      ]
     },
     "execution_count": 74,
     "metadata": {},
     "output_type": "execute_result"
    }
   ],
   "source": [
    "most_rated_books = pd.DataFrame(['0316666343', '0971880107', '0385504209', '0312195516', '0060928336'], index=np.arange(5), columns = ['ISBN'])\n",
    "most_rated_books_summary = pd.merge(most_rated_books, books, on='ISBN')\n",
    "most_rated_books_summary"
   ]
  },
  {
   "cell_type": "markdown",
   "id": "a9ee5a07",
   "metadata": {},
   "source": [
    "***The book that received the most rating counts in this data set is Rich Shapero’s “Wild Animus”. And there is something in common among these five books that received the most rating counts — they are all novels. So it is conclusive that novels are popular and likely receive more ratings.***"
   ]
  },
  {
   "cell_type": "code",
   "execution_count": 75,
   "id": "31eb6577",
   "metadata": {},
   "outputs": [],
   "source": [
    "# Create column Rating average\n",
    "ratings_explicit['Avg_Rating'] = ratings_explicit.groupby('ISBN')['rating'].transform('mean')\n",
    "# Create column Rating sum\n",
    "ratings_explicit['Total_No_Of_Users_Rated'] = ratings_explicit.groupby(\n",
    "    'ISBN')['rating'].transform('count')"
   ]
  },
  {
   "cell_type": "code",
   "execution_count": 76,
   "id": "61fed046",
   "metadata": {},
   "outputs": [
    {
     "data": {
      "text/html": [
       "<div>\n",
       "<style scoped>\n",
       "    .dataframe tbody tr th:only-of-type {\n",
       "        vertical-align: middle;\n",
       "    }\n",
       "\n",
       "    .dataframe tbody tr th {\n",
       "        vertical-align: top;\n",
       "    }\n",
       "\n",
       "    .dataframe thead th {\n",
       "        text-align: right;\n",
       "    }\n",
       "</style>\n",
       "<table border=\"1\" class=\"dataframe\">\n",
       "  <thead>\n",
       "    <tr style=\"text-align: right;\">\n",
       "      <th></th>\n",
       "      <th>user_id</th>\n",
       "      <th>ISBN</th>\n",
       "      <th>rating</th>\n",
       "      <th>Avg_Rating</th>\n",
       "      <th>Total_No_Of_Users_Rated</th>\n",
       "    </tr>\n",
       "  </thead>\n",
       "  <tbody>\n",
       "    <tr>\n",
       "      <th>1</th>\n",
       "      <td>276726</td>\n",
       "      <td>0155061224</td>\n",
       "      <td>5</td>\n",
       "      <td>5.000000</td>\n",
       "      <td>1</td>\n",
       "    </tr>\n",
       "    <tr>\n",
       "      <th>3</th>\n",
       "      <td>276729</td>\n",
       "      <td>052165615X</td>\n",
       "      <td>3</td>\n",
       "      <td>3.000000</td>\n",
       "      <td>1</td>\n",
       "    </tr>\n",
       "    <tr>\n",
       "      <th>4</th>\n",
       "      <td>276729</td>\n",
       "      <td>0521795028</td>\n",
       "      <td>6</td>\n",
       "      <td>6.000000</td>\n",
       "      <td>1</td>\n",
       "    </tr>\n",
       "    <tr>\n",
       "      <th>8</th>\n",
       "      <td>276744</td>\n",
       "      <td>038550120X</td>\n",
       "      <td>7</td>\n",
       "      <td>7.580247</td>\n",
       "      <td>81</td>\n",
       "    </tr>\n",
       "    <tr>\n",
       "      <th>16</th>\n",
       "      <td>276747</td>\n",
       "      <td>0060517794</td>\n",
       "      <td>9</td>\n",
       "      <td>8.000000</td>\n",
       "      <td>30</td>\n",
       "    </tr>\n",
       "  </tbody>\n",
       "</table>\n",
       "</div>"
      ],
      "text/plain": [
       "    user_id        ISBN  rating  Avg_Rating  Total_No_Of_Users_Rated\n",
       "1    276726  0155061224       5    5.000000                        1\n",
       "3    276729  052165615X       3    3.000000                        1\n",
       "4    276729  0521795028       6    6.000000                        1\n",
       "8    276744  038550120X       7    7.580247                       81\n",
       "16   276747  0060517794       9    8.000000                       30"
      ]
     },
     "execution_count": 76,
     "metadata": {},
     "output_type": "execute_result"
    }
   ],
   "source": [
    "ratings_explicit.head()"
   ]
  },
  {
   "cell_type": "code",
   "execution_count": 77,
   "id": "4551f3be",
   "metadata": {},
   "outputs": [
    {
     "data": {
      "text/plain": [
       "11676     6943\n",
       "98391     5691\n",
       "189835    1899\n",
       "153662    1845\n",
       "23902     1180\n",
       "          ... \n",
       "114767       1\n",
       "114771       1\n",
       "114772       1\n",
       "114777       1\n",
       "276721       1\n",
       "Name: user_id, Length: 68091, dtype: int64"
      ]
     },
     "execution_count": 77,
     "metadata": {},
     "output_type": "execute_result"
    }
   ],
   "source": [
    "ratings_explicit['user_id'].value_counts()"
   ]
  },
  {
   "cell_type": "code",
   "execution_count": 78,
   "id": "cdb89568",
   "metadata": {},
   "outputs": [
    {
     "data": {
      "text/plain": [
       "(68091,)"
      ]
     },
     "execution_count": 78,
     "metadata": {},
     "output_type": "execute_result"
    }
   ],
   "source": [
    "ratings_explicit['user_id'].unique().shape"
   ]
  },
  {
   "cell_type": "code",
   "execution_count": 79,
   "id": "95fcae9e",
   "metadata": {},
   "outputs": [],
   "source": [
    "x  = ratings_explicit['user_id'].value_counts() > 50"
   ]
  },
  {
   "cell_type": "code",
   "execution_count": 80,
   "id": "b4b59fc1",
   "metadata": {},
   "outputs": [
    {
     "data": {
      "text/plain": [
       "(1150,)"
      ]
     },
     "execution_count": 80,
     "metadata": {},
     "output_type": "execute_result"
    }
   ],
   "source": [
    "x[x].shape"
   ]
  },
  {
   "cell_type": "code",
   "execution_count": 81,
   "id": "033ee7b3",
   "metadata": {},
   "outputs": [
    {
     "data": {
      "text/plain": [
       "Int64Index([ 11676,  98391, 189835, 153662,  23902, 235105,  76499, 171118,\n",
       "             16795, 248718,\n",
       "            ...\n",
       "             20172, 116758, 213523, 159834, 159732,   6073, 177690, 239626,\n",
       "              7915, 273979],\n",
       "           dtype='int64', length=1150)"
      ]
     },
     "execution_count": 81,
     "metadata": {},
     "output_type": "execute_result"
    }
   ],
   "source": [
    "x[x].index"
   ]
  },
  {
   "cell_type": "code",
   "execution_count": 82,
   "id": "c09188c3",
   "metadata": {},
   "outputs": [],
   "source": [
    "y = x[x].index"
   ]
  },
  {
   "cell_type": "code",
   "execution_count": 83,
   "id": "fba75377",
   "metadata": {},
   "outputs": [
    {
     "data": {
      "text/plain": [
       "(383841,)"
      ]
     },
     "execution_count": 83,
     "metadata": {},
     "output_type": "execute_result"
    }
   ],
   "source": [
    "ratings_explicit['user_id'].shape"
   ]
  },
  {
   "cell_type": "code",
   "execution_count": 84,
   "id": "29780bb8",
   "metadata": {},
   "outputs": [],
   "source": [
    "ratings_explicit = ratings_explicit[ratings_explicit['user_id'].isin(y)]"
   ]
  },
  {
   "cell_type": "code",
   "execution_count": 85,
   "id": "6e4bef86",
   "metadata": {},
   "outputs": [
    {
     "data": {
      "text/html": [
       "<div>\n",
       "<style scoped>\n",
       "    .dataframe tbody tr th:only-of-type {\n",
       "        vertical-align: middle;\n",
       "    }\n",
       "\n",
       "    .dataframe tbody tr th {\n",
       "        vertical-align: top;\n",
       "    }\n",
       "\n",
       "    .dataframe thead th {\n",
       "        text-align: right;\n",
       "    }\n",
       "</style>\n",
       "<table border=\"1\" class=\"dataframe\">\n",
       "  <thead>\n",
       "    <tr style=\"text-align: right;\">\n",
       "      <th></th>\n",
       "      <th>user_id</th>\n",
       "      <th>ISBN</th>\n",
       "      <th>rating</th>\n",
       "      <th>Avg_Rating</th>\n",
       "      <th>Total_No_Of_Users_Rated</th>\n",
       "    </tr>\n",
       "  </thead>\n",
       "  <tbody>\n",
       "    <tr>\n",
       "      <th>1456</th>\n",
       "      <td>277427</td>\n",
       "      <td>002542730X</td>\n",
       "      <td>10</td>\n",
       "      <td>7.805195</td>\n",
       "      <td>77</td>\n",
       "    </tr>\n",
       "    <tr>\n",
       "      <th>1458</th>\n",
       "      <td>277427</td>\n",
       "      <td>003008685X</td>\n",
       "      <td>8</td>\n",
       "      <td>8.000000</td>\n",
       "      <td>1</td>\n",
       "    </tr>\n",
       "  </tbody>\n",
       "</table>\n",
       "</div>"
      ],
      "text/plain": [
       "      user_id        ISBN  rating  Avg_Rating  Total_No_Of_Users_Rated\n",
       "1456   277427  002542730X      10    7.805195                       77\n",
       "1458   277427  003008685X       8    8.000000                        1"
      ]
     },
     "execution_count": 85,
     "metadata": {},
     "output_type": "execute_result"
    }
   ],
   "source": [
    "ratings_explicit.head(2)"
   ]
  },
  {
   "cell_type": "code",
   "execution_count": 86,
   "id": "6546a5b3",
   "metadata": {},
   "outputs": [
    {
     "data": {
      "text/plain": [
       "(151924, 5)"
      ]
     },
     "execution_count": 86,
     "metadata": {},
     "output_type": "execute_result"
    }
   ],
   "source": [
    "ratings_explicit.shape"
   ]
  },
  {
   "cell_type": "code",
   "execution_count": 87,
   "id": "1e7f892b",
   "metadata": {},
   "outputs": [
    {
     "data": {
      "text/html": [
       "<div>\n",
       "<style scoped>\n",
       "    .dataframe tbody tr th:only-of-type {\n",
       "        vertical-align: middle;\n",
       "    }\n",
       "\n",
       "    .dataframe tbody tr th {\n",
       "        vertical-align: top;\n",
       "    }\n",
       "\n",
       "    .dataframe thead th {\n",
       "        text-align: right;\n",
       "    }\n",
       "</style>\n",
       "<table border=\"1\" class=\"dataframe\">\n",
       "  <thead>\n",
       "    <tr style=\"text-align: right;\">\n",
       "      <th></th>\n",
       "      <th>user_id</th>\n",
       "      <th>ISBN</th>\n",
       "      <th>rating</th>\n",
       "      <th>Avg_Rating</th>\n",
       "      <th>Total_No_Of_Users_Rated</th>\n",
       "    </tr>\n",
       "  </thead>\n",
       "  <tbody>\n",
       "    <tr>\n",
       "      <th>1456</th>\n",
       "      <td>277427</td>\n",
       "      <td>002542730X</td>\n",
       "      <td>10</td>\n",
       "      <td>7.805195</td>\n",
       "      <td>77</td>\n",
       "    </tr>\n",
       "    <tr>\n",
       "      <th>1458</th>\n",
       "      <td>277427</td>\n",
       "      <td>003008685X</td>\n",
       "      <td>8</td>\n",
       "      <td>8.000000</td>\n",
       "      <td>1</td>\n",
       "    </tr>\n",
       "    <tr>\n",
       "      <th>1461</th>\n",
       "      <td>277427</td>\n",
       "      <td>0060006641</td>\n",
       "      <td>10</td>\n",
       "      <td>9.000000</td>\n",
       "      <td>4</td>\n",
       "    </tr>\n",
       "    <tr>\n",
       "      <th>1465</th>\n",
       "      <td>277427</td>\n",
       "      <td>0060542128</td>\n",
       "      <td>7</td>\n",
       "      <td>7.357143</td>\n",
       "      <td>14</td>\n",
       "    </tr>\n",
       "    <tr>\n",
       "      <th>1474</th>\n",
       "      <td>277427</td>\n",
       "      <td>0061009059</td>\n",
       "      <td>9</td>\n",
       "      <td>7.940299</td>\n",
       "      <td>134</td>\n",
       "    </tr>\n",
       "    <tr>\n",
       "      <th>...</th>\n",
       "      <td>...</td>\n",
       "      <td>...</td>\n",
       "      <td>...</td>\n",
       "      <td>...</td>\n",
       "      <td>...</td>\n",
       "    </tr>\n",
       "    <tr>\n",
       "      <th>1149627</th>\n",
       "      <td>276680</td>\n",
       "      <td>1573222038</td>\n",
       "      <td>10</td>\n",
       "      <td>8.545455</td>\n",
       "      <td>11</td>\n",
       "    </tr>\n",
       "    <tr>\n",
       "      <th>1149629</th>\n",
       "      <td>276680</td>\n",
       "      <td>1573229083</td>\n",
       "      <td>7</td>\n",
       "      <td>7.555556</td>\n",
       "      <td>18</td>\n",
       "    </tr>\n",
       "    <tr>\n",
       "      <th>1149634</th>\n",
       "      <td>276680</td>\n",
       "      <td>1888173408</td>\n",
       "      <td>7</td>\n",
       "      <td>7.000000</td>\n",
       "      <td>4</td>\n",
       "    </tr>\n",
       "    <tr>\n",
       "      <th>1149635</th>\n",
       "      <td>276680</td>\n",
       "      <td>1888173564</td>\n",
       "      <td>8</td>\n",
       "      <td>8.333333</td>\n",
       "      <td>3</td>\n",
       "    </tr>\n",
       "    <tr>\n",
       "      <th>1149637</th>\n",
       "      <td>276680</td>\n",
       "      <td>1931561648</td>\n",
       "      <td>9</td>\n",
       "      <td>8.513514</td>\n",
       "      <td>37</td>\n",
       "    </tr>\n",
       "  </tbody>\n",
       "</table>\n",
       "<p>151924 rows × 5 columns</p>\n",
       "</div>"
      ],
      "text/plain": [
       "         user_id        ISBN  rating  Avg_Rating  Total_No_Of_Users_Rated\n",
       "1456      277427  002542730X      10    7.805195                       77\n",
       "1458      277427  003008685X       8    8.000000                        1\n",
       "1461      277427  0060006641      10    9.000000                        4\n",
       "1465      277427  0060542128       7    7.357143                       14\n",
       "1474      277427  0061009059       9    7.940299                      134\n",
       "...          ...         ...     ...         ...                      ...\n",
       "1149627   276680  1573222038      10    8.545455                       11\n",
       "1149629   276680  1573229083       7    7.555556                       18\n",
       "1149634   276680  1888173408       7    7.000000                        4\n",
       "1149635   276680  1888173564       8    8.333333                        3\n",
       "1149637   276680  1931561648       9    8.513514                       37\n",
       "\n",
       "[151924 rows x 5 columns]"
      ]
     },
     "execution_count": 87,
     "metadata": {},
     "output_type": "execute_result"
    }
   ],
   "source": [
    "ratings_explicit"
   ]
  },
  {
   "cell_type": "markdown",
   "id": "a9205472",
   "metadata": {},
   "source": [
    "## Merging All Dataset"
   ]
  },
  {
   "cell_type": "code",
   "execution_count": 88,
   "id": "b72fa9da",
   "metadata": {},
   "outputs": [
    {
     "data": {
      "text/plain": [
       "Index(['user_id', 'age', 'country'], dtype='object')"
      ]
     },
     "execution_count": 88,
     "metadata": {},
     "output_type": "execute_result"
    }
   ],
   "source": [
    "users.columns"
   ]
  },
  {
   "cell_type": "code",
   "execution_count": 89,
   "id": "894ab7ee",
   "metadata": {},
   "outputs": [
    {
     "data": {
      "text/plain": [
       "Index(['user_id', 'ISBN', 'rating', 'Avg_Rating', 'Total_No_Of_Users_Rated'], dtype='object')"
      ]
     },
     "execution_count": 89,
     "metadata": {},
     "output_type": "execute_result"
    }
   ],
   "source": [
    "ratings_explicit.columns"
   ]
  },
  {
   "cell_type": "code",
   "execution_count": 90,
   "id": "794fc65b",
   "metadata": {},
   "outputs": [
    {
     "data": {
      "text/plain": [
       "Index(['ISBN', 'title', 'author', 'year', 'publisher', 'img_url'], dtype='object')"
      ]
     },
     "execution_count": 90,
     "metadata": {},
     "output_type": "execute_result"
    }
   ],
   "source": [
    "books.columns"
   ]
  },
  {
   "cell_type": "code",
   "execution_count": 91,
   "id": "0b3f0338",
   "metadata": {},
   "outputs": [],
   "source": [
    "final_dataset = users.copy()\n",
    "final_dataset = pd.merge(final_dataset, ratings_explicit, on='user_id')\n",
    "final_dataset = pd.merge(final_dataset, books, on='ISBN')"
   ]
  },
  {
   "cell_type": "code",
   "execution_count": 92,
   "id": "340aaa74",
   "metadata": {},
   "outputs": [
    {
     "data": {
      "text/html": [
       "<div>\n",
       "<style scoped>\n",
       "    .dataframe tbody tr th:only-of-type {\n",
       "        vertical-align: middle;\n",
       "    }\n",
       "\n",
       "    .dataframe tbody tr th {\n",
       "        vertical-align: top;\n",
       "    }\n",
       "\n",
       "    .dataframe thead th {\n",
       "        text-align: right;\n",
       "    }\n",
       "</style>\n",
       "<table border=\"1\" class=\"dataframe\">\n",
       "  <thead>\n",
       "    <tr style=\"text-align: right;\">\n",
       "      <th></th>\n",
       "      <th>user_id</th>\n",
       "      <th>age</th>\n",
       "      <th>country</th>\n",
       "      <th>ISBN</th>\n",
       "      <th>rating</th>\n",
       "      <th>Avg_Rating</th>\n",
       "      <th>Total_No_Of_Users_Rated</th>\n",
       "      <th>title</th>\n",
       "      <th>author</th>\n",
       "      <th>year</th>\n",
       "      <th>publisher</th>\n",
       "      <th>img_url</th>\n",
       "    </tr>\n",
       "  </thead>\n",
       "  <tbody>\n",
       "    <tr>\n",
       "      <th>0</th>\n",
       "      <td>254</td>\n",
       "      <td>24.0</td>\n",
       "      <td>usa</td>\n",
       "      <td>0060502320</td>\n",
       "      <td>7</td>\n",
       "      <td>7.5</td>\n",
       "      <td>2</td>\n",
       "      <td>I've Got You, Babe</td>\n",
       "      <td>Karen Kendall</td>\n",
       "      <td>2002.0</td>\n",
       "      <td>Avon</td>\n",
       "      <td>http://images.amazon.com/images/P/0060502320.0...</td>\n",
       "    </tr>\n",
       "    <tr>\n",
       "      <th>1</th>\n",
       "      <td>98391</td>\n",
       "      <td>52.0</td>\n",
       "      <td>usa</td>\n",
       "      <td>0060502320</td>\n",
       "      <td>8</td>\n",
       "      <td>7.5</td>\n",
       "      <td>2</td>\n",
       "      <td>I've Got You, Babe</td>\n",
       "      <td>Karen Kendall</td>\n",
       "      <td>2002.0</td>\n",
       "      <td>Avon</td>\n",
       "      <td>http://images.amazon.com/images/P/0060502320.0...</td>\n",
       "    </tr>\n",
       "  </tbody>\n",
       "</table>\n",
       "</div>"
      ],
      "text/plain": [
       "   user_id   age country        ISBN  rating  Avg_Rating  \\\n",
       "0      254  24.0     usa  0060502320       7         7.5   \n",
       "1    98391  52.0     usa  0060502320       8         7.5   \n",
       "\n",
       "   Total_No_Of_Users_Rated               title         author    year  \\\n",
       "0                        2  I've Got You, Babe  Karen Kendall  2002.0   \n",
       "1                        2  I've Got You, Babe  Karen Kendall  2002.0   \n",
       "\n",
       "  publisher                                            img_url  \n",
       "0      Avon  http://images.amazon.com/images/P/0060502320.0...  \n",
       "1      Avon  http://images.amazon.com/images/P/0060502320.0...  "
      ]
     },
     "execution_count": 92,
     "metadata": {},
     "output_type": "execute_result"
    }
   ],
   "source": [
    "final_dataset.head(2)"
   ]
  },
  {
   "cell_type": "code",
   "execution_count": 93,
   "id": "39b2f9b6",
   "metadata": {},
   "outputs": [
    {
     "data": {
      "text/plain": [
       "(151924, 12)"
      ]
     },
     "execution_count": 93,
     "metadata": {},
     "output_type": "execute_result"
    }
   ],
   "source": [
    "final_dataset.shape"
   ]
  },
  {
   "cell_type": "code",
   "execution_count": 94,
   "id": "2ac39fa7",
   "metadata": {},
   "outputs": [
    {
     "data": {
      "text/html": [
       "<div>\n",
       "<style scoped>\n",
       "    .dataframe tbody tr th:only-of-type {\n",
       "        vertical-align: middle;\n",
       "    }\n",
       "\n",
       "    .dataframe tbody tr th {\n",
       "        vertical-align: top;\n",
       "    }\n",
       "\n",
       "    .dataframe thead th {\n",
       "        text-align: right;\n",
       "    }\n",
       "</style>\n",
       "<table border=\"1\" class=\"dataframe\">\n",
       "  <thead>\n",
       "    <tr style=\"text-align: right;\">\n",
       "      <th></th>\n",
       "      <th>user_id</th>\n",
       "      <th>age</th>\n",
       "      <th>country</th>\n",
       "      <th>ISBN</th>\n",
       "      <th>rating</th>\n",
       "      <th>Avg_Rating</th>\n",
       "      <th>Total_No_Of_Users_Rated</th>\n",
       "      <th>title</th>\n",
       "      <th>author</th>\n",
       "      <th>year</th>\n",
       "      <th>publisher</th>\n",
       "      <th>img_url</th>\n",
       "    </tr>\n",
       "  </thead>\n",
       "  <tbody>\n",
       "    <tr>\n",
       "      <th>54691</th>\n",
       "      <td>265889</td>\n",
       "      <td>30.0</td>\n",
       "      <td>canada</td>\n",
       "      <td>0425179184</td>\n",
       "      <td>8</td>\n",
       "      <td>7.250000</td>\n",
       "      <td>12</td>\n",
       "      <td>Crime Brulee (Culinary Mysteries (Paperback))</td>\n",
       "      <td>Nancy Fairbanks</td>\n",
       "      <td>2001.0</td>\n",
       "      <td>Berkley Publishing Group</td>\n",
       "      <td>http://images.amazon.com/images/P/0425179184.0...</td>\n",
       "    </tr>\n",
       "    <tr>\n",
       "      <th>4882</th>\n",
       "      <td>100459</td>\n",
       "      <td>38.0</td>\n",
       "      <td>usa</td>\n",
       "      <td>0452260116</td>\n",
       "      <td>8</td>\n",
       "      <td>7.339623</td>\n",
       "      <td>53</td>\n",
       "      <td>Song of Solomon (Oprah's Book Club (Paperback))</td>\n",
       "      <td>Toni Morrison</td>\n",
       "      <td>1987.0</td>\n",
       "      <td>Plume Books</td>\n",
       "      <td>http://images.amazon.com/images/P/0452260116.0...</td>\n",
       "    </tr>\n",
       "    <tr>\n",
       "      <th>48071</th>\n",
       "      <td>104636</td>\n",
       "      <td>36.0</td>\n",
       "      <td>usa</td>\n",
       "      <td>0553568760</td>\n",
       "      <td>9</td>\n",
       "      <td>7.136364</td>\n",
       "      <td>22</td>\n",
       "      <td>Natural Causes</td>\n",
       "      <td>Michael Palmer</td>\n",
       "      <td>1995.0</td>\n",
       "      <td>Bantam Books</td>\n",
       "      <td>http://images.amazon.com/images/P/0553568760.0...</td>\n",
       "    </tr>\n",
       "    <tr>\n",
       "      <th>73245</th>\n",
       "      <td>52011</td>\n",
       "      <td>37.0</td>\n",
       "      <td>canada</td>\n",
       "      <td>0713726202</td>\n",
       "      <td>5</td>\n",
       "      <td>5.000000</td>\n",
       "      <td>1</td>\n",
       "      <td>Ufo a Deadly Concealment: The Official Cover-Up</td>\n",
       "      <td>Derek Sheffield</td>\n",
       "      <td>1996.0</td>\n",
       "      <td>Sterling Pub Co Inc</td>\n",
       "      <td>http://images.amazon.com/images/P/0713726202.0...</td>\n",
       "    </tr>\n",
       "    <tr>\n",
       "      <th>103122</th>\n",
       "      <td>98391</td>\n",
       "      <td>52.0</td>\n",
       "      <td>usa</td>\n",
       "      <td>1590580575</td>\n",
       "      <td>5</td>\n",
       "      <td>5.000000</td>\n",
       "      <td>1</td>\n",
       "      <td>The Widow Ginger</td>\n",
       "      <td>Pip Granger</td>\n",
       "      <td>2003.0</td>\n",
       "      <td>Poisoned Pen Press</td>\n",
       "      <td>http://images.amazon.com/images/P/1590580575.0...</td>\n",
       "    </tr>\n",
       "    <tr>\n",
       "      <th>61833</th>\n",
       "      <td>31826</td>\n",
       "      <td>54.0</td>\n",
       "      <td>usa</td>\n",
       "      <td>0373226160</td>\n",
       "      <td>10</td>\n",
       "      <td>10.000000</td>\n",
       "      <td>1</td>\n",
       "      <td>No One But You (Lovers Under Cover) (Harlequin...</td>\n",
       "      <td>Carly Bishop</td>\n",
       "      <td>2001.0</td>\n",
       "      <td>Harlequin</td>\n",
       "      <td>http://images.amazon.com/images/P/0373226160.0...</td>\n",
       "    </tr>\n",
       "    <tr>\n",
       "      <th>108908</th>\n",
       "      <td>212923</td>\n",
       "      <td>34.0</td>\n",
       "      <td>usa</td>\n",
       "      <td>0965605914</td>\n",
       "      <td>10</td>\n",
       "      <td>8.600000</td>\n",
       "      <td>5</td>\n",
       "      <td>I Know This Much Is True</td>\n",
       "      <td>Wally Lamb</td>\n",
       "      <td>1996.0</td>\n",
       "      <td>Reganbooks</td>\n",
       "      <td>http://images.amazon.com/images/P/0965605914.0...</td>\n",
       "    </tr>\n",
       "    <tr>\n",
       "      <th>27085</th>\n",
       "      <td>174892</td>\n",
       "      <td>32.0</td>\n",
       "      <td>other</td>\n",
       "      <td>0380730847</td>\n",
       "      <td>7</td>\n",
       "      <td>7.461538</td>\n",
       "      <td>39</td>\n",
       "      <td>The Forgotten (Peter Decker &amp;amp; Rina Lazarus...</td>\n",
       "      <td>Faye Kellerman</td>\n",
       "      <td>2002.0</td>\n",
       "      <td>Avon</td>\n",
       "      <td>http://images.amazon.com/images/P/0380730847.0...</td>\n",
       "    </tr>\n",
       "    <tr>\n",
       "      <th>142022</th>\n",
       "      <td>229329</td>\n",
       "      <td>56.0</td>\n",
       "      <td>switzerland</td>\n",
       "      <td>0385413440</td>\n",
       "      <td>5</td>\n",
       "      <td>5.000000</td>\n",
       "      <td>1</td>\n",
       "      <td>Pet Food (Little Monsters)</td>\n",
       "      <td>Jan Pienkowski</td>\n",
       "      <td>1990.0</td>\n",
       "      <td>Random House Childrens Books</td>\n",
       "      <td>http://images.amazon.com/images/P/0385413440.0...</td>\n",
       "    </tr>\n",
       "    <tr>\n",
       "      <th>74960</th>\n",
       "      <td>55187</td>\n",
       "      <td>48.0</td>\n",
       "      <td>usa</td>\n",
       "      <td>0553256696</td>\n",
       "      <td>10</td>\n",
       "      <td>9.062500</td>\n",
       "      <td>16</td>\n",
       "      <td>Hiding Place</td>\n",
       "      <td>Corrie Ten Boom</td>\n",
       "      <td>1984.0</td>\n",
       "      <td>Bantam Books</td>\n",
       "      <td>http://images.amazon.com/images/P/0553256696.0...</td>\n",
       "    </tr>\n",
       "  </tbody>\n",
       "</table>\n",
       "</div>"
      ],
      "text/plain": [
       "        user_id   age      country        ISBN  rating  Avg_Rating  \\\n",
       "54691    265889  30.0       canada  0425179184       8    7.250000   \n",
       "4882     100459  38.0          usa  0452260116       8    7.339623   \n",
       "48071    104636  36.0          usa  0553568760       9    7.136364   \n",
       "73245     52011  37.0       canada  0713726202       5    5.000000   \n",
       "103122    98391  52.0          usa  1590580575       5    5.000000   \n",
       "61833     31826  54.0          usa  0373226160      10   10.000000   \n",
       "108908   212923  34.0          usa  0965605914      10    8.600000   \n",
       "27085    174892  32.0        other  0380730847       7    7.461538   \n",
       "142022   229329  56.0  switzerland  0385413440       5    5.000000   \n",
       "74960     55187  48.0          usa  0553256696      10    9.062500   \n",
       "\n",
       "        Total_No_Of_Users_Rated  \\\n",
       "54691                        12   \n",
       "4882                         53   \n",
       "48071                        22   \n",
       "73245                         1   \n",
       "103122                        1   \n",
       "61833                         1   \n",
       "108908                        5   \n",
       "27085                        39   \n",
       "142022                        1   \n",
       "74960                        16   \n",
       "\n",
       "                                                    title           author  \\\n",
       "54691       Crime Brulee (Culinary Mysteries (Paperback))  Nancy Fairbanks   \n",
       "4882      Song of Solomon (Oprah's Book Club (Paperback))    Toni Morrison   \n",
       "48071                                      Natural Causes   Michael Palmer   \n",
       "73245     Ufo a Deadly Concealment: The Official Cover-Up  Derek Sheffield   \n",
       "103122                                   The Widow Ginger      Pip Granger   \n",
       "61833   No One But You (Lovers Under Cover) (Harlequin...     Carly Bishop   \n",
       "108908                           I Know This Much Is True       Wally Lamb   \n",
       "27085   The Forgotten (Peter Decker &amp; Rina Lazarus...   Faye Kellerman   \n",
       "142022                         Pet Food (Little Monsters)   Jan Pienkowski   \n",
       "74960                                        Hiding Place  Corrie Ten Boom   \n",
       "\n",
       "          year                     publisher  \\\n",
       "54691   2001.0      Berkley Publishing Group   \n",
       "4882    1987.0                   Plume Books   \n",
       "48071   1995.0                  Bantam Books   \n",
       "73245   1996.0           Sterling Pub Co Inc   \n",
       "103122  2003.0            Poisoned Pen Press   \n",
       "61833   2001.0                     Harlequin   \n",
       "108908  1996.0                    Reganbooks   \n",
       "27085   2002.0                          Avon   \n",
       "142022  1990.0  Random House Childrens Books   \n",
       "74960   1984.0                  Bantam Books   \n",
       "\n",
       "                                                  img_url  \n",
       "54691   http://images.amazon.com/images/P/0425179184.0...  \n",
       "4882    http://images.amazon.com/images/P/0452260116.0...  \n",
       "48071   http://images.amazon.com/images/P/0553568760.0...  \n",
       "73245   http://images.amazon.com/images/P/0713726202.0...  \n",
       "103122  http://images.amazon.com/images/P/1590580575.0...  \n",
       "61833   http://images.amazon.com/images/P/0373226160.0...  \n",
       "108908  http://images.amazon.com/images/P/0965605914.0...  \n",
       "27085   http://images.amazon.com/images/P/0380730847.0...  \n",
       "142022  http://images.amazon.com/images/P/0385413440.0...  \n",
       "74960   http://images.amazon.com/images/P/0553256696.0...  "
      ]
     },
     "execution_count": 94,
     "metadata": {},
     "output_type": "execute_result"
    }
   ],
   "source": [
    "final_dataset.sample(10)"
   ]
  },
  {
   "cell_type": "code",
   "execution_count": 95,
   "id": "7144ff48",
   "metadata": {},
   "outputs": [
    {
     "data": {
      "text/plain": [
       "user_id                    0\n",
       "age                        0\n",
       "country                    0\n",
       "ISBN                       0\n",
       "rating                     0\n",
       "Avg_Rating                 0\n",
       "Total_No_Of_Users_Rated    0\n",
       "title                      0\n",
       "author                     0\n",
       "year                       0\n",
       "publisher                  0\n",
       "img_url                    0\n",
       "dtype: int64"
      ]
     },
     "execution_count": 95,
     "metadata": {},
     "output_type": "execute_result"
    }
   ],
   "source": [
    "final_dataset.isna().sum()"
   ]
  },
  {
   "cell_type": "code",
   "execution_count": 96,
   "id": "e32e01b3",
   "metadata": {},
   "outputs": [
    {
     "data": {
      "text/plain": [
       "(151924, 12)"
      ]
     },
     "execution_count": 96,
     "metadata": {},
     "output_type": "execute_result"
    }
   ],
   "source": [
    "final_dataset.shape"
   ]
  },
  {
   "cell_type": "markdown",
   "id": "13d7a15e",
   "metadata": {},
   "source": [
    "# Popularity Based Recommendation System"
   ]
  },
  {
   "cell_type": "markdown",
   "id": "0c3badac",
   "metadata": {},
   "source": [
    "#### Popular Books"
   ]
  },
  {
   "cell_type": "code",
   "execution_count": 97,
   "id": "806c8a02",
   "metadata": {},
   "outputs": [
    {
     "data": {
      "text/plain": [
       "'\\nBook weighted avg formula:\\n\\nWeighted Rating(WR)=[vR/(v+m)]+[mC/(v+m)]\\n\\nwhere,\\nv is the number of votes for the books;\\nm is the minimum votes required to be listed in the chart;\\nR is the average rating of the book; and\\nC is the mean vote across the whole report.\\n'"
      ]
     },
     "execution_count": 97,
     "metadata": {},
     "output_type": "execute_result"
    }
   ],
   "source": [
    "'''\n",
    "Book weighted avg formula:\n",
    "\n",
    "Weighted Rating(WR)=[vR/(v+m)]+[mC/(v+m)]\n",
    "\n",
    "where,\n",
    "v is the number of votes for the books;\n",
    "m is the minimum votes required to be listed in the chart;\n",
    "R is the average rating of the book; and\n",
    "C is the mean vote across the whole report.\n",
    "'''"
   ]
  },
  {
   "cell_type": "code",
   "execution_count": 98,
   "id": "8a1d696d",
   "metadata": {},
   "outputs": [
    {
     "name": "stdout",
     "output_type": "stream",
     "text": [
      "C=7.732348996730877 , m=43.0\n"
     ]
    },
    {
     "data": {
      "text/plain": [
       "(15202, 12)"
      ]
     },
     "execution_count": 98,
     "metadata": {},
     "output_type": "execute_result"
    }
   ],
   "source": [
    "# Now we find the values of v,m,R,C\n",
    "\n",
    "C= final_dataset['Avg_Rating'].mean()\n",
    "m= final_dataset['Total_No_Of_Users_Rated'].quantile(0.90)\n",
    "popular_book = final_dataset.loc[final_dataset['Total_No_Of_Users_Rated'] >= m]\n",
    "print(f'C={C} , m={m}')\n",
    "popular_book.shape"
   ]
  },
  {
   "cell_type": "markdown",
   "id": "c372a3b3",
   "metadata": {},
   "source": [
    "***Here we used 90th percentile as our cutoff. In other words, for a book to feature in the charts, it must have more votes than at least 90% of the books in the list.\n",
    "We see that there are 48990 books which qualify to be in this list. Now, we need to calculate our metric for each qualified book. To do this, we will define a function, weighted_rating() and define a new feature score, of which we’ll calculate the value by applying this function to our DataFrame of qualified books:***"
   ]
  },
  {
   "cell_type": "code",
   "execution_count": 99,
   "id": "e973289e",
   "metadata": {},
   "outputs": [],
   "source": [
    "def weighted_rating(x, m=m, C=C):\n",
    "    v = x['Total_No_Of_Users_Rated']\n",
    "    R = x['Avg_Rating']\n",
    "    return (v/(v+m) * R) + (m/(m+v) * C)\n",
    "\n",
    "\n",
    "popular_book['Score'] = popular_book.apply(weighted_rating,axis=1)\n",
    " \n",
    "\n",
    "#Sorting books based on score calculated above\n",
    "popular_book = popular_book.sort_values('Score', ascending=False)"
   ]
  },
  {
   "cell_type": "code",
   "execution_count": 100,
   "id": "e7743be3",
   "metadata": {
    "scrolled": false
   },
   "outputs": [
    {
     "data": {
      "text/html": [
       "<style type=\"text/css\">\n",
       "#T_da5f5_row0_col1 {\n",
       "  background-color: #9ff79f;\n",
       "  color: #000000;\n",
       "}\n",
       "#T_da5f5_row0_col2 {\n",
       "  background-color: #31fc31;\n",
       "  color: #000000;\n",
       "}\n",
       "#T_da5f5_row0_col3, #T_da5f5_row2_col2, #T_da5f5_row3_col1 {\n",
       "  background-color: #00ff00;\n",
       "  color: #000000;\n",
       "}\n",
       "#T_da5f5_row1_col1 {\n",
       "  background-color: #61fa61;\n",
       "  color: #000000;\n",
       "}\n",
       "#T_da5f5_row1_col2 {\n",
       "  background-color: #83f883;\n",
       "  color: #000000;\n",
       "}\n",
       "#T_da5f5_row1_col3 {\n",
       "  background-color: #2ffd2f;\n",
       "  color: #000000;\n",
       "}\n",
       "#T_da5f5_row2_col1 {\n",
       "  background-color: #d5f4d5;\n",
       "  color: #000000;\n",
       "}\n",
       "#T_da5f5_row2_col3 {\n",
       "  background-color: #32fc32;\n",
       "  color: #000000;\n",
       "}\n",
       "#T_da5f5_row3_col2 {\n",
       "  background-color: #a4f7a4;\n",
       "  color: #000000;\n",
       "}\n",
       "#T_da5f5_row3_col3 {\n",
       "  background-color: #37fc37;\n",
       "  color: #000000;\n",
       "}\n",
       "#T_da5f5_row4_col1 {\n",
       "  background-color: #a3f7a3;\n",
       "  color: #000000;\n",
       "}\n",
       "#T_da5f5_row4_col2 {\n",
       "  background-color: #71f971;\n",
       "  color: #000000;\n",
       "}\n",
       "#T_da5f5_row4_col3 {\n",
       "  background-color: #4dfb4d;\n",
       "  color: #000000;\n",
       "}\n",
       "#T_da5f5_row5_col1, #T_da5f5_row6_col3 {\n",
       "  background-color: #59fa59;\n",
       "  color: #000000;\n",
       "}\n",
       "#T_da5f5_row5_col2 {\n",
       "  background-color: #a2f7a2;\n",
       "  color: #000000;\n",
       "}\n",
       "#T_da5f5_row5_col3 {\n",
       "  background-color: #54fb54;\n",
       "  color: #000000;\n",
       "}\n",
       "#T_da5f5_row6_col1, #T_da5f5_row10_col3 {\n",
       "  background-color: #9bf79b;\n",
       "  color: #000000;\n",
       "}\n",
       "#T_da5f5_row6_col2 {\n",
       "  background-color: #82f882;\n",
       "  color: #000000;\n",
       "}\n",
       "#T_da5f5_row7_col1 {\n",
       "  background-color: #b0f6b0;\n",
       "  color: #000000;\n",
       "}\n",
       "#T_da5f5_row7_col2 {\n",
       "  background-color: #94f794;\n",
       "  color: #000000;\n",
       "}\n",
       "#T_da5f5_row7_col3 {\n",
       "  background-color: #84f884;\n",
       "  color: #000000;\n",
       "}\n",
       "#T_da5f5_row8_col1 {\n",
       "  background-color: #d0f4d0;\n",
       "  color: #000000;\n",
       "}\n",
       "#T_da5f5_row8_col2 {\n",
       "  background-color: #63fa63;\n",
       "  color: #000000;\n",
       "}\n",
       "#T_da5f5_row8_col3 {\n",
       "  background-color: #87f887;\n",
       "  color: #000000;\n",
       "}\n",
       "#T_da5f5_row9_col1 {\n",
       "  background-color: #a9f6a9;\n",
       "  color: #000000;\n",
       "}\n",
       "#T_da5f5_row9_col2 {\n",
       "  background-color: #aaf6aa;\n",
       "  color: #000000;\n",
       "}\n",
       "#T_da5f5_row9_col3 {\n",
       "  background-color: #96f796;\n",
       "  color: #000000;\n",
       "}\n",
       "#T_da5f5_row10_col1 {\n",
       "  background-color: #b7f6b7;\n",
       "  color: #000000;\n",
       "}\n",
       "#T_da5f5_row10_col2 {\n",
       "  background-color: #9ef79e;\n",
       "  color: #000000;\n",
       "}\n",
       "#T_da5f5_row11_col1 {\n",
       "  background-color: #70f970;\n",
       "  color: #000000;\n",
       "}\n",
       "#T_da5f5_row11_col2 {\n",
       "  background-color: #dcf4dc;\n",
       "  color: #000000;\n",
       "}\n",
       "#T_da5f5_row11_col3 {\n",
       "  background-color: #a6f6a6;\n",
       "  color: #000000;\n",
       "}\n",
       "#T_da5f5_row12_col1 {\n",
       "  background-color: #a5f7a5;\n",
       "  color: #000000;\n",
       "}\n",
       "#T_da5f5_row12_col2, #T_da5f5_row16_col3 {\n",
       "  background-color: #c8f5c8;\n",
       "  color: #000000;\n",
       "}\n",
       "#T_da5f5_row12_col3 {\n",
       "  background-color: #b2f6b2;\n",
       "  color: #000000;\n",
       "}\n",
       "#T_da5f5_row13_col1 {\n",
       "  background-color: #def4de;\n",
       "  color: #000000;\n",
       "}\n",
       "#T_da5f5_row13_col2 {\n",
       "  background-color: #74f974;\n",
       "  color: #000000;\n",
       "}\n",
       "#T_da5f5_row13_col3 {\n",
       "  background-color: #b9f5b9;\n",
       "  color: #000000;\n",
       "}\n",
       "#T_da5f5_row14_col1, #T_da5f5_row16_col2, #T_da5f5_row19_col3 {\n",
       "  background-color: #ebf3eb;\n",
       "  color: #000000;\n",
       "}\n",
       "#T_da5f5_row14_col2 {\n",
       "  background-color: #45fb45;\n",
       "  color: #000000;\n",
       "}\n",
       "#T_da5f5_row14_col3 {\n",
       "  background-color: #bdf5bd;\n",
       "  color: #000000;\n",
       "}\n",
       "#T_da5f5_row15_col1 {\n",
       "  background-color: #b1f6b1;\n",
       "  color: #000000;\n",
       "}\n",
       "#T_da5f5_row15_col2 {\n",
       "  background-color: #c9f5c8;\n",
       "  color: #000000;\n",
       "}\n",
       "#T_da5f5_row15_col3 {\n",
       "  background-color: #c0f5c0;\n",
       "  color: #000000;\n",
       "}\n",
       "#T_da5f5_row16_col1 {\n",
       "  background-color: #89f889;\n",
       "  color: #000000;\n",
       "}\n",
       "#T_da5f5_row17_col1 {\n",
       "  background-color: #d7f4d7;\n",
       "  color: #000000;\n",
       "}\n",
       "#T_da5f5_row17_col2 {\n",
       "  background-color: #98f798;\n",
       "  color: #000000;\n",
       "}\n",
       "#T_da5f5_row17_col3 {\n",
       "  background-color: #cbf5cb;\n",
       "  color: #000000;\n",
       "}\n",
       "#T_da5f5_row18_col1 {\n",
       "  background-color: #d2f4d2;\n",
       "  color: #000000;\n",
       "}\n",
       "#T_da5f5_row18_col2 {\n",
       "  background-color: #baf5ba;\n",
       "  color: #000000;\n",
       "}\n",
       "#T_da5f5_row18_col3 {\n",
       "  background-color: #e1f3e1;\n",
       "  color: #000000;\n",
       "}\n",
       "#T_da5f5_row19_col1 {\n",
       "  background-color: #bff5bf;\n",
       "  color: #000000;\n",
       "}\n",
       "#T_da5f5_row19_col2 {\n",
       "  background-color: #e0f4df;\n",
       "  color: #000000;\n",
       "}\n",
       "</style>\n",
       "<table id=\"T_da5f5\">\n",
       "  <thead>\n",
       "    <tr>\n",
       "      <th class=\"blank level0\" >&nbsp;</th>\n",
       "      <th id=\"T_da5f5_level0_col0\" class=\"col_heading level0 col0\" >title</th>\n",
       "      <th id=\"T_da5f5_level0_col1\" class=\"col_heading level0 col1\" >Total_No_Of_Users_Rated</th>\n",
       "      <th id=\"T_da5f5_level0_col2\" class=\"col_heading level0 col2\" >Avg_Rating</th>\n",
       "      <th id=\"T_da5f5_level0_col3\" class=\"col_heading level0 col3\" >Score</th>\n",
       "    </tr>\n",
       "  </thead>\n",
       "  <tbody>\n",
       "    <tr>\n",
       "      <th id=\"T_da5f5_level0_row0\" class=\"row_heading level0 row0\" >0</th>\n",
       "      <td id=\"T_da5f5_row0_col0\" class=\"data row0 col0\" >Harry Potter and the Goblet of Fire (Book 4)</td>\n",
       "      <td id=\"T_da5f5_row0_col1\" class=\"data row0 col1\" >137</td>\n",
       "      <td id=\"T_da5f5_row0_col2\" class=\"data row0 col2\" >9.262774</td>\n",
       "      <td id=\"T_da5f5_row0_col3\" class=\"data row0 col3\" >8.897172</td>\n",
       "    </tr>\n",
       "    <tr>\n",
       "      <th id=\"T_da5f5_level0_row1\" class=\"row_heading level0 row1\" >1</th>\n",
       "      <td id=\"T_da5f5_row1_col0\" class=\"data row1 col0\" >Harry Potter and the Order of the Phoenix (Book 5)</td>\n",
       "      <td id=\"T_da5f5_row1_col1\" class=\"data row1 col1\" >206</td>\n",
       "      <td id=\"T_da5f5_row1_col2\" class=\"data row1 col2\" >9.033981</td>\n",
       "      <td id=\"T_da5f5_row1_col3\" class=\"data row1 col3\" >8.809201</td>\n",
       "    </tr>\n",
       "    <tr>\n",
       "      <th id=\"T_da5f5_level0_row2\" class=\"row_heading level0 row2\" >2</th>\n",
       "      <td id=\"T_da5f5_row2_col0\" class=\"data row2 col0\" >The Return of the King (The Lord of the Rings, Part 3)</td>\n",
       "      <td id=\"T_da5f5_row2_col1\" class=\"data row2 col1\" >77</td>\n",
       "      <td id=\"T_da5f5_row2_col2\" class=\"data row2 col2\" >9.402597</td>\n",
       "      <td id=\"T_da5f5_row2_col3\" class=\"data row2 col3\" >8.804092</td>\n",
       "    </tr>\n",
       "    <tr>\n",
       "      <th id=\"T_da5f5_level0_row3\" class=\"row_heading level0 row3\" >3</th>\n",
       "      <td id=\"T_da5f5_row3_col0\" class=\"data row3 col0\" >Harry Potter and the Sorcerer's Stone (Harry Potter (Paperback))</td>\n",
       "      <td id=\"T_da5f5_row3_col1\" class=\"data row3 col1\" >313</td>\n",
       "      <td id=\"T_da5f5_row3_col2\" class=\"data row3 col2\" >8.939297</td>\n",
       "      <td id=\"T_da5f5_row3_col3\" class=\"data row3 col3\" >8.793514</td>\n",
       "    </tr>\n",
       "    <tr>\n",
       "      <th id=\"T_da5f5_level0_row4\" class=\"row_heading level0 row4\" >4</th>\n",
       "      <td id=\"T_da5f5_row4_col0\" class=\"data row4 col0\" >Harry Potter and the Prisoner of Azkaban (Book 3)</td>\n",
       "      <td id=\"T_da5f5_row4_col1\" class=\"data row4 col1\" >133</td>\n",
       "      <td id=\"T_da5f5_row4_col2\" class=\"data row4 col2\" >9.082707</td>\n",
       "      <td id=\"T_da5f5_row4_col3\" class=\"data row4 col3\" >8.752790</td>\n",
       "    </tr>\n",
       "    <tr>\n",
       "      <th id=\"T_da5f5_level0_row5\" class=\"row_heading level0 row5\" >5</th>\n",
       "      <td id=\"T_da5f5_row5_col0\" class=\"data row5 col0\" >To Kill a Mockingbird</td>\n",
       "      <td id=\"T_da5f5_row5_col1\" class=\"data row5 col1\" >214</td>\n",
       "      <td id=\"T_da5f5_row5_col2\" class=\"data row5 col2\" >8.943925</td>\n",
       "      <td id=\"T_da5f5_row5_col3\" class=\"data row5 col3\" >8.741210</td>\n",
       "    </tr>\n",
       "    <tr>\n",
       "      <th id=\"T_da5f5_level0_row6\" class=\"row_heading level0 row6\" >6</th>\n",
       "      <td id=\"T_da5f5_row6_col0\" class=\"data row6 col0\" >Harry Potter and the Prisoner of Azkaban (Book 3)</td>\n",
       "      <td id=\"T_da5f5_row6_col1\" class=\"data row6 col1\" >141</td>\n",
       "      <td id=\"T_da5f5_row6_col2\" class=\"data row6 col2\" >9.035461</td>\n",
       "      <td id=\"T_da5f5_row6_col3\" class=\"data row6 col3\" >8.730929</td>\n",
       "    </tr>\n",
       "    <tr>\n",
       "      <th id=\"T_da5f5_level0_row7\" class=\"row_heading level0 row7\" >7</th>\n",
       "      <td id=\"T_da5f5_row7_col0\" class=\"data row7 col0\" >Harry Potter and the Sorcerer's Stone (Book 1)</td>\n",
       "      <td id=\"T_da5f5_row7_col1\" class=\"data row7 col1\" >119</td>\n",
       "      <td id=\"T_da5f5_row7_col2\" class=\"data row7 col2\" >8.983193</td>\n",
       "      <td id=\"T_da5f5_row7_col3\" class=\"data row7 col3\" >8.651179</td>\n",
       "    </tr>\n",
       "    <tr>\n",
       "      <th id=\"T_da5f5_level0_row8\" class=\"row_heading level0 row8\" >8</th>\n",
       "      <td id=\"T_da5f5_row8_col0\" class=\"data row8 col0\" >The Two Towers (The Lord of the Rings, Part 2)</td>\n",
       "      <td id=\"T_da5f5_row8_col1\" class=\"data row8 col1\" >83</td>\n",
       "      <td id=\"T_da5f5_row8_col2\" class=\"data row8 col2\" >9.120482</td>\n",
       "      <td id=\"T_da5f5_row8_col3\" class=\"data row8 col3\" >8.646754</td>\n",
       "    </tr>\n",
       "    <tr>\n",
       "      <th id=\"T_da5f5_level0_row9\" class=\"row_heading level0 row9\" >9</th>\n",
       "      <td id=\"T_da5f5_row9_col0\" class=\"data row9 col0\" >Harry Potter and the Chamber of Secrets (Book 2)</td>\n",
       "      <td id=\"T_da5f5_row9_col1\" class=\"data row9 col1\" >126</td>\n",
       "      <td id=\"T_da5f5_row9_col2\" class=\"data row9 col2\" >8.920635</td>\n",
       "      <td id=\"T_da5f5_row9_col3\" class=\"data row9 col3\" >8.618290</td>\n",
       "    </tr>\n",
       "    <tr>\n",
       "      <th id=\"T_da5f5_level0_row10\" class=\"row_heading level0 row10\" >10</th>\n",
       "      <td id=\"T_da5f5_row10_col0\" class=\"data row10 col0\" >Harry Potter and the Goblet of Fire (Book 4)</td>\n",
       "      <td id=\"T_da5f5_row10_col1\" class=\"data row10 col1\" >110</td>\n",
       "      <td id=\"T_da5f5_row10_col2\" class=\"data row10 col2\" >8.954545</td>\n",
       "      <td id=\"T_da5f5_row10_col3\" class=\"data row10 col3\" >8.611052</td>\n",
       "    </tr>\n",
       "    <tr>\n",
       "      <th id=\"T_da5f5_level0_row11\" class=\"row_heading level0 row11\" >11</th>\n",
       "      <td id=\"T_da5f5_row11_col0\" class=\"data row11 col0\" >Harry Potter and the Chamber of Secrets (Book 2)</td>\n",
       "      <td id=\"T_da5f5_row11_col1\" class=\"data row11 col1\" >189</td>\n",
       "      <td id=\"T_da5f5_row11_col2\" class=\"data row11 col2\" >8.783069</td>\n",
       "      <td id=\"T_da5f5_row11_col3\" class=\"data row11 col3\" >8.588323</td>\n",
       "    </tr>\n",
       "    <tr>\n",
       "      <th id=\"T_da5f5_level0_row12\" class=\"row_heading level0 row12\" >12</th>\n",
       "      <td id=\"T_da5f5_row12_col0\" class=\"data row12 col0\" >The Fellowship of the Ring (The Lord of the Rings, Part 1)</td>\n",
       "      <td id=\"T_da5f5_row12_col1\" class=\"data row12 col1\" >131</td>\n",
       "      <td id=\"T_da5f5_row12_col2\" class=\"data row12 col2\" >8.839695</td>\n",
       "      <td id=\"T_da5f5_row12_col3\" class=\"data row12 col3\" >8.566040</td>\n",
       "    </tr>\n",
       "    <tr>\n",
       "      <th id=\"T_da5f5_level0_row13\" class=\"row_heading level0 row13\" >13</th>\n",
       "      <td id=\"T_da5f5_row13_col0\" class=\"data row13 col0\" >Charlotte's Web (Trophy Newbery)</td>\n",
       "      <td id=\"T_da5f5_row13_col1\" class=\"data row13 col1\" >68</td>\n",
       "      <td id=\"T_da5f5_row13_col2\" class=\"data row13 col2\" >9.073529</td>\n",
       "      <td id=\"T_da5f5_row13_col3\" class=\"data row13 col3\" >8.553973</td>\n",
       "    </tr>\n",
       "    <tr>\n",
       "      <th id=\"T_da5f5_level0_row14\" class=\"row_heading level0 row14\" >14</th>\n",
       "      <td id=\"T_da5f5_row14_col0\" class=\"data row14 col0\" >Harry Potter and the Sorcerer's Stone (Book 1)</td>\n",
       "      <td id=\"T_da5f5_row14_col1\" class=\"data row14 col1\" >53</td>\n",
       "      <td id=\"T_da5f5_row14_col2\" class=\"data row14 col2\" >9.207547</td>\n",
       "      <td id=\"T_da5f5_row14_col3\" class=\"data row14 col3\" >8.546781</td>\n",
       "    </tr>\n",
       "    <tr>\n",
       "      <th id=\"T_da5f5_level0_row15\" class=\"row_heading level0 row15\" >15</th>\n",
       "      <td id=\"T_da5f5_row15_col0\" class=\"data row15 col0\" >Ender's Game (Ender Wiggins Saga (Paperback))</td>\n",
       "      <td id=\"T_da5f5_row15_col1\" class=\"data row15 col1\" >117</td>\n",
       "      <td id=\"T_da5f5_row15_col2\" class=\"data row15 col2\" >8.837607</td>\n",
       "      <td id=\"T_da5f5_row15_col3\" class=\"data row15 col3\" >8.540569</td>\n",
       "    </tr>\n",
       "    <tr>\n",
       "      <th id=\"T_da5f5_level0_row16\" class=\"row_heading level0 row16\" >16</th>\n",
       "      <td id=\"T_da5f5_row16_col0\" class=\"data row16 col0\" >The Hobbit : The Enchanting Prelude to The Lord of the Rings</td>\n",
       "      <td id=\"T_da5f5_row16_col1\" class=\"data row16 col1\" >161</td>\n",
       "      <td id=\"T_da5f5_row16_col2\" class=\"data row16 col2\" >8.739130</td>\n",
       "      <td id=\"T_da5f5_row16_col3\" class=\"data row16 col3\" >8.526917</td>\n",
       "    </tr>\n",
       "    <tr>\n",
       "      <th id=\"T_da5f5_level0_row17\" class=\"row_heading level0 row17\" >17</th>\n",
       "      <td id=\"T_da5f5_row17_col0\" class=\"data row17 col0\" >Dune (Remembering Tomorrow)</td>\n",
       "      <td id=\"T_da5f5_row17_col1\" class=\"data row17 col1\" >75</td>\n",
       "      <td id=\"T_da5f5_row17_col2\" class=\"data row17 col2\" >8.973333</td>\n",
       "      <td id=\"T_da5f5_row17_col3\" class=\"data row17 col3\" >8.521110</td>\n",
       "    </tr>\n",
       "    <tr>\n",
       "      <th id=\"T_da5f5_level0_row18\" class=\"row_heading level0 row18\" >18</th>\n",
       "      <td id=\"T_da5f5_row18_col0\" class=\"data row18 col0\" >A Wrinkle In Time</td>\n",
       "      <td id=\"T_da5f5_row18_col1\" class=\"data row18 col1\" >81</td>\n",
       "      <td id=\"T_da5f5_row18_col2\" class=\"data row18 col2\" >8.876543</td>\n",
       "      <td id=\"T_da5f5_row18_col3\" class=\"data row18 col3\" >8.479766</td>\n",
       "    </tr>\n",
       "    <tr>\n",
       "      <th id=\"T_da5f5_level0_row19\" class=\"row_heading level0 row19\" >19</th>\n",
       "      <td id=\"T_da5f5_row19_col0\" class=\"data row19 col0\" >1984</td>\n",
       "      <td id=\"T_da5f5_row19_col1\" class=\"data row19 col1\" >101</td>\n",
       "      <td id=\"T_da5f5_row19_col2\" class=\"data row19 col2\" >8.772277</td>\n",
       "      <td id=\"T_da5f5_row19_col3\" class=\"data row19 col3\" >8.461743</td>\n",
       "    </tr>\n",
       "  </tbody>\n",
       "</table>\n"
      ],
      "text/plain": [
       "<pandas.io.formats.style.Styler at 0x1de36d8a8b0>"
      ]
     },
     "execution_count": 100,
     "metadata": {},
     "output_type": "execute_result"
    }
   ],
   "source": [
    "#Keeping only one entry of each book\n",
    "popular_book = popular_book.sort_values(\n",
    "    'Score', ascending=False).drop_duplicates('ISBN').sort_index()\n",
    "cm = sns.light_palette('lime', as_cmap=True)\n",
    "#Sorting books based on score calculated above\n",
    "popular_book = popular_book.sort_values('Score', ascending=False)\n",
    "\n",
    "#Printing the top 20 books\n",
    "popular_book[[\n",
    "    'title', 'Total_No_Of_Users_Rated', 'Avg_Rating', 'Score'\n",
    "]].head(20).reset_index(drop=True).style.background_gradient(cmap=cm)"
   ]
  },
  {
   "cell_type": "code",
   "execution_count": 101,
   "id": "ab628f09",
   "metadata": {},
   "outputs": [
    {
     "data": {
      "text/plain": [
       "Index(['ISBN', 'title', 'author', 'year', 'publisher', 'img_url'], dtype='object')"
      ]
     },
     "execution_count": 101,
     "metadata": {},
     "output_type": "execute_result"
    }
   ],
   "source": [
    "books.columns"
   ]
  },
  {
   "cell_type": "code",
   "execution_count": 102,
   "id": "ff0a88bd",
   "metadata": {},
   "outputs": [
    {
     "data": {
      "text/html": [
       "<div>\n",
       "<style scoped>\n",
       "    .dataframe tbody tr th:only-of-type {\n",
       "        vertical-align: middle;\n",
       "    }\n",
       "\n",
       "    .dataframe tbody tr th {\n",
       "        vertical-align: top;\n",
       "    }\n",
       "\n",
       "    .dataframe thead th {\n",
       "        text-align: right;\n",
       "    }\n",
       "</style>\n",
       "<table border=\"1\" class=\"dataframe\">\n",
       "  <thead>\n",
       "    <tr style=\"text-align: right;\">\n",
       "      <th></th>\n",
       "      <th>title</th>\n",
       "      <th>img_url</th>\n",
       "    </tr>\n",
       "  </thead>\n",
       "  <tbody>\n",
       "    <tr>\n",
       "      <th>0</th>\n",
       "      <td>Classical Mythology</td>\n",
       "      <td>http://images.amazon.com/images/P/0195153448.0...</td>\n",
       "    </tr>\n",
       "    <tr>\n",
       "      <th>1</th>\n",
       "      <td>Clara Callan</td>\n",
       "      <td>http://images.amazon.com/images/P/0002005018.0...</td>\n",
       "    </tr>\n",
       "  </tbody>\n",
       "</table>\n",
       "</div>"
      ],
      "text/plain": [
       "                 title                                            img_url\n",
       "0  Classical Mythology  http://images.amazon.com/images/P/0195153448.0...\n",
       "1         Clara Callan  http://images.amazon.com/images/P/0002005018.0..."
      ]
     },
     "execution_count": 102,
     "metadata": {},
     "output_type": "execute_result"
    }
   ],
   "source": [
    "b = books[['title', 'img_url']].copy()\n",
    "b.head(2)"
   ]
  },
  {
   "cell_type": "code",
   "execution_count": 103,
   "id": "544d50f6",
   "metadata": {},
   "outputs": [
    {
     "data": {
      "text/plain": [
       "(648, 13)"
      ]
     },
     "execution_count": 103,
     "metadata": {},
     "output_type": "execute_result"
    }
   ],
   "source": [
    "popular_book.shape"
   ]
  },
  {
   "cell_type": "code",
   "execution_count": 104,
   "id": "5e4c1947",
   "metadata": {},
   "outputs": [
    {
     "data": {
      "text/plain": [
       "Index(['user_id', 'age', 'country', 'ISBN', 'rating', 'Avg_Rating',\n",
       "       'Total_No_Of_Users_Rated', 'title', 'author', 'year', 'publisher',\n",
       "       'img_url', 'Score'],\n",
       "      dtype='object')"
      ]
     },
     "execution_count": 104,
     "metadata": {},
     "output_type": "execute_result"
    }
   ],
   "source": [
    "popular_book.columns"
   ]
  },
  {
   "cell_type": "code",
   "execution_count": 105,
   "id": "c32c5ab9",
   "metadata": {},
   "outputs": [
    {
     "data": {
      "text/html": [
       "<div>\n",
       "<style scoped>\n",
       "    .dataframe tbody tr th:only-of-type {\n",
       "        vertical-align: middle;\n",
       "    }\n",
       "\n",
       "    .dataframe tbody tr th {\n",
       "        vertical-align: top;\n",
       "    }\n",
       "\n",
       "    .dataframe thead th {\n",
       "        text-align: right;\n",
       "    }\n",
       "</style>\n",
       "<table border=\"1\" class=\"dataframe\">\n",
       "  <thead>\n",
       "    <tr style=\"text-align: right;\">\n",
       "      <th></th>\n",
       "      <th>title</th>\n",
       "      <th>Total_No_Of_Users_Rated</th>\n",
       "      <th>Score</th>\n",
       "    </tr>\n",
       "  </thead>\n",
       "  <tbody>\n",
       "    <tr>\n",
       "      <th>453</th>\n",
       "      <td>Harry Potter and the Goblet of Fire (Book 4)</td>\n",
       "      <td>137</td>\n",
       "      <td>8.897172</td>\n",
       "    </tr>\n",
       "    <tr>\n",
       "      <th>2700</th>\n",
       "      <td>Harry Potter and the Order of the Phoenix (Boo...</td>\n",
       "      <td>206</td>\n",
       "      <td>8.809201</td>\n",
       "    </tr>\n",
       "    <tr>\n",
       "      <th>61385</th>\n",
       "      <td>The Return of the King (The Lord of the Rings,...</td>\n",
       "      <td>77</td>\n",
       "      <td>8.804092</td>\n",
       "    </tr>\n",
       "    <tr>\n",
       "      <th>2161</th>\n",
       "      <td>Harry Potter and the Sorcerer's Stone (Harry P...</td>\n",
       "      <td>313</td>\n",
       "      <td>8.793514</td>\n",
       "    </tr>\n",
       "    <tr>\n",
       "      <th>431</th>\n",
       "      <td>Harry Potter and the Prisoner of Azkaban (Book 3)</td>\n",
       "      <td>133</td>\n",
       "      <td>8.752790</td>\n",
       "    </tr>\n",
       "    <tr>\n",
       "      <th>...</th>\n",
       "      <td>...</td>\n",
       "      <td>...</td>\n",
       "      <td>...</td>\n",
       "    </tr>\n",
       "    <tr>\n",
       "      <th>9628</th>\n",
       "      <td>How to Be Good</td>\n",
       "      <td>104</td>\n",
       "      <td>6.982932</td>\n",
       "    </tr>\n",
       "    <tr>\n",
       "      <th>21434</th>\n",
       "      <td>4 Blondes</td>\n",
       "      <td>52</td>\n",
       "      <td>6.594642</td>\n",
       "    </tr>\n",
       "    <tr>\n",
       "      <th>18746</th>\n",
       "      <td>Four Blondes</td>\n",
       "      <td>54</td>\n",
       "      <td>6.458670</td>\n",
       "    </tr>\n",
       "    <tr>\n",
       "      <th>3652</th>\n",
       "      <td>Isle of Dogs</td>\n",
       "      <td>71</td>\n",
       "      <td>6.241149</td>\n",
       "    </tr>\n",
       "    <tr>\n",
       "      <th>2297</th>\n",
       "      <td>Wild Animus</td>\n",
       "      <td>581</td>\n",
       "      <td>4.620979</td>\n",
       "    </tr>\n",
       "  </tbody>\n",
       "</table>\n",
       "<p>648 rows × 3 columns</p>\n",
       "</div>"
      ],
      "text/plain": [
       "                                                   title  \\\n",
       "453         Harry Potter and the Goblet of Fire (Book 4)   \n",
       "2700   Harry Potter and the Order of the Phoenix (Boo...   \n",
       "61385  The Return of the King (The Lord of the Rings,...   \n",
       "2161   Harry Potter and the Sorcerer's Stone (Harry P...   \n",
       "431    Harry Potter and the Prisoner of Azkaban (Book 3)   \n",
       "...                                                  ...   \n",
       "9628                                      How to Be Good   \n",
       "21434                                          4 Blondes   \n",
       "18746                                       Four Blondes   \n",
       "3652                                        Isle of Dogs   \n",
       "2297                                         Wild Animus   \n",
       "\n",
       "       Total_No_Of_Users_Rated     Score  \n",
       "453                        137  8.897172  \n",
       "2700                       206  8.809201  \n",
       "61385                       77  8.804092  \n",
       "2161                       313  8.793514  \n",
       "431                        133  8.752790  \n",
       "...                        ...       ...  \n",
       "9628                       104  6.982932  \n",
       "21434                       52  6.594642  \n",
       "18746                       54  6.458670  \n",
       "3652                        71  6.241149  \n",
       "2297                       581  4.620979  \n",
       "\n",
       "[648 rows x 3 columns]"
      ]
     },
     "execution_count": 105,
     "metadata": {},
     "output_type": "execute_result"
    }
   ],
   "source": [
    "p = popular_book[['title', 'Total_No_Of_Users_Rated', 'Score']]\n",
    "p"
   ]
  },
  {
   "cell_type": "code",
   "execution_count": 106,
   "id": "4ec04c8e",
   "metadata": {},
   "outputs": [],
   "source": [
    "popular_book_img = p.merge(b, on='title')"
   ]
  },
  {
   "cell_type": "code",
   "execution_count": 107,
   "id": "3eb1ffa5",
   "metadata": {},
   "outputs": [],
   "source": [
    "popular_book_img.drop_duplicates(['title'], inplace=True)"
   ]
  },
  {
   "cell_type": "code",
   "execution_count": 108,
   "id": "5f739d19",
   "metadata": {},
   "outputs": [
    {
     "data": {
      "text/html": [
       "<div>\n",
       "<style scoped>\n",
       "    .dataframe tbody tr th:only-of-type {\n",
       "        vertical-align: middle;\n",
       "    }\n",
       "\n",
       "    .dataframe tbody tr th {\n",
       "        vertical-align: top;\n",
       "    }\n",
       "\n",
       "    .dataframe thead th {\n",
       "        text-align: right;\n",
       "    }\n",
       "</style>\n",
       "<table border=\"1\" class=\"dataframe\">\n",
       "  <thead>\n",
       "    <tr style=\"text-align: right;\">\n",
       "      <th></th>\n",
       "      <th>title</th>\n",
       "      <th>Total_No_Of_Users_Rated</th>\n",
       "      <th>Score</th>\n",
       "      <th>img_url</th>\n",
       "    </tr>\n",
       "  </thead>\n",
       "  <tbody>\n",
       "    <tr>\n",
       "      <th>0</th>\n",
       "      <td>Harry Potter and the Goblet of Fire (Book 4)</td>\n",
       "      <td>137</td>\n",
       "      <td>8.897172</td>\n",
       "      <td>http://images.amazon.com/images/P/0439139597.0...</td>\n",
       "    </tr>\n",
       "    <tr>\n",
       "      <th>4</th>\n",
       "      <td>Harry Potter and the Order of the Phoenix (Boo...</td>\n",
       "      <td>206</td>\n",
       "      <td>8.809201</td>\n",
       "      <td>http://images.amazon.com/images/P/043935806X.0...</td>\n",
       "    </tr>\n",
       "    <tr>\n",
       "      <th>8</th>\n",
       "      <td>The Return of the King (The Lord of the Rings,...</td>\n",
       "      <td>77</td>\n",
       "      <td>8.804092</td>\n",
       "      <td>http://images.amazon.com/images/P/0345339738.0...</td>\n",
       "    </tr>\n",
       "    <tr>\n",
       "      <th>18</th>\n",
       "      <td>Harry Potter and the Sorcerer's Stone (Harry P...</td>\n",
       "      <td>313</td>\n",
       "      <td>8.793514</td>\n",
       "      <td>http://images.amazon.com/images/P/059035342X.0...</td>\n",
       "    </tr>\n",
       "    <tr>\n",
       "      <th>20</th>\n",
       "      <td>Harry Potter and the Prisoner of Azkaban (Book 3)</td>\n",
       "      <td>133</td>\n",
       "      <td>8.752790</td>\n",
       "      <td>http://images.amazon.com/images/P/0439136350.0...</td>\n",
       "    </tr>\n",
       "    <tr>\n",
       "      <th>...</th>\n",
       "      <td>...</td>\n",
       "      <td>...</td>\n",
       "      <td>...</td>\n",
       "      <td>...</td>\n",
       "    </tr>\n",
       "    <tr>\n",
       "      <th>1974</th>\n",
       "      <td>Songs in Ordinary Time (Oprah's Book Club (Pap...</td>\n",
       "      <td>66</td>\n",
       "      <td>7.004505</td>\n",
       "      <td>http://images.amazon.com/images/P/0140244824.0...</td>\n",
       "    </tr>\n",
       "    <tr>\n",
       "      <th>1975</th>\n",
       "      <td>4 Blondes</td>\n",
       "      <td>52</td>\n",
       "      <td>6.594642</td>\n",
       "      <td>http://images.amazon.com/images/P/0451203895.0...</td>\n",
       "    </tr>\n",
       "    <tr>\n",
       "      <th>1976</th>\n",
       "      <td>Four Blondes</td>\n",
       "      <td>54</td>\n",
       "      <td>6.458670</td>\n",
       "      <td>http://images.amazon.com/images/P/080213825X.0...</td>\n",
       "    </tr>\n",
       "    <tr>\n",
       "      <th>1978</th>\n",
       "      <td>Isle of Dogs</td>\n",
       "      <td>71</td>\n",
       "      <td>6.241149</td>\n",
       "      <td>http://images.amazon.com/images/P/0425182908.0...</td>\n",
       "    </tr>\n",
       "    <tr>\n",
       "      <th>1984</th>\n",
       "      <td>Wild Animus</td>\n",
       "      <td>581</td>\n",
       "      <td>4.620979</td>\n",
       "      <td>http://images.amazon.com/images/P/0971880107.0...</td>\n",
       "    </tr>\n",
       "  </tbody>\n",
       "</table>\n",
       "<p>593 rows × 4 columns</p>\n",
       "</div>"
      ],
      "text/plain": [
       "                                                  title  \\\n",
       "0          Harry Potter and the Goblet of Fire (Book 4)   \n",
       "4     Harry Potter and the Order of the Phoenix (Boo...   \n",
       "8     The Return of the King (The Lord of the Rings,...   \n",
       "18    Harry Potter and the Sorcerer's Stone (Harry P...   \n",
       "20    Harry Potter and the Prisoner of Azkaban (Book 3)   \n",
       "...                                                 ...   \n",
       "1974  Songs in Ordinary Time (Oprah's Book Club (Pap...   \n",
       "1975                                          4 Blondes   \n",
       "1976                                       Four Blondes   \n",
       "1978                                       Isle of Dogs   \n",
       "1984                                        Wild Animus   \n",
       "\n",
       "      Total_No_Of_Users_Rated     Score  \\\n",
       "0                         137  8.897172   \n",
       "4                         206  8.809201   \n",
       "8                          77  8.804092   \n",
       "18                        313  8.793514   \n",
       "20                        133  8.752790   \n",
       "...                       ...       ...   \n",
       "1974                       66  7.004505   \n",
       "1975                       52  6.594642   \n",
       "1976                       54  6.458670   \n",
       "1978                       71  6.241149   \n",
       "1984                      581  4.620979   \n",
       "\n",
       "                                                img_url  \n",
       "0     http://images.amazon.com/images/P/0439139597.0...  \n",
       "4     http://images.amazon.com/images/P/043935806X.0...  \n",
       "8     http://images.amazon.com/images/P/0345339738.0...  \n",
       "18    http://images.amazon.com/images/P/059035342X.0...  \n",
       "20    http://images.amazon.com/images/P/0439136350.0...  \n",
       "...                                                 ...  \n",
       "1974  http://images.amazon.com/images/P/0140244824.0...  \n",
       "1975  http://images.amazon.com/images/P/0451203895.0...  \n",
       "1976  http://images.amazon.com/images/P/080213825X.0...  \n",
       "1978  http://images.amazon.com/images/P/0425182908.0...  \n",
       "1984  http://images.amazon.com/images/P/0971880107.0...  \n",
       "\n",
       "[593 rows x 4 columns]"
      ]
     },
     "execution_count": 108,
     "metadata": {},
     "output_type": "execute_result"
    }
   ],
   "source": [
    "popular_book_img"
   ]
  },
  {
   "cell_type": "code",
   "execution_count": 109,
   "id": "6f7cca83",
   "metadata": {},
   "outputs": [
    {
     "data": {
      "text/plain": [
       "(593, 4)"
      ]
     },
     "execution_count": 109,
     "metadata": {},
     "output_type": "execute_result"
    }
   ],
   "source": [
    "popular_book_img.shape"
   ]
  },
  {
   "cell_type": "code",
   "execution_count": 110,
   "id": "160b4d93",
   "metadata": {},
   "outputs": [
    {
     "data": {
      "text/plain": [
       "'The Return of the King (The Lord of the Rings, Part 3)'"
      ]
     },
     "execution_count": 110,
     "metadata": {},
     "output_type": "execute_result"
    }
   ],
   "source": [
    "popular_book_img.iloc[2][0]"
   ]
  },
  {
   "cell_type": "code",
   "execution_count": 111,
   "id": "2d6b7050",
   "metadata": {},
   "outputs": [
    {
     "data": {
      "text/plain": [
       "77"
      ]
     },
     "execution_count": 111,
     "metadata": {},
     "output_type": "execute_result"
    }
   ],
   "source": [
    "popular_book_img.iloc[2][1]"
   ]
  },
  {
   "cell_type": "code",
   "execution_count": 112,
   "id": "41fbf497",
   "metadata": {},
   "outputs": [
    {
     "data": {
      "text/plain": [
       "8.8"
      ]
     },
     "execution_count": 112,
     "metadata": {},
     "output_type": "execute_result"
    }
   ],
   "source": [
    "np.round(popular_book_img.iloc[2][2],2)"
   ]
  },
  {
   "cell_type": "code",
   "execution_count": 113,
   "id": "6e54986b",
   "metadata": {},
   "outputs": [
    {
     "data": {
      "text/plain": [
       "'http://images.amazon.com/images/P/0345339738.01.LZZZZZZZ.jpg'"
      ]
     },
     "execution_count": 113,
     "metadata": {},
     "output_type": "execute_result"
    }
   ],
   "source": [
    "popular_book_img.iloc[2][3]"
   ]
  },
  {
   "cell_type": "code",
   "execution_count": 114,
   "id": "26c69131",
   "metadata": {},
   "outputs": [
    {
     "data": {
      "text/plain": [
       "\"Ender's Game (Ender Wiggins Saga (Paperback))\""
      ]
     },
     "execution_count": 114,
     "metadata": {},
     "output_type": "execute_result"
    }
   ],
   "source": [
    "popular_book_img.iloc[11][0]"
   ]
  },
  {
   "cell_type": "code",
   "execution_count": 115,
   "id": "19baacbe",
   "metadata": {},
   "outputs": [
    {
     "data": {
      "text/plain": [
       "117"
      ]
     },
     "execution_count": 115,
     "metadata": {},
     "output_type": "execute_result"
    }
   ],
   "source": [
    "popular_book_img.iloc[11][1]"
   ]
  },
  {
   "cell_type": "code",
   "execution_count": 116,
   "id": "ebf29b09",
   "metadata": {},
   "outputs": [
    {
     "data": {
      "text/plain": [
       "8.54"
      ]
     },
     "execution_count": 116,
     "metadata": {},
     "output_type": "execute_result"
    }
   ],
   "source": [
    "np.round(popular_book_img.iloc[11][2],2)"
   ]
  },
  {
   "cell_type": "code",
   "execution_count": 117,
   "id": "37cf8ac7",
   "metadata": {},
   "outputs": [
    {
     "data": {
      "text/plain": [
       "'http://images.amazon.com/images/P/0312853238.01.LZZZZZZZ.jpg'"
      ]
     },
     "execution_count": 117,
     "metadata": {},
     "output_type": "execute_result"
    }
   ],
   "source": [
    "popular_book_img.iloc[11][3]"
   ]
  },
  {
   "cell_type": "markdown",
   "id": "cdd53a76",
   "metadata": {},
   "source": [
    "#### More Number of Time's Rated on Book"
   ]
  },
  {
   "cell_type": "code",
   "execution_count": 118,
   "id": "0cbda56a",
   "metadata": {},
   "outputs": [
    {
     "data": {
      "text/html": [
       "<style type=\"text/css\">\n",
       "#T_8483e_row0_col2, #T_8483e_row5_col3, #T_8483e_row5_col4 {\n",
       "  background-color: #ba55d3;\n",
       "  color: #f1f1f1;\n",
       "}\n",
       "#T_8483e_row0_col3, #T_8483e_row3_col3, #T_8483e_row7_col4 {\n",
       "  background-color: #c36fd8;\n",
       "  color: #f1f1f1;\n",
       "}\n",
       "#T_8483e_row0_col4 {\n",
       "  background-color: #c26cd8;\n",
       "  color: #f1f1f1;\n",
       "}\n",
       "#T_8483e_row1_col2, #T_8483e_row13_col4 {\n",
       "  background-color: #c97edb;\n",
       "  color: #f1f1f1;\n",
       "}\n",
       "#T_8483e_row1_col3, #T_8483e_row1_col4, #T_8483e_row18_col2, #T_8483e_row19_col2 {\n",
       "  background-color: #f2f0f2;\n",
       "  color: #000000;\n",
       "}\n",
       "#T_8483e_row2_col2 {\n",
       "  background-color: #d39ce1;\n",
       "  color: #000000;\n",
       "}\n",
       "#T_8483e_row2_col3 {\n",
       "  background-color: #c066d6;\n",
       "  color: #f1f1f1;\n",
       "}\n",
       "#T_8483e_row2_col4 {\n",
       "  background-color: #bf64d6;\n",
       "  color: #f1f1f1;\n",
       "}\n",
       "#T_8483e_row3_col2 {\n",
       "  background-color: #dfbee8;\n",
       "  color: #000000;\n",
       "}\n",
       "#T_8483e_row3_col4 {\n",
       "  background-color: #c36dd8;\n",
       "  color: #f1f1f1;\n",
       "}\n",
       "#T_8483e_row4_col2 {\n",
       "  background-color: #e7d2ec;\n",
       "  color: #000000;\n",
       "}\n",
       "#T_8483e_row4_col3 {\n",
       "  background-color: #c779da;\n",
       "  color: #f1f1f1;\n",
       "}\n",
       "#T_8483e_row4_col4 {\n",
       "  background-color: #c677da;\n",
       "  color: #f1f1f1;\n",
       "}\n",
       "#T_8483e_row5_col2 {\n",
       "  background-color: #e8d4ec;\n",
       "  color: #000000;\n",
       "}\n",
       "#T_8483e_row6_col2 {\n",
       "  background-color: #e8d6ed;\n",
       "  color: #000000;\n",
       "}\n",
       "#T_8483e_row6_col3, #T_8483e_row6_col4 {\n",
       "  background-color: #c065d6;\n",
       "  color: #f1f1f1;\n",
       "}\n",
       "#T_8483e_row7_col2 {\n",
       "  background-color: #eadaee;\n",
       "  color: #000000;\n",
       "}\n",
       "#T_8483e_row7_col3, #T_8483e_row11_col4 {\n",
       "  background-color: #c470d8;\n",
       "  color: #f1f1f1;\n",
       "}\n",
       "#T_8483e_row8_col2 {\n",
       "  background-color: #ebdfef;\n",
       "  color: #000000;\n",
       "}\n",
       "#T_8483e_row8_col3, #T_8483e_row17_col3 {\n",
       "  background-color: #ce8cde;\n",
       "  color: #f1f1f1;\n",
       "}\n",
       "#T_8483e_row8_col4, #T_8483e_row17_col4 {\n",
       "  background-color: #cd89dd;\n",
       "  color: #f1f1f1;\n",
       "}\n",
       "#T_8483e_row9_col2 {\n",
       "  background-color: #ece0ef;\n",
       "  color: #000000;\n",
       "}\n",
       "#T_8483e_row9_col3 {\n",
       "  background-color: #c675d9;\n",
       "  color: #f1f1f1;\n",
       "}\n",
       "#T_8483e_row9_col4, #T_8483e_row14_col3, #T_8483e_row18_col3 {\n",
       "  background-color: #c574d9;\n",
       "  color: #f1f1f1;\n",
       "}\n",
       "#T_8483e_row10_col2 {\n",
       "  background-color: #ece2ef;\n",
       "  color: #000000;\n",
       "}\n",
       "#T_8483e_row10_col3 {\n",
       "  background-color: #cb86dd;\n",
       "  color: #f1f1f1;\n",
       "}\n",
       "#T_8483e_row10_col4 {\n",
       "  background-color: #cb84dc;\n",
       "  color: #f1f1f1;\n",
       "}\n",
       "#T_8483e_row11_col2 {\n",
       "  background-color: #ede3ef;\n",
       "  color: #000000;\n",
       "}\n",
       "#T_8483e_row11_col3, #T_8483e_row15_col4 {\n",
       "  background-color: #c472d9;\n",
       "  color: #f1f1f1;\n",
       "}\n",
       "#T_8483e_row12_col2 {\n",
       "  background-color: #eee7f0;\n",
       "  color: #000000;\n",
       "}\n",
       "#T_8483e_row12_col3, #T_8483e_row16_col4 {\n",
       "  background-color: #c87bdb;\n",
       "  color: #f1f1f1;\n",
       "}\n",
       "#T_8483e_row12_col4 {\n",
       "  background-color: #c77ada;\n",
       "  color: #f1f1f1;\n",
       "}\n",
       "#T_8483e_row13_col2, #T_8483e_row14_col2 {\n",
       "  background-color: #f0ebf1;\n",
       "  color: #000000;\n",
       "}\n",
       "#T_8483e_row13_col3 {\n",
       "  background-color: #c980dc;\n",
       "  color: #f1f1f1;\n",
       "}\n",
       "#T_8483e_row14_col4, #T_8483e_row15_col3, #T_8483e_row18_col4 {\n",
       "  background-color: #c573d9;\n",
       "  color: #f1f1f1;\n",
       "}\n",
       "#T_8483e_row15_col2 {\n",
       "  background-color: #f0edf1;\n",
       "  color: #000000;\n",
       "}\n",
       "#T_8483e_row16_col2 {\n",
       "  background-color: #f1eff2;\n",
       "  color: #000000;\n",
       "}\n",
       "#T_8483e_row16_col3 {\n",
       "  background-color: #c87ddb;\n",
       "  color: #f1f1f1;\n",
       "}\n",
       "#T_8483e_row17_col2 {\n",
       "  background-color: #f1f0f2;\n",
       "  color: #000000;\n",
       "}\n",
       "#T_8483e_row19_col3 {\n",
       "  background-color: #cb84dd;\n",
       "  color: #f1f1f1;\n",
       "}\n",
       "#T_8483e_row19_col4 {\n",
       "  background-color: #ca82dc;\n",
       "  color: #f1f1f1;\n",
       "}\n",
       "</style>\n",
       "<table id=\"T_8483e\">\n",
       "  <thead>\n",
       "    <tr>\n",
       "      <th class=\"blank level0\" >&nbsp;</th>\n",
       "      <th id=\"T_8483e_level0_col0\" class=\"col_heading level0 col0\" >title</th>\n",
       "      <th id=\"T_8483e_level0_col1\" class=\"col_heading level0 col1\" >author</th>\n",
       "      <th id=\"T_8483e_level0_col2\" class=\"col_heading level0 col2\" >Total_No_Of_Users_Rated</th>\n",
       "      <th id=\"T_8483e_level0_col3\" class=\"col_heading level0 col3\" >Avg_Rating</th>\n",
       "      <th id=\"T_8483e_level0_col4\" class=\"col_heading level0 col4\" >Score</th>\n",
       "    </tr>\n",
       "  </thead>\n",
       "  <tbody>\n",
       "    <tr>\n",
       "      <th id=\"T_8483e_level0_row0\" class=\"row_heading level0 row0\" >0</th>\n",
       "      <td id=\"T_8483e_row0_col0\" class=\"data row0 col0\" >The Lovely Bones: A Novel</td>\n",
       "      <td id=\"T_8483e_row0_col1\" class=\"data row0 col1\" >Alice Sebold</td>\n",
       "      <td id=\"T_8483e_row0_col2\" class=\"data row0 col2\" >707</td>\n",
       "      <td id=\"T_8483e_row0_col3\" class=\"data row0 col3\" >8.185290</td>\n",
       "      <td id=\"T_8483e_row0_col4\" class=\"data row0 col4\" >8.159321</td>\n",
       "    </tr>\n",
       "    <tr>\n",
       "      <th id=\"T_8483e_level0_row1\" class=\"row_heading level0 row1\" >1</th>\n",
       "      <td id=\"T_8483e_row1_col0\" class=\"data row1 col0\" >Wild Animus</td>\n",
       "      <td id=\"T_8483e_row1_col1\" class=\"data row1 col1\" >Rich Shapero</td>\n",
       "      <td id=\"T_8483e_row1_col2\" class=\"data row1 col2\" >581</td>\n",
       "      <td id=\"T_8483e_row1_col3\" class=\"data row1 col3\" >4.390706</td>\n",
       "      <td id=\"T_8483e_row1_col4\" class=\"data row1 col4\" >4.620979</td>\n",
       "    </tr>\n",
       "    <tr>\n",
       "      <th id=\"T_8483e_level0_row2\" class=\"row_heading level0 row2\" >2</th>\n",
       "      <td id=\"T_8483e_row2_col0\" class=\"data row2 col0\" >The Da Vinci Code</td>\n",
       "      <td id=\"T_8483e_row2_col1\" class=\"data row2 col1\" >Dan Brown</td>\n",
       "      <td id=\"T_8483e_row2_col2\" class=\"data row2 col2\" >487</td>\n",
       "      <td id=\"T_8483e_row2_col3\" class=\"data row2 col3\" >8.435318</td>\n",
       "      <td id=\"T_8483e_row2_col4\" class=\"data row2 col4\" >8.378285</td>\n",
       "    </tr>\n",
       "    <tr>\n",
       "      <th id=\"T_8483e_level0_row3\" class=\"row_heading level0 row3\" >3</th>\n",
       "      <td id=\"T_8483e_row3_col0\" class=\"data row3 col0\" >The Red Tent (Bestselling Backlist)</td>\n",
       "      <td id=\"T_8483e_row3_col1\" class=\"data row3 col1\" >Anita Diamant</td>\n",
       "      <td id=\"T_8483e_row3_col2\" class=\"data row3 col2\" >383</td>\n",
       "      <td id=\"T_8483e_row3_col3\" class=\"data row3 col3\" >8.182768</td>\n",
       "      <td id=\"T_8483e_row3_col4\" class=\"data row3 col4\" >8.137303</td>\n",
       "    </tr>\n",
       "    <tr>\n",
       "      <th id=\"T_8483e_level0_row4\" class=\"row_heading level0 row4\" >4</th>\n",
       "      <td id=\"T_8483e_row4_col0\" class=\"data row4 col0\" >Divine Secrets of the Ya-Ya Sisterhood: A Novel</td>\n",
       "      <td id=\"T_8483e_row4_col1\" class=\"data row4 col1\" >Rebecca Wells</td>\n",
       "      <td id=\"T_8483e_row4_col2\" class=\"data row4 col2\" >320</td>\n",
       "      <td id=\"T_8483e_row4_col3\" class=\"data row4 col3\" >7.887500</td>\n",
       "      <td id=\"T_8483e_row4_col4\" class=\"data row4 col4\" >7.869121</td>\n",
       "    </tr>\n",
       "    <tr>\n",
       "      <th id=\"T_8483e_level0_row5\" class=\"row_heading level0 row5\" >5</th>\n",
       "      <td id=\"T_8483e_row5_col0\" class=\"data row5 col0\" >Harry Potter and the Sorcerer's Stone (Harry Potter (Paperback))</td>\n",
       "      <td id=\"T_8483e_row5_col1\" class=\"data row5 col1\" >J. K. Rowling</td>\n",
       "      <td id=\"T_8483e_row5_col2\" class=\"data row5 col2\" >313</td>\n",
       "      <td id=\"T_8483e_row5_col3\" class=\"data row5 col3\" >8.939297</td>\n",
       "      <td id=\"T_8483e_row5_col4\" class=\"data row5 col4\" >8.793514</td>\n",
       "    </tr>\n",
       "    <tr>\n",
       "      <th id=\"T_8483e_level0_row6\" class=\"row_heading level0 row6\" >6</th>\n",
       "      <td id=\"T_8483e_row6_col0\" class=\"data row6 col0\" >The Secret Life of Bees</td>\n",
       "      <td id=\"T_8483e_row6_col1\" class=\"data row6 col1\" >Sue Monk Kidd</td>\n",
       "      <td id=\"T_8483e_row6_col2\" class=\"data row6 col2\" >307</td>\n",
       "      <td id=\"T_8483e_row6_col3\" class=\"data row6 col3\" >8.452769</td>\n",
       "      <td id=\"T_8483e_row6_col4\" class=\"data row6 col4\" >8.364260</td>\n",
       "    </tr>\n",
       "    <tr>\n",
       "      <th id=\"T_8483e_level0_row7\" class=\"row_heading level0 row7\" >7</th>\n",
       "      <td id=\"T_8483e_row7_col0\" class=\"data row7 col0\" >Where the Heart Is (Oprah's Book Club (Paperback))</td>\n",
       "      <td id=\"T_8483e_row7_col1\" class=\"data row7 col1\" >Billie Letts</td>\n",
       "      <td id=\"T_8483e_row7_col2\" class=\"data row7 col2\" >295</td>\n",
       "      <td id=\"T_8483e_row7_col3\" class=\"data row7 col3\" >8.142373</td>\n",
       "      <td id=\"T_8483e_row7_col4\" class=\"data row7 col4\" >8.090210</td>\n",
       "    </tr>\n",
       "    <tr>\n",
       "      <th id=\"T_8483e_level0_row8\" class=\"row_heading level0 row8\" >8</th>\n",
       "      <td id=\"T_8483e_row8_col0\" class=\"data row8 col0\" >A Painted House</td>\n",
       "      <td id=\"T_8483e_row8_col1\" class=\"data row8 col1\" >John Grisham</td>\n",
       "      <td id=\"T_8483e_row8_col2\" class=\"data row8 col2\" >281</td>\n",
       "      <td id=\"T_8483e_row8_col3\" class=\"data row8 col3\" >7.338078</td>\n",
       "      <td id=\"T_8483e_row8_col4\" class=\"data row8 col4\" >7.390404</td>\n",
       "    </tr>\n",
       "    <tr>\n",
       "      <th id=\"T_8483e_level0_row9\" class=\"row_heading level0 row9\" >9</th>\n",
       "      <td id=\"T_8483e_row9_col0\" class=\"data row9 col0\" >Girl with a Pearl Earring</td>\n",
       "      <td id=\"T_8483e_row9_col1\" class=\"data row9 col1\" >Tracy Chevalier</td>\n",
       "      <td id=\"T_8483e_row9_col2\" class=\"data row9 col2\" >278</td>\n",
       "      <td id=\"T_8483e_row9_col3\" class=\"data row9 col3\" >7.982014</td>\n",
       "      <td id=\"T_8483e_row9_col4\" class=\"data row9 col4\" >7.948570</td>\n",
       "    </tr>\n",
       "    <tr>\n",
       "      <th id=\"T_8483e_level0_row10\" class=\"row_heading level0 row10\" >10</th>\n",
       "      <td id=\"T_8483e_row10_col0\" class=\"data row10 col0\" >The Pilot's Wife : A Novel</td>\n",
       "      <td id=\"T_8483e_row10_col1\" class=\"data row10 col1\" >Anita Shreve</td>\n",
       "      <td id=\"T_8483e_row10_col2\" class=\"data row10 col2\" >272</td>\n",
       "      <td id=\"T_8483e_row10_col3\" class=\"data row10 col3\" >7.503676</td>\n",
       "      <td id=\"T_8483e_row10_col4\" class=\"data row10 col4\" >7.534892</td>\n",
       "    </tr>\n",
       "    <tr>\n",
       "      <th id=\"T_8483e_level0_row11\" class=\"row_heading level0 row11\" >11</th>\n",
       "      <td id=\"T_8483e_row11_col0\" class=\"data row11 col0\" >Angels &amp; Demons</td>\n",
       "      <td id=\"T_8483e_row11_col1\" class=\"data row11 col1\" >Dan Brown</td>\n",
       "      <td id=\"T_8483e_row11_col2\" class=\"data row11 col2\" >269</td>\n",
       "      <td id=\"T_8483e_row11_col3\" class=\"data row11 col3\" >8.100372</td>\n",
       "      <td id=\"T_8483e_row11_col4\" class=\"data row11 col4\" >8.049651</td>\n",
       "    </tr>\n",
       "    <tr>\n",
       "      <th id=\"T_8483e_level0_row12\" class=\"row_heading level0 row12\" >12</th>\n",
       "      <td id=\"T_8483e_row12_col0\" class=\"data row12 col0\" >Snow Falling on Cedars</td>\n",
       "      <td id=\"T_8483e_row12_col1\" class=\"data row12 col1\" >David Guterson</td>\n",
       "      <td id=\"T_8483e_row12_col2\" class=\"data row12 col2\" >256</td>\n",
       "      <td id=\"T_8483e_row12_col3\" class=\"data row12 col3\" >7.808594</td>\n",
       "      <td id=\"T_8483e_row12_col4\" class=\"data row12 col4\" >7.797629</td>\n",
       "    </tr>\n",
       "    <tr>\n",
       "      <th id=\"T_8483e_level0_row13\" class=\"row_heading level0 row13\" >13</th>\n",
       "      <td id=\"T_8483e_row13_col0\" class=\"data row13 col0\" >The Catcher in the Rye</td>\n",
       "      <td id=\"T_8483e_row13_col1\" class=\"data row13 col1\" >J.D. Salinger</td>\n",
       "      <td id=\"T_8483e_row13_col2\" class=\"data row13 col2\" >243</td>\n",
       "      <td id=\"T_8483e_row13_col3\" class=\"data row13 col3\" >7.687243</td>\n",
       "      <td id=\"T_8483e_row13_col4\" class=\"data row13 col4\" >7.694024</td>\n",
       "    </tr>\n",
       "    <tr>\n",
       "      <th id=\"T_8483e_level0_row14\" class=\"row_heading level0 row14\" >14</th>\n",
       "      <td id=\"T_8483e_row14_col0\" class=\"data row14 col0\" >The Five People You Meet in Heaven</td>\n",
       "      <td id=\"T_8483e_row14_col1\" class=\"data row14 col1\" >Mitch Albom</td>\n",
       "      <td id=\"T_8483e_row14_col2\" class=\"data row14 col2\" >242</td>\n",
       "      <td id=\"T_8483e_row14_col3\" class=\"data row14 col3\" >8.016529</td>\n",
       "      <td id=\"T_8483e_row14_col4\" class=\"data row14 col4\" >7.973653</td>\n",
       "    </tr>\n",
       "    <tr>\n",
       "      <th id=\"T_8483e_level0_row15\" class=\"row_heading level0 row15\" >15</th>\n",
       "      <td id=\"T_8483e_row15_col0\" class=\"data row15 col0\" >Good in Bed</td>\n",
       "      <td id=\"T_8483e_row15_col1\" class=\"data row15 col1\" >Jennifer Weiner</td>\n",
       "      <td id=\"T_8483e_row15_col2\" class=\"data row15 col2\" >236</td>\n",
       "      <td id=\"T_8483e_row15_col3\" class=\"data row15 col3\" >8.046610</td>\n",
       "      <td id=\"T_8483e_row15_col4\" class=\"data row15 col4\" >7.998176</td>\n",
       "    </tr>\n",
       "    <tr>\n",
       "      <th id=\"T_8483e_level0_row16\" class=\"row_heading level0 row16\" >16</th>\n",
       "      <td id=\"T_8483e_row16_col0\" class=\"data row16 col0\" >Interview with the Vampire</td>\n",
       "      <td id=\"T_8483e_row16_col1\" class=\"data row16 col1\" >Anne Rice</td>\n",
       "      <td id=\"T_8483e_row16_col2\" class=\"data row16 col2\" >230</td>\n",
       "      <td id=\"T_8483e_row16_col3\" class=\"data row16 col3\" >7.778261</td>\n",
       "      <td id=\"T_8483e_row16_col4\" class=\"data row16 col4\" >7.771029</td>\n",
       "    </tr>\n",
       "    <tr>\n",
       "      <th id=\"T_8483e_level0_row17\" class=\"row_heading level0 row17\" >17</th>\n",
       "      <td id=\"T_8483e_row17_col0\" class=\"data row17 col0\" >House of Sand and Fog</td>\n",
       "      <td id=\"T_8483e_row17_col1\" class=\"data row17 col1\" >Andre Dubus III</td>\n",
       "      <td id=\"T_8483e_row17_col2\" class=\"data row17 col2\" >229</td>\n",
       "      <td id=\"T_8483e_row17_col3\" class=\"data row17 col3\" >7.327511</td>\n",
       "      <td id=\"T_8483e_row17_col4\" class=\"data row17 col4\" >7.391511</td>\n",
       "    </tr>\n",
       "    <tr>\n",
       "      <th id=\"T_8483e_level0_row18\" class=\"row_heading level0 row18\" >18</th>\n",
       "      <td id=\"T_8483e_row18_col0\" class=\"data row18 col0\" >Life of Pi</td>\n",
       "      <td id=\"T_8483e_row18_col1\" class=\"data row18 col1\" >Yann Martel</td>\n",
       "      <td id=\"T_8483e_row18_col2\" class=\"data row18 col2\" >226</td>\n",
       "      <td id=\"T_8483e_row18_col3\" class=\"data row18 col3\" >8.030973</td>\n",
       "      <td id=\"T_8483e_row18_col4\" class=\"data row18 col4\" >7.983238</td>\n",
       "    </tr>\n",
       "    <tr>\n",
       "      <th id=\"T_8483e_level0_row19\" class=\"row_heading level0 row19\" >19</th>\n",
       "      <td id=\"T_8483e_row19_col0\" class=\"data row19 col0\" >The Nanny Diaries: A Novel</td>\n",
       "      <td id=\"T_8483e_row19_col1\" class=\"data row19 col1\" >Emma McLaughlin</td>\n",
       "      <td id=\"T_8483e_row19_col2\" class=\"data row19 col2\" >226</td>\n",
       "      <td id=\"T_8483e_row19_col3\" class=\"data row19 col3\" >7.544248</td>\n",
       "      <td id=\"T_8483e_row19_col4\" class=\"data row19 col4\" >7.574316</td>\n",
       "    </tr>\n",
       "  </tbody>\n",
       "</table>\n"
      ],
      "text/plain": [
       "<pandas.io.formats.style.Styler at 0x1de389bd580>"
      ]
     },
     "execution_count": 118,
     "metadata": {},
     "output_type": "execute_result"
    }
   ],
   "source": [
    "cm = sns.light_palette('mediumorchid', as_cmap=True)\n",
    "\n",
    "#Sorting books based on no.of rating given by users calculated above\n",
    "no_of_times_rated_book = popular_book.sort_values('Total_No_Of_Users_Rated', ascending=False)\n",
    "\n",
    "#Printing the most no.of rated book by users\n",
    "no_of_times_rated_book[[\n",
    "    'title', 'author', 'Total_No_Of_Users_Rated', 'Avg_Rating', 'Score'\n",
    "]].head(20).reset_index(drop=True).style.background_gradient(cmap=cm)"
   ]
  },
  {
   "cell_type": "code",
   "execution_count": 119,
   "id": "d0245d6c",
   "metadata": {},
   "outputs": [
    {
     "data": {
      "text/plain": [
       "Index(['ISBN', 'title', 'author', 'year', 'publisher', 'img_url'], dtype='object')"
      ]
     },
     "execution_count": 119,
     "metadata": {},
     "output_type": "execute_result"
    }
   ],
   "source": [
    "books.columns"
   ]
  },
  {
   "cell_type": "code",
   "execution_count": 120,
   "id": "1a06bd8c",
   "metadata": {},
   "outputs": [
    {
     "data": {
      "text/html": [
       "<div>\n",
       "<style scoped>\n",
       "    .dataframe tbody tr th:only-of-type {\n",
       "        vertical-align: middle;\n",
       "    }\n",
       "\n",
       "    .dataframe tbody tr th {\n",
       "        vertical-align: top;\n",
       "    }\n",
       "\n",
       "    .dataframe thead th {\n",
       "        text-align: right;\n",
       "    }\n",
       "</style>\n",
       "<table border=\"1\" class=\"dataframe\">\n",
       "  <thead>\n",
       "    <tr style=\"text-align: right;\">\n",
       "      <th></th>\n",
       "      <th>title</th>\n",
       "      <th>img_url</th>\n",
       "    </tr>\n",
       "  </thead>\n",
       "  <tbody>\n",
       "    <tr>\n",
       "      <th>0</th>\n",
       "      <td>Classical Mythology</td>\n",
       "      <td>http://images.amazon.com/images/P/0195153448.0...</td>\n",
       "    </tr>\n",
       "    <tr>\n",
       "      <th>1</th>\n",
       "      <td>Clara Callan</td>\n",
       "      <td>http://images.amazon.com/images/P/0002005018.0...</td>\n",
       "    </tr>\n",
       "  </tbody>\n",
       "</table>\n",
       "</div>"
      ],
      "text/plain": [
       "                 title                                            img_url\n",
       "0  Classical Mythology  http://images.amazon.com/images/P/0195153448.0...\n",
       "1         Clara Callan  http://images.amazon.com/images/P/0002005018.0..."
      ]
     },
     "execution_count": 120,
     "metadata": {},
     "output_type": "execute_result"
    }
   ],
   "source": [
    "b = books[['title', 'img_url']].copy()\n",
    "b.head(2)"
   ]
  },
  {
   "cell_type": "code",
   "execution_count": 121,
   "id": "c4eea349",
   "metadata": {},
   "outputs": [
    {
     "data": {
      "text/plain": [
       "(648, 13)"
      ]
     },
     "execution_count": 121,
     "metadata": {},
     "output_type": "execute_result"
    }
   ],
   "source": [
    "no_of_times_rated_book.shape"
   ]
  },
  {
   "cell_type": "code",
   "execution_count": 122,
   "id": "0bbc3e53",
   "metadata": {},
   "outputs": [
    {
     "data": {
      "text/plain": [
       "Index(['user_id', 'age', 'country', 'ISBN', 'rating', 'Avg_Rating',\n",
       "       'Total_No_Of_Users_Rated', 'title', 'author', 'year', 'publisher',\n",
       "       'img_url', 'Score'],\n",
       "      dtype='object')"
      ]
     },
     "execution_count": 122,
     "metadata": {},
     "output_type": "execute_result"
    }
   ],
   "source": [
    "no_of_times_rated_book.columns"
   ]
  },
  {
   "cell_type": "code",
   "execution_count": 123,
   "id": "8c320619",
   "metadata": {},
   "outputs": [
    {
     "data": {
      "text/html": [
       "<div>\n",
       "<style scoped>\n",
       "    .dataframe tbody tr th:only-of-type {\n",
       "        vertical-align: middle;\n",
       "    }\n",
       "\n",
       "    .dataframe tbody tr th {\n",
       "        vertical-align: top;\n",
       "    }\n",
       "\n",
       "    .dataframe thead th {\n",
       "        text-align: right;\n",
       "    }\n",
       "</style>\n",
       "<table border=\"1\" class=\"dataframe\">\n",
       "  <thead>\n",
       "    <tr style=\"text-align: right;\">\n",
       "      <th></th>\n",
       "      <th>title</th>\n",
       "      <th>Total_No_Of_Users_Rated</th>\n",
       "      <th>Score</th>\n",
       "    </tr>\n",
       "  </thead>\n",
       "  <tbody>\n",
       "    <tr>\n",
       "      <th>849</th>\n",
       "      <td>The Lovely Bones: A Novel</td>\n",
       "      <td>707</td>\n",
       "      <td>8.159321</td>\n",
       "    </tr>\n",
       "    <tr>\n",
       "      <th>2297</th>\n",
       "      <td>Wild Animus</td>\n",
       "      <td>581</td>\n",
       "      <td>4.620979</td>\n",
       "    </tr>\n",
       "    <tr>\n",
       "      <th>1221</th>\n",
       "      <td>The Da Vinci Code</td>\n",
       "      <td>487</td>\n",
       "      <td>8.378285</td>\n",
       "    </tr>\n",
       "    <tr>\n",
       "      <th>9081</th>\n",
       "      <td>The Red Tent (Bestselling Backlist)</td>\n",
       "      <td>383</td>\n",
       "      <td>8.137303</td>\n",
       "    </tr>\n",
       "    <tr>\n",
       "      <th>4682</th>\n",
       "      <td>Divine Secrets of the Ya-Ya Sisterhood: A Novel</td>\n",
       "      <td>320</td>\n",
       "      <td>7.869121</td>\n",
       "    </tr>\n",
       "  </tbody>\n",
       "</table>\n",
       "</div>"
      ],
      "text/plain": [
       "                                                title  \\\n",
       "849                         The Lovely Bones: A Novel   \n",
       "2297                                      Wild Animus   \n",
       "1221                                The Da Vinci Code   \n",
       "9081              The Red Tent (Bestselling Backlist)   \n",
       "4682  Divine Secrets of the Ya-Ya Sisterhood: A Novel   \n",
       "\n",
       "      Total_No_Of_Users_Rated     Score  \n",
       "849                       707  8.159321  \n",
       "2297                      581  4.620979  \n",
       "1221                      487  8.378285  \n",
       "9081                      383  8.137303  \n",
       "4682                      320  7.869121  "
      ]
     },
     "execution_count": 123,
     "metadata": {},
     "output_type": "execute_result"
    }
   ],
   "source": [
    "n = no_of_times_rated_book[['title', 'Total_No_Of_Users_Rated', 'Score']]\n",
    "n.head()"
   ]
  },
  {
   "cell_type": "code",
   "execution_count": 124,
   "id": "24a7ade7",
   "metadata": {},
   "outputs": [],
   "source": [
    "no_of_times_rated_book_img = p.merge(b, on='title')"
   ]
  },
  {
   "cell_type": "code",
   "execution_count": 125,
   "id": "e27f7ae6",
   "metadata": {},
   "outputs": [],
   "source": [
    "no_of_times_rated_book_img.drop_duplicates(['title'], inplace=True)"
   ]
  },
  {
   "cell_type": "code",
   "execution_count": 126,
   "id": "a0dd5804",
   "metadata": {},
   "outputs": [],
   "source": [
    "no_of_times_rated_book_img = no_of_times_rated_book_img.sort_values('Total_No_Of_Users_Rated', ascending=False)"
   ]
  },
  {
   "cell_type": "code",
   "execution_count": 127,
   "id": "b9e8dc9c",
   "metadata": {},
   "outputs": [
    {
     "data": {
      "text/html": [
       "<div>\n",
       "<style scoped>\n",
       "    .dataframe tbody tr th:only-of-type {\n",
       "        vertical-align: middle;\n",
       "    }\n",
       "\n",
       "    .dataframe tbody tr th {\n",
       "        vertical-align: top;\n",
       "    }\n",
       "\n",
       "    .dataframe thead th {\n",
       "        text-align: right;\n",
       "    }\n",
       "</style>\n",
       "<table border=\"1\" class=\"dataframe\">\n",
       "  <thead>\n",
       "    <tr style=\"text-align: right;\">\n",
       "      <th></th>\n",
       "      <th>title</th>\n",
       "      <th>Total_No_Of_Users_Rated</th>\n",
       "      <th>Score</th>\n",
       "      <th>img_url</th>\n",
       "    </tr>\n",
       "  </thead>\n",
       "  <tbody>\n",
       "    <tr>\n",
       "      <th>273</th>\n",
       "      <td>The Lovely Bones: A Novel</td>\n",
       "      <td>707</td>\n",
       "      <td>8.159321</td>\n",
       "      <td>http://images.amazon.com/images/P/0316666343.0...</td>\n",
       "    </tr>\n",
       "    <tr>\n",
       "      <th>1984</th>\n",
       "      <td>Wild Animus</td>\n",
       "      <td>581</td>\n",
       "      <td>4.620979</td>\n",
       "      <td>http://images.amazon.com/images/P/0971880107.0...</td>\n",
       "    </tr>\n",
       "    <tr>\n",
       "      <th>126</th>\n",
       "      <td>The Da Vinci Code</td>\n",
       "      <td>487</td>\n",
       "      <td>8.378285</td>\n",
       "      <td>http://images.amazon.com/images/P/0385504209.0...</td>\n",
       "    </tr>\n",
       "    <tr>\n",
       "      <th>312</th>\n",
       "      <td>The Red Tent (Bestselling Backlist)</td>\n",
       "      <td>383</td>\n",
       "      <td>8.137303</td>\n",
       "      <td>http://images.amazon.com/images/P/0312195516.0...</td>\n",
       "    </tr>\n",
       "    <tr>\n",
       "      <th>729</th>\n",
       "      <td>Divine Secrets of the Ya-Ya Sisterhood: A Novel</td>\n",
       "      <td>320</td>\n",
       "      <td>7.869121</td>\n",
       "      <td>http://images.amazon.com/images/P/0060928336.0...</td>\n",
       "    </tr>\n",
       "  </tbody>\n",
       "</table>\n",
       "</div>"
      ],
      "text/plain": [
       "                                                title  \\\n",
       "273                         The Lovely Bones: A Novel   \n",
       "1984                                      Wild Animus   \n",
       "126                                 The Da Vinci Code   \n",
       "312               The Red Tent (Bestselling Backlist)   \n",
       "729   Divine Secrets of the Ya-Ya Sisterhood: A Novel   \n",
       "\n",
       "      Total_No_Of_Users_Rated     Score  \\\n",
       "273                       707  8.159321   \n",
       "1984                      581  4.620979   \n",
       "126                       487  8.378285   \n",
       "312                       383  8.137303   \n",
       "729                       320  7.869121   \n",
       "\n",
       "                                                img_url  \n",
       "273   http://images.amazon.com/images/P/0316666343.0...  \n",
       "1984  http://images.amazon.com/images/P/0971880107.0...  \n",
       "126   http://images.amazon.com/images/P/0385504209.0...  \n",
       "312   http://images.amazon.com/images/P/0312195516.0...  \n",
       "729   http://images.amazon.com/images/P/0060928336.0...  "
      ]
     },
     "execution_count": 127,
     "metadata": {},
     "output_type": "execute_result"
    }
   ],
   "source": [
    "no_of_times_rated_book_img.head()"
   ]
  },
  {
   "cell_type": "code",
   "execution_count": 128,
   "id": "00abb96c",
   "metadata": {},
   "outputs": [
    {
     "data": {
      "text/plain": [
       "(593, 4)"
      ]
     },
     "execution_count": 128,
     "metadata": {},
     "output_type": "execute_result"
    }
   ],
   "source": [
    "no_of_times_rated_book_img.shape"
   ]
  },
  {
   "cell_type": "code",
   "execution_count": 129,
   "id": "59e2044e",
   "metadata": {},
   "outputs": [
    {
     "data": {
      "text/plain": [
       "'The Lovely Bones: A Novel'"
      ]
     },
     "execution_count": 129,
     "metadata": {},
     "output_type": "execute_result"
    }
   ],
   "source": [
    "no_of_times_rated_book_img.iloc[0][0]"
   ]
  },
  {
   "cell_type": "code",
   "execution_count": 130,
   "id": "ddf56a7c",
   "metadata": {},
   "outputs": [
    {
     "data": {
      "text/plain": [
       "707"
      ]
     },
     "execution_count": 130,
     "metadata": {},
     "output_type": "execute_result"
    }
   ],
   "source": [
    "no_of_times_rated_book_img.iloc[0][1]"
   ]
  },
  {
   "cell_type": "code",
   "execution_count": 131,
   "id": "bbf86408",
   "metadata": {},
   "outputs": [
    {
     "data": {
      "text/plain": [
       "8.159321342479236"
      ]
     },
     "execution_count": 131,
     "metadata": {},
     "output_type": "execute_result"
    }
   ],
   "source": [
    "no_of_times_rated_book_img.iloc[0][2]"
   ]
  },
  {
   "cell_type": "code",
   "execution_count": 132,
   "id": "247df022",
   "metadata": {},
   "outputs": [
    {
     "data": {
      "text/plain": [
       "'http://images.amazon.com/images/P/0316666343.01.LZZZZZZZ.jpg'"
      ]
     },
     "execution_count": 132,
     "metadata": {},
     "output_type": "execute_result"
    }
   ],
   "source": [
    "no_of_times_rated_book_img.iloc[0][3]"
   ]
  },
  {
   "cell_type": "code",
   "execution_count": 133,
   "id": "2563747e",
   "metadata": {},
   "outputs": [
    {
     "data": {
      "text/plain": [
       "'Girl with a Pearl Earring'"
      ]
     },
     "execution_count": 133,
     "metadata": {},
     "output_type": "execute_result"
    }
   ],
   "source": [
    "no_of_times_rated_book_img.iloc[8][0]"
   ]
  },
  {
   "cell_type": "code",
   "execution_count": 134,
   "id": "b4c22468",
   "metadata": {},
   "outputs": [
    {
     "data": {
      "text/plain": [
       "278"
      ]
     },
     "execution_count": 134,
     "metadata": {},
     "output_type": "execute_result"
    }
   ],
   "source": [
    "no_of_times_rated_book_img.iloc[8][1]"
   ]
  },
  {
   "cell_type": "code",
   "execution_count": 135,
   "id": "76373a55",
   "metadata": {},
   "outputs": [
    {
     "data": {
      "text/plain": [
       "7.948570114826877"
      ]
     },
     "execution_count": 135,
     "metadata": {},
     "output_type": "execute_result"
    }
   ],
   "source": [
    "no_of_times_rated_book_img.iloc[8][2]"
   ]
  },
  {
   "cell_type": "code",
   "execution_count": 136,
   "id": "60ac6672",
   "metadata": {},
   "outputs": [
    {
     "data": {
      "text/plain": [
       "'http://images.amazon.com/images/P/0452282152.01.LZZZZZZZ.jpg'"
      ]
     },
     "execution_count": 136,
     "metadata": {},
     "output_type": "execute_result"
    }
   ],
   "source": [
    "no_of_times_rated_book_img.iloc[8][3]"
   ]
  },
  {
   "cell_type": "markdown",
   "id": "a133c767",
   "metadata": {},
   "source": [
    "# Collaborative Filtering Based Recommendation System"
   ]
  },
  {
   "cell_type": "code",
   "execution_count": 137,
   "id": "dd5a4425",
   "metadata": {},
   "outputs": [
    {
     "data": {
      "text/plain": [
       "11676     13602\n",
       "198711     7550\n",
       "153662     6109\n",
       "98391      5891\n",
       "35859      5850\n",
       "          ...  \n",
       "116180        1\n",
       "116166        1\n",
       "116154        1\n",
       "116137        1\n",
       "276723        1\n",
       "Name: user_id, Length: 105283, dtype: int64"
      ]
     },
     "execution_count": 137,
     "metadata": {},
     "output_type": "execute_result"
    }
   ],
   "source": [
    "ratings['user_id'].value_counts()"
   ]
  },
  {
   "cell_type": "code",
   "execution_count": 138,
   "id": "a8453a3c",
   "metadata": {},
   "outputs": [
    {
     "data": {
      "text/plain": [
       "(105283,)"
      ]
     },
     "execution_count": 138,
     "metadata": {},
     "output_type": "execute_result"
    }
   ],
   "source": [
    "ratings['user_id'].unique().shape"
   ]
  },
  {
   "cell_type": "code",
   "execution_count": 139,
   "id": "7d2ef598",
   "metadata": {},
   "outputs": [],
   "source": [
    "x  = ratings['user_id'].value_counts() > 200"
   ]
  },
  {
   "cell_type": "code",
   "execution_count": 140,
   "id": "68ab3478",
   "metadata": {},
   "outputs": [
    {
     "data": {
      "text/plain": [
       "(899,)"
      ]
     },
     "execution_count": 140,
     "metadata": {},
     "output_type": "execute_result"
    }
   ],
   "source": [
    "x[x].shape"
   ]
  },
  {
   "cell_type": "code",
   "execution_count": 141,
   "id": "0a3b6197",
   "metadata": {},
   "outputs": [],
   "source": [
    "y = x[x].index"
   ]
  },
  {
   "cell_type": "code",
   "execution_count": 142,
   "id": "9268256c",
   "metadata": {},
   "outputs": [
    {
     "data": {
      "text/plain": [
       "(1149780,)"
      ]
     },
     "execution_count": 142,
     "metadata": {},
     "output_type": "execute_result"
    }
   ],
   "source": [
    "ratings['user_id'].shape"
   ]
  },
  {
   "cell_type": "code",
   "execution_count": 143,
   "id": "c507f902",
   "metadata": {},
   "outputs": [],
   "source": [
    "ratings = ratings[ratings['user_id'].isin(y)]"
   ]
  },
  {
   "cell_type": "code",
   "execution_count": 144,
   "id": "b2347ad9",
   "metadata": {},
   "outputs": [
    {
     "data": {
      "text/html": [
       "<div>\n",
       "<style scoped>\n",
       "    .dataframe tbody tr th:only-of-type {\n",
       "        vertical-align: middle;\n",
       "    }\n",
       "\n",
       "    .dataframe tbody tr th {\n",
       "        vertical-align: top;\n",
       "    }\n",
       "\n",
       "    .dataframe thead th {\n",
       "        text-align: right;\n",
       "    }\n",
       "</style>\n",
       "<table border=\"1\" class=\"dataframe\">\n",
       "  <thead>\n",
       "    <tr style=\"text-align: right;\">\n",
       "      <th></th>\n",
       "      <th>user_id</th>\n",
       "      <th>ISBN</th>\n",
       "      <th>rating</th>\n",
       "    </tr>\n",
       "  </thead>\n",
       "  <tbody>\n",
       "    <tr>\n",
       "      <th>1456</th>\n",
       "      <td>277427</td>\n",
       "      <td>002542730X</td>\n",
       "      <td>10</td>\n",
       "    </tr>\n",
       "    <tr>\n",
       "      <th>1457</th>\n",
       "      <td>277427</td>\n",
       "      <td>0026217457</td>\n",
       "      <td>0</td>\n",
       "    </tr>\n",
       "  </tbody>\n",
       "</table>\n",
       "</div>"
      ],
      "text/plain": [
       "      user_id        ISBN  rating\n",
       "1456   277427  002542730X      10\n",
       "1457   277427  0026217457       0"
      ]
     },
     "execution_count": 144,
     "metadata": {},
     "output_type": "execute_result"
    }
   ],
   "source": [
    "ratings.head(2)"
   ]
  },
  {
   "cell_type": "code",
   "execution_count": 145,
   "id": "c28c9d63",
   "metadata": {},
   "outputs": [
    {
     "data": {
      "text/plain": [
       "(526356, 3)"
      ]
     },
     "execution_count": 145,
     "metadata": {},
     "output_type": "execute_result"
    }
   ],
   "source": [
    "ratings.shape"
   ]
  },
  {
   "cell_type": "code",
   "execution_count": 146,
   "id": "a1e14ebb",
   "metadata": {},
   "outputs": [
    {
     "data": {
      "text/html": [
       "<div>\n",
       "<style scoped>\n",
       "    .dataframe tbody tr th:only-of-type {\n",
       "        vertical-align: middle;\n",
       "    }\n",
       "\n",
       "    .dataframe tbody tr th {\n",
       "        vertical-align: top;\n",
       "    }\n",
       "\n",
       "    .dataframe thead th {\n",
       "        text-align: right;\n",
       "    }\n",
       "</style>\n",
       "<table border=\"1\" class=\"dataframe\">\n",
       "  <thead>\n",
       "    <tr style=\"text-align: right;\">\n",
       "      <th></th>\n",
       "      <th>user_id</th>\n",
       "      <th>ISBN</th>\n",
       "      <th>rating</th>\n",
       "    </tr>\n",
       "  </thead>\n",
       "  <tbody>\n",
       "    <tr>\n",
       "      <th>1456</th>\n",
       "      <td>277427</td>\n",
       "      <td>002542730X</td>\n",
       "      <td>10</td>\n",
       "    </tr>\n",
       "    <tr>\n",
       "      <th>1457</th>\n",
       "      <td>277427</td>\n",
       "      <td>0026217457</td>\n",
       "      <td>0</td>\n",
       "    </tr>\n",
       "    <tr>\n",
       "      <th>1458</th>\n",
       "      <td>277427</td>\n",
       "      <td>003008685X</td>\n",
       "      <td>8</td>\n",
       "    </tr>\n",
       "    <tr>\n",
       "      <th>1459</th>\n",
       "      <td>277427</td>\n",
       "      <td>0030615321</td>\n",
       "      <td>0</td>\n",
       "    </tr>\n",
       "    <tr>\n",
       "      <th>1460</th>\n",
       "      <td>277427</td>\n",
       "      <td>0060002050</td>\n",
       "      <td>0</td>\n",
       "    </tr>\n",
       "    <tr>\n",
       "      <th>...</th>\n",
       "      <td>...</td>\n",
       "      <td>...</td>\n",
       "      <td>...</td>\n",
       "    </tr>\n",
       "    <tr>\n",
       "      <th>1147612</th>\n",
       "      <td>275970</td>\n",
       "      <td>3829021860</td>\n",
       "      <td>0</td>\n",
       "    </tr>\n",
       "    <tr>\n",
       "      <th>1147613</th>\n",
       "      <td>275970</td>\n",
       "      <td>4770019572</td>\n",
       "      <td>0</td>\n",
       "    </tr>\n",
       "    <tr>\n",
       "      <th>1147614</th>\n",
       "      <td>275970</td>\n",
       "      <td>896086097</td>\n",
       "      <td>0</td>\n",
       "    </tr>\n",
       "    <tr>\n",
       "      <th>1147615</th>\n",
       "      <td>275970</td>\n",
       "      <td>9626340762</td>\n",
       "      <td>8</td>\n",
       "    </tr>\n",
       "    <tr>\n",
       "      <th>1147616</th>\n",
       "      <td>275970</td>\n",
       "      <td>9626344990</td>\n",
       "      <td>0</td>\n",
       "    </tr>\n",
       "  </tbody>\n",
       "</table>\n",
       "<p>526356 rows × 3 columns</p>\n",
       "</div>"
      ],
      "text/plain": [
       "         user_id        ISBN  rating\n",
       "1456      277427  002542730X      10\n",
       "1457      277427  0026217457       0\n",
       "1458      277427  003008685X       8\n",
       "1459      277427  0030615321       0\n",
       "1460      277427  0060002050       0\n",
       "...          ...         ...     ...\n",
       "1147612   275970  3829021860       0\n",
       "1147613   275970  4770019572       0\n",
       "1147614   275970   896086097       0\n",
       "1147615   275970  9626340762       8\n",
       "1147616   275970  9626344990       0\n",
       "\n",
       "[526356 rows x 3 columns]"
      ]
     },
     "execution_count": 146,
     "metadata": {},
     "output_type": "execute_result"
    }
   ],
   "source": [
    "ratings"
   ]
  },
  {
   "cell_type": "code",
   "execution_count": 147,
   "id": "bee741a5",
   "metadata": {},
   "outputs": [],
   "source": [
    "ratings_with_books = ratings.merge(books, on='ISBN')"
   ]
  },
  {
   "cell_type": "code",
   "execution_count": 148,
   "id": "123d37fa",
   "metadata": {},
   "outputs": [
    {
     "data": {
      "text/html": [
       "<div>\n",
       "<style scoped>\n",
       "    .dataframe tbody tr th:only-of-type {\n",
       "        vertical-align: middle;\n",
       "    }\n",
       "\n",
       "    .dataframe tbody tr th {\n",
       "        vertical-align: top;\n",
       "    }\n",
       "\n",
       "    .dataframe thead th {\n",
       "        text-align: right;\n",
       "    }\n",
       "</style>\n",
       "<table border=\"1\" class=\"dataframe\">\n",
       "  <thead>\n",
       "    <tr style=\"text-align: right;\">\n",
       "      <th></th>\n",
       "      <th>user_id</th>\n",
       "      <th>ISBN</th>\n",
       "      <th>rating</th>\n",
       "      <th>title</th>\n",
       "      <th>author</th>\n",
       "      <th>year</th>\n",
       "      <th>publisher</th>\n",
       "      <th>img_url</th>\n",
       "    </tr>\n",
       "  </thead>\n",
       "  <tbody>\n",
       "    <tr>\n",
       "      <th>0</th>\n",
       "      <td>277427</td>\n",
       "      <td>002542730X</td>\n",
       "      <td>10</td>\n",
       "      <td>Politically Correct Bedtime Stories: Modern Ta...</td>\n",
       "      <td>James Finn Garner</td>\n",
       "      <td>1994.0</td>\n",
       "      <td>John Wiley &amp;amp; Sons Inc</td>\n",
       "      <td>http://images.amazon.com/images/P/002542730X.0...</td>\n",
       "    </tr>\n",
       "    <tr>\n",
       "      <th>1</th>\n",
       "      <td>3363</td>\n",
       "      <td>002542730X</td>\n",
       "      <td>0</td>\n",
       "      <td>Politically Correct Bedtime Stories: Modern Ta...</td>\n",
       "      <td>James Finn Garner</td>\n",
       "      <td>1994.0</td>\n",
       "      <td>John Wiley &amp;amp; Sons Inc</td>\n",
       "      <td>http://images.amazon.com/images/P/002542730X.0...</td>\n",
       "    </tr>\n",
       "  </tbody>\n",
       "</table>\n",
       "</div>"
      ],
      "text/plain": [
       "   user_id        ISBN  rating  \\\n",
       "0   277427  002542730X      10   \n",
       "1     3363  002542730X       0   \n",
       "\n",
       "                                               title             author  \\\n",
       "0  Politically Correct Bedtime Stories: Modern Ta...  James Finn Garner   \n",
       "1  Politically Correct Bedtime Stories: Modern Ta...  James Finn Garner   \n",
       "\n",
       "     year                  publisher  \\\n",
       "0  1994.0  John Wiley &amp; Sons Inc   \n",
       "1  1994.0  John Wiley &amp; Sons Inc   \n",
       "\n",
       "                                             img_url  \n",
       "0  http://images.amazon.com/images/P/002542730X.0...  \n",
       "1  http://images.amazon.com/images/P/002542730X.0...  "
      ]
     },
     "execution_count": 148,
     "metadata": {},
     "output_type": "execute_result"
    }
   ],
   "source": [
    "ratings_with_books.head(2)"
   ]
  },
  {
   "cell_type": "code",
   "execution_count": 149,
   "id": "29fcd756",
   "metadata": {},
   "outputs": [
    {
     "data": {
      "text/plain": [
       "(487668, 8)"
      ]
     },
     "execution_count": 149,
     "metadata": {},
     "output_type": "execute_result"
    }
   ],
   "source": [
    "ratings_with_books.shape"
   ]
  },
  {
   "cell_type": "code",
   "execution_count": 150,
   "id": "dcd462bc",
   "metadata": {},
   "outputs": [
    {
     "data": {
      "text/html": [
       "<div>\n",
       "<style scoped>\n",
       "    .dataframe tbody tr th:only-of-type {\n",
       "        vertical-align: middle;\n",
       "    }\n",
       "\n",
       "    .dataframe tbody tr th {\n",
       "        vertical-align: top;\n",
       "    }\n",
       "\n",
       "    .dataframe thead th {\n",
       "        text-align: right;\n",
       "    }\n",
       "</style>\n",
       "<table border=\"1\" class=\"dataframe\">\n",
       "  <thead>\n",
       "    <tr style=\"text-align: right;\">\n",
       "      <th></th>\n",
       "      <th>title</th>\n",
       "      <th>rating</th>\n",
       "    </tr>\n",
       "  </thead>\n",
       "  <tbody>\n",
       "    <tr>\n",
       "      <th>0</th>\n",
       "      <td>A Light in the Storm: The Civil War Diary of ...</td>\n",
       "      <td>2</td>\n",
       "    </tr>\n",
       "    <tr>\n",
       "      <th>1</th>\n",
       "      <td>Always Have Popsicles</td>\n",
       "      <td>1</td>\n",
       "    </tr>\n",
       "    <tr>\n",
       "      <th>2</th>\n",
       "      <td>Apple Magic (The Collector's series)</td>\n",
       "      <td>1</td>\n",
       "    </tr>\n",
       "    <tr>\n",
       "      <th>3</th>\n",
       "      <td>Beyond IBM: Leadership Marketing and Finance ...</td>\n",
       "      <td>1</td>\n",
       "    </tr>\n",
       "    <tr>\n",
       "      <th>4</th>\n",
       "      <td>Clifford Visita El Hospital (Clifford El Gran...</td>\n",
       "      <td>1</td>\n",
       "    </tr>\n",
       "  </tbody>\n",
       "</table>\n",
       "</div>"
      ],
      "text/plain": [
       "                                               title  rating\n",
       "0   A Light in the Storm: The Civil War Diary of ...       2\n",
       "1                              Always Have Popsicles       1\n",
       "2               Apple Magic (The Collector's series)       1\n",
       "3   Beyond IBM: Leadership Marketing and Finance ...       1\n",
       "4   Clifford Visita El Hospital (Clifford El Gran...       1"
      ]
     },
     "execution_count": 150,
     "metadata": {},
     "output_type": "execute_result"
    }
   ],
   "source": [
    "num_rating = ratings_with_books.groupby('title')['rating'].count().reset_index()\n",
    "num_rating.head()"
   ]
  },
  {
   "cell_type": "code",
   "execution_count": 151,
   "id": "d5814fac",
   "metadata": {},
   "outputs": [],
   "source": [
    "num_rating.rename(columns={'rating': 'num_of_rating'}, inplace=True)"
   ]
  },
  {
   "cell_type": "code",
   "execution_count": 152,
   "id": "b680d112",
   "metadata": {},
   "outputs": [
    {
     "data": {
      "text/html": [
       "<div>\n",
       "<style scoped>\n",
       "    .dataframe tbody tr th:only-of-type {\n",
       "        vertical-align: middle;\n",
       "    }\n",
       "\n",
       "    .dataframe tbody tr th {\n",
       "        vertical-align: top;\n",
       "    }\n",
       "\n",
       "    .dataframe thead th {\n",
       "        text-align: right;\n",
       "    }\n",
       "</style>\n",
       "<table border=\"1\" class=\"dataframe\">\n",
       "  <thead>\n",
       "    <tr style=\"text-align: right;\">\n",
       "      <th></th>\n",
       "      <th>title</th>\n",
       "      <th>num_of_rating</th>\n",
       "    </tr>\n",
       "  </thead>\n",
       "  <tbody>\n",
       "    <tr>\n",
       "      <th>0</th>\n",
       "      <td>A Light in the Storm: The Civil War Diary of ...</td>\n",
       "      <td>2</td>\n",
       "    </tr>\n",
       "    <tr>\n",
       "      <th>1</th>\n",
       "      <td>Always Have Popsicles</td>\n",
       "      <td>1</td>\n",
       "    </tr>\n",
       "  </tbody>\n",
       "</table>\n",
       "</div>"
      ],
      "text/plain": [
       "                                               title  num_of_rating\n",
       "0   A Light in the Storm: The Civil War Diary of ...              2\n",
       "1                              Always Have Popsicles              1"
      ]
     },
     "execution_count": 152,
     "metadata": {},
     "output_type": "execute_result"
    }
   ],
   "source": [
    "num_rating.head(2)"
   ]
  },
  {
   "cell_type": "code",
   "execution_count": 153,
   "id": "706b8a93",
   "metadata": {},
   "outputs": [],
   "source": [
    "final_ratings = ratings_with_books.merge(num_rating, on='title')"
   ]
  },
  {
   "cell_type": "code",
   "execution_count": 154,
   "id": "da89a113",
   "metadata": {},
   "outputs": [
    {
     "data": {
      "text/html": [
       "<div>\n",
       "<style scoped>\n",
       "    .dataframe tbody tr th:only-of-type {\n",
       "        vertical-align: middle;\n",
       "    }\n",
       "\n",
       "    .dataframe tbody tr th {\n",
       "        vertical-align: top;\n",
       "    }\n",
       "\n",
       "    .dataframe thead th {\n",
       "        text-align: right;\n",
       "    }\n",
       "</style>\n",
       "<table border=\"1\" class=\"dataframe\">\n",
       "  <thead>\n",
       "    <tr style=\"text-align: right;\">\n",
       "      <th></th>\n",
       "      <th>user_id</th>\n",
       "      <th>ISBN</th>\n",
       "      <th>rating</th>\n",
       "      <th>title</th>\n",
       "      <th>author</th>\n",
       "      <th>year</th>\n",
       "      <th>publisher</th>\n",
       "      <th>img_url</th>\n",
       "      <th>num_of_rating</th>\n",
       "    </tr>\n",
       "  </thead>\n",
       "  <tbody>\n",
       "    <tr>\n",
       "      <th>0</th>\n",
       "      <td>277427</td>\n",
       "      <td>002542730X</td>\n",
       "      <td>10</td>\n",
       "      <td>Politically Correct Bedtime Stories: Modern Ta...</td>\n",
       "      <td>James Finn Garner</td>\n",
       "      <td>1994.0</td>\n",
       "      <td>John Wiley &amp;amp; Sons Inc</td>\n",
       "      <td>http://images.amazon.com/images/P/002542730X.0...</td>\n",
       "      <td>82</td>\n",
       "    </tr>\n",
       "  </tbody>\n",
       "</table>\n",
       "</div>"
      ],
      "text/plain": [
       "   user_id        ISBN  rating  \\\n",
       "0   277427  002542730X      10   \n",
       "\n",
       "                                               title             author  \\\n",
       "0  Politically Correct Bedtime Stories: Modern Ta...  James Finn Garner   \n",
       "\n",
       "     year                  publisher  \\\n",
       "0  1994.0  John Wiley &amp; Sons Inc   \n",
       "\n",
       "                                             img_url  num_of_rating  \n",
       "0  http://images.amazon.com/images/P/002542730X.0...             82  "
      ]
     },
     "execution_count": 154,
     "metadata": {},
     "output_type": "execute_result"
    }
   ],
   "source": [
    "final_ratings.head(1)"
   ]
  },
  {
   "cell_type": "code",
   "execution_count": 155,
   "id": "a0eb6b4c",
   "metadata": {},
   "outputs": [
    {
     "data": {
      "text/plain": [
       "(487668, 9)"
      ]
     },
     "execution_count": 155,
     "metadata": {},
     "output_type": "execute_result"
    }
   ],
   "source": [
    "final_ratings.shape"
   ]
  },
  {
   "cell_type": "code",
   "execution_count": 156,
   "id": "9d513acc",
   "metadata": {},
   "outputs": [],
   "source": [
    "final_ratings = final_ratings[final_ratings['num_of_rating']>=50]"
   ]
  },
  {
   "cell_type": "code",
   "execution_count": 157,
   "id": "729d8e03",
   "metadata": {},
   "outputs": [
    {
     "data": {
      "text/html": [
       "<div>\n",
       "<style scoped>\n",
       "    .dataframe tbody tr th:only-of-type {\n",
       "        vertical-align: middle;\n",
       "    }\n",
       "\n",
       "    .dataframe tbody tr th {\n",
       "        vertical-align: top;\n",
       "    }\n",
       "\n",
       "    .dataframe thead th {\n",
       "        text-align: right;\n",
       "    }\n",
       "</style>\n",
       "<table border=\"1\" class=\"dataframe\">\n",
       "  <thead>\n",
       "    <tr style=\"text-align: right;\">\n",
       "      <th></th>\n",
       "      <th>user_id</th>\n",
       "      <th>ISBN</th>\n",
       "      <th>rating</th>\n",
       "      <th>title</th>\n",
       "      <th>author</th>\n",
       "      <th>year</th>\n",
       "      <th>publisher</th>\n",
       "      <th>img_url</th>\n",
       "      <th>num_of_rating</th>\n",
       "    </tr>\n",
       "  </thead>\n",
       "  <tbody>\n",
       "    <tr>\n",
       "      <th>0</th>\n",
       "      <td>277427</td>\n",
       "      <td>002542730X</td>\n",
       "      <td>10</td>\n",
       "      <td>Politically Correct Bedtime Stories: Modern Ta...</td>\n",
       "      <td>James Finn Garner</td>\n",
       "      <td>1994.0</td>\n",
       "      <td>John Wiley &amp;amp; Sons Inc</td>\n",
       "      <td>http://images.amazon.com/images/P/002542730X.0...</td>\n",
       "      <td>82</td>\n",
       "    </tr>\n",
       "    <tr>\n",
       "      <th>1</th>\n",
       "      <td>3363</td>\n",
       "      <td>002542730X</td>\n",
       "      <td>0</td>\n",
       "      <td>Politically Correct Bedtime Stories: Modern Ta...</td>\n",
       "      <td>James Finn Garner</td>\n",
       "      <td>1994.0</td>\n",
       "      <td>John Wiley &amp;amp; Sons Inc</td>\n",
       "      <td>http://images.amazon.com/images/P/002542730X.0...</td>\n",
       "      <td>82</td>\n",
       "    </tr>\n",
       "    <tr>\n",
       "      <th>2</th>\n",
       "      <td>11676</td>\n",
       "      <td>002542730X</td>\n",
       "      <td>6</td>\n",
       "      <td>Politically Correct Bedtime Stories: Modern Ta...</td>\n",
       "      <td>James Finn Garner</td>\n",
       "      <td>1994.0</td>\n",
       "      <td>John Wiley &amp;amp; Sons Inc</td>\n",
       "      <td>http://images.amazon.com/images/P/002542730X.0...</td>\n",
       "      <td>82</td>\n",
       "    </tr>\n",
       "    <tr>\n",
       "      <th>3</th>\n",
       "      <td>12538</td>\n",
       "      <td>002542730X</td>\n",
       "      <td>10</td>\n",
       "      <td>Politically Correct Bedtime Stories: Modern Ta...</td>\n",
       "      <td>James Finn Garner</td>\n",
       "      <td>1994.0</td>\n",
       "      <td>John Wiley &amp;amp; Sons Inc</td>\n",
       "      <td>http://images.amazon.com/images/P/002542730X.0...</td>\n",
       "      <td>82</td>\n",
       "    </tr>\n",
       "    <tr>\n",
       "      <th>4</th>\n",
       "      <td>13552</td>\n",
       "      <td>002542730X</td>\n",
       "      <td>0</td>\n",
       "      <td>Politically Correct Bedtime Stories: Modern Ta...</td>\n",
       "      <td>James Finn Garner</td>\n",
       "      <td>1994.0</td>\n",
       "      <td>John Wiley &amp;amp; Sons Inc</td>\n",
       "      <td>http://images.amazon.com/images/P/002542730X.0...</td>\n",
       "      <td>82</td>\n",
       "    </tr>\n",
       "  </tbody>\n",
       "</table>\n",
       "</div>"
      ],
      "text/plain": [
       "   user_id        ISBN  rating  \\\n",
       "0   277427  002542730X      10   \n",
       "1     3363  002542730X       0   \n",
       "2    11676  002542730X       6   \n",
       "3    12538  002542730X      10   \n",
       "4    13552  002542730X       0   \n",
       "\n",
       "                                               title             author  \\\n",
       "0  Politically Correct Bedtime Stories: Modern Ta...  James Finn Garner   \n",
       "1  Politically Correct Bedtime Stories: Modern Ta...  James Finn Garner   \n",
       "2  Politically Correct Bedtime Stories: Modern Ta...  James Finn Garner   \n",
       "3  Politically Correct Bedtime Stories: Modern Ta...  James Finn Garner   \n",
       "4  Politically Correct Bedtime Stories: Modern Ta...  James Finn Garner   \n",
       "\n",
       "     year                  publisher  \\\n",
       "0  1994.0  John Wiley &amp; Sons Inc   \n",
       "1  1994.0  John Wiley &amp; Sons Inc   \n",
       "2  1994.0  John Wiley &amp; Sons Inc   \n",
       "3  1994.0  John Wiley &amp; Sons Inc   \n",
       "4  1994.0  John Wiley &amp; Sons Inc   \n",
       "\n",
       "                                             img_url  num_of_rating  \n",
       "0  http://images.amazon.com/images/P/002542730X.0...             82  \n",
       "1  http://images.amazon.com/images/P/002542730X.0...             82  \n",
       "2  http://images.amazon.com/images/P/002542730X.0...             82  \n",
       "3  http://images.amazon.com/images/P/002542730X.0...             82  \n",
       "4  http://images.amazon.com/images/P/002542730X.0...             82  "
      ]
     },
     "execution_count": 157,
     "metadata": {},
     "output_type": "execute_result"
    }
   ],
   "source": [
    "final_ratings.head()"
   ]
  },
  {
   "cell_type": "code",
   "execution_count": 158,
   "id": "8fddb933",
   "metadata": {},
   "outputs": [
    {
     "data": {
      "text/html": [
       "<div>\n",
       "<style scoped>\n",
       "    .dataframe tbody tr th:only-of-type {\n",
       "        vertical-align: middle;\n",
       "    }\n",
       "\n",
       "    .dataframe tbody tr th {\n",
       "        vertical-align: top;\n",
       "    }\n",
       "\n",
       "    .dataframe thead th {\n",
       "        text-align: right;\n",
       "    }\n",
       "</style>\n",
       "<table border=\"1\" class=\"dataframe\">\n",
       "  <thead>\n",
       "    <tr style=\"text-align: right;\">\n",
       "      <th></th>\n",
       "      <th>user_id</th>\n",
       "      <th>ISBN</th>\n",
       "      <th>rating</th>\n",
       "      <th>title</th>\n",
       "      <th>author</th>\n",
       "      <th>year</th>\n",
       "      <th>publisher</th>\n",
       "      <th>img_url</th>\n",
       "      <th>num_of_rating</th>\n",
       "    </tr>\n",
       "  </thead>\n",
       "  <tbody>\n",
       "    <tr>\n",
       "      <th>190581</th>\n",
       "      <td>240567</td>\n",
       "      <td>0684865742</td>\n",
       "      <td>8</td>\n",
       "      <td>Tis: A Memoir</td>\n",
       "      <td>Frank McCourt</td>\n",
       "      <td>2000.0</td>\n",
       "      <td>Scribner</td>\n",
       "      <td>http://images.amazon.com/images/P/0684865742.0...</td>\n",
       "      <td>51</td>\n",
       "    </tr>\n",
       "    <tr>\n",
       "      <th>70653</th>\n",
       "      <td>229011</td>\n",
       "      <td>0345370805</td>\n",
       "      <td>0</td>\n",
       "      <td>How to Make an American Quilt</td>\n",
       "      <td>Whitney Otto</td>\n",
       "      <td>1992.0</td>\n",
       "      <td>Ballantine Books</td>\n",
       "      <td>http://images.amazon.com/images/P/0345370805.0...</td>\n",
       "      <td>85</td>\n",
       "    </tr>\n",
       "    <tr>\n",
       "      <th>106788</th>\n",
       "      <td>76352</td>\n",
       "      <td>0316601950</td>\n",
       "      <td>0</td>\n",
       "      <td>The Pilot's Wife : A Novel</td>\n",
       "      <td>Anita Shreve</td>\n",
       "      <td>1999.0</td>\n",
       "      <td>Back Bay Books</td>\n",
       "      <td>http://images.amazon.com/images/P/0316601950.0...</td>\n",
       "      <td>171</td>\n",
       "    </tr>\n",
       "    <tr>\n",
       "      <th>89731</th>\n",
       "      <td>53628</td>\n",
       "      <td>0385479565</td>\n",
       "      <td>0</td>\n",
       "      <td>The Hot Zone</td>\n",
       "      <td>Richard Preston</td>\n",
       "      <td>1995.0</td>\n",
       "      <td>Anchor</td>\n",
       "      <td>http://images.amazon.com/images/P/0385479565.0...</td>\n",
       "      <td>97</td>\n",
       "    </tr>\n",
       "    <tr>\n",
       "      <th>70160</th>\n",
       "      <td>31315</td>\n",
       "      <td>0312291639</td>\n",
       "      <td>0</td>\n",
       "      <td>The Nanny Diaries: A Novel</td>\n",
       "      <td>Emma McLaughlin</td>\n",
       "      <td>2003.0</td>\n",
       "      <td>St. Martin's Griffin</td>\n",
       "      <td>http://images.amazon.com/images/P/0312291639.0...</td>\n",
       "      <td>230</td>\n",
       "    </tr>\n",
       "  </tbody>\n",
       "</table>\n",
       "</div>"
      ],
      "text/plain": [
       "        user_id        ISBN  rating                          title  \\\n",
       "190581   240567  0684865742       8                  Tis: A Memoir   \n",
       "70653    229011  0345370805       0  How to Make an American Quilt   \n",
       "106788    76352  0316601950       0     The Pilot's Wife : A Novel   \n",
       "89731     53628  0385479565       0                   The Hot Zone   \n",
       "70160     31315  0312291639       0     The Nanny Diaries: A Novel   \n",
       "\n",
       "                 author    year             publisher  \\\n",
       "190581    Frank McCourt  2000.0              Scribner   \n",
       "70653      Whitney Otto  1992.0      Ballantine Books   \n",
       "106788     Anita Shreve  1999.0        Back Bay Books   \n",
       "89731   Richard Preston  1995.0                Anchor   \n",
       "70160   Emma McLaughlin  2003.0  St. Martin's Griffin   \n",
       "\n",
       "                                                  img_url  num_of_rating  \n",
       "190581  http://images.amazon.com/images/P/0684865742.0...             51  \n",
       "70653   http://images.amazon.com/images/P/0345370805.0...             85  \n",
       "106788  http://images.amazon.com/images/P/0316601950.0...            171  \n",
       "89731   http://images.amazon.com/images/P/0385479565.0...             97  \n",
       "70160   http://images.amazon.com/images/P/0312291639.0...            230  "
      ]
     },
     "execution_count": 158,
     "metadata": {},
     "output_type": "execute_result"
    }
   ],
   "source": [
    "final_ratings.sample(5)"
   ]
  },
  {
   "cell_type": "code",
   "execution_count": 159,
   "id": "5dee937a",
   "metadata": {},
   "outputs": [
    {
     "data": {
      "text/plain": [
       "user_id          0\n",
       "ISBN             0\n",
       "rating           0\n",
       "title            0\n",
       "author           0\n",
       "year             0\n",
       "publisher        0\n",
       "img_url          0\n",
       "num_of_rating    0\n",
       "dtype: int64"
      ]
     },
     "execution_count": 159,
     "metadata": {},
     "output_type": "execute_result"
    }
   ],
   "source": [
    "final_ratings.isna().sum()"
   ]
  },
  {
   "cell_type": "code",
   "execution_count": 160,
   "id": "c4068c97",
   "metadata": {},
   "outputs": [],
   "source": [
    "final_ratings.drop_duplicates(['user_id', 'title'], inplace=True)"
   ]
  },
  {
   "cell_type": "code",
   "execution_count": 161,
   "id": "7538da5a",
   "metadata": {},
   "outputs": [
    {
     "data": {
      "text/plain": [
       "(59850, 9)"
      ]
     },
     "execution_count": 161,
     "metadata": {},
     "output_type": "execute_result"
    }
   ],
   "source": [
    "final_ratings.shape"
   ]
  },
  {
   "cell_type": "code",
   "execution_count": 162,
   "id": "74224bb6",
   "metadata": {},
   "outputs": [
    {
     "data": {
      "text/html": [
       "<div>\n",
       "<style scoped>\n",
       "    .dataframe tbody tr th:only-of-type {\n",
       "        vertical-align: middle;\n",
       "    }\n",
       "\n",
       "    .dataframe tbody tr th {\n",
       "        vertical-align: top;\n",
       "    }\n",
       "\n",
       "    .dataframe thead th {\n",
       "        text-align: right;\n",
       "    }\n",
       "</style>\n",
       "<table border=\"1\" class=\"dataframe\">\n",
       "  <thead>\n",
       "    <tr style=\"text-align: right;\">\n",
       "      <th></th>\n",
       "      <th>user_id</th>\n",
       "      <th>ISBN</th>\n",
       "      <th>rating</th>\n",
       "      <th>title</th>\n",
       "      <th>author</th>\n",
       "      <th>year</th>\n",
       "      <th>publisher</th>\n",
       "      <th>img_url</th>\n",
       "      <th>num_of_rating</th>\n",
       "    </tr>\n",
       "  </thead>\n",
       "  <tbody>\n",
       "    <tr>\n",
       "      <th>0</th>\n",
       "      <td>277427</td>\n",
       "      <td>002542730X</td>\n",
       "      <td>10</td>\n",
       "      <td>Politically Correct Bedtime Stories: Modern Ta...</td>\n",
       "      <td>James Finn Garner</td>\n",
       "      <td>1994.0</td>\n",
       "      <td>John Wiley &amp;amp; Sons Inc</td>\n",
       "      <td>http://images.amazon.com/images/P/002542730X.0...</td>\n",
       "      <td>82</td>\n",
       "    </tr>\n",
       "    <tr>\n",
       "      <th>1</th>\n",
       "      <td>3363</td>\n",
       "      <td>002542730X</td>\n",
       "      <td>0</td>\n",
       "      <td>Politically Correct Bedtime Stories: Modern Ta...</td>\n",
       "      <td>James Finn Garner</td>\n",
       "      <td>1994.0</td>\n",
       "      <td>John Wiley &amp;amp; Sons Inc</td>\n",
       "      <td>http://images.amazon.com/images/P/002542730X.0...</td>\n",
       "      <td>82</td>\n",
       "    </tr>\n",
       "    <tr>\n",
       "      <th>2</th>\n",
       "      <td>11676</td>\n",
       "      <td>002542730X</td>\n",
       "      <td>6</td>\n",
       "      <td>Politically Correct Bedtime Stories: Modern Ta...</td>\n",
       "      <td>James Finn Garner</td>\n",
       "      <td>1994.0</td>\n",
       "      <td>John Wiley &amp;amp; Sons Inc</td>\n",
       "      <td>http://images.amazon.com/images/P/002542730X.0...</td>\n",
       "      <td>82</td>\n",
       "    </tr>\n",
       "    <tr>\n",
       "      <th>3</th>\n",
       "      <td>12538</td>\n",
       "      <td>002542730X</td>\n",
       "      <td>10</td>\n",
       "      <td>Politically Correct Bedtime Stories: Modern Ta...</td>\n",
       "      <td>James Finn Garner</td>\n",
       "      <td>1994.0</td>\n",
       "      <td>John Wiley &amp;amp; Sons Inc</td>\n",
       "      <td>http://images.amazon.com/images/P/002542730X.0...</td>\n",
       "      <td>82</td>\n",
       "    </tr>\n",
       "    <tr>\n",
       "      <th>4</th>\n",
       "      <td>13552</td>\n",
       "      <td>002542730X</td>\n",
       "      <td>0</td>\n",
       "      <td>Politically Correct Bedtime Stories: Modern Ta...</td>\n",
       "      <td>James Finn Garner</td>\n",
       "      <td>1994.0</td>\n",
       "      <td>John Wiley &amp;amp; Sons Inc</td>\n",
       "      <td>http://images.amazon.com/images/P/002542730X.0...</td>\n",
       "      <td>82</td>\n",
       "    </tr>\n",
       "  </tbody>\n",
       "</table>\n",
       "</div>"
      ],
      "text/plain": [
       "   user_id        ISBN  rating  \\\n",
       "0   277427  002542730X      10   \n",
       "1     3363  002542730X       0   \n",
       "2    11676  002542730X       6   \n",
       "3    12538  002542730X      10   \n",
       "4    13552  002542730X       0   \n",
       "\n",
       "                                               title             author  \\\n",
       "0  Politically Correct Bedtime Stories: Modern Ta...  James Finn Garner   \n",
       "1  Politically Correct Bedtime Stories: Modern Ta...  James Finn Garner   \n",
       "2  Politically Correct Bedtime Stories: Modern Ta...  James Finn Garner   \n",
       "3  Politically Correct Bedtime Stories: Modern Ta...  James Finn Garner   \n",
       "4  Politically Correct Bedtime Stories: Modern Ta...  James Finn Garner   \n",
       "\n",
       "     year                  publisher  \\\n",
       "0  1994.0  John Wiley &amp; Sons Inc   \n",
       "1  1994.0  John Wiley &amp; Sons Inc   \n",
       "2  1994.0  John Wiley &amp; Sons Inc   \n",
       "3  1994.0  John Wiley &amp; Sons Inc   \n",
       "4  1994.0  John Wiley &amp; Sons Inc   \n",
       "\n",
       "                                             img_url  num_of_rating  \n",
       "0  http://images.amazon.com/images/P/002542730X.0...             82  \n",
       "1  http://images.amazon.com/images/P/002542730X.0...             82  \n",
       "2  http://images.amazon.com/images/P/002542730X.0...             82  \n",
       "3  http://images.amazon.com/images/P/002542730X.0...             82  \n",
       "4  http://images.amazon.com/images/P/002542730X.0...             82  "
      ]
     },
     "execution_count": 162,
     "metadata": {},
     "output_type": "execute_result"
    }
   ],
   "source": [
    "final_ratings.head()"
   ]
  },
  {
   "cell_type": "code",
   "execution_count": 163,
   "id": "669314c6",
   "metadata": {},
   "outputs": [],
   "source": [
    "final_ratings['avg_rating']=final_ratings.groupby('ISBN')['rating'].transform('mean')\n",
    "final_ratings['total_no_of_users_rated']=final_ratings.groupby('ISBN')['rating'].transform('count')"
   ]
  },
  {
   "cell_type": "code",
   "execution_count": 164,
   "id": "b42cf995",
   "metadata": {},
   "outputs": [
    {
     "data": {
      "text/html": [
       "<div>\n",
       "<style scoped>\n",
       "    .dataframe tbody tr th:only-of-type {\n",
       "        vertical-align: middle;\n",
       "    }\n",
       "\n",
       "    .dataframe tbody tr th {\n",
       "        vertical-align: top;\n",
       "    }\n",
       "\n",
       "    .dataframe thead th {\n",
       "        text-align: right;\n",
       "    }\n",
       "</style>\n",
       "<table border=\"1\" class=\"dataframe\">\n",
       "  <thead>\n",
       "    <tr style=\"text-align: right;\">\n",
       "      <th></th>\n",
       "      <th>user_id</th>\n",
       "      <th>ISBN</th>\n",
       "      <th>rating</th>\n",
       "      <th>title</th>\n",
       "      <th>author</th>\n",
       "      <th>year</th>\n",
       "      <th>publisher</th>\n",
       "      <th>img_url</th>\n",
       "      <th>num_of_rating</th>\n",
       "      <th>avg_rating</th>\n",
       "      <th>total_no_of_users_rated</th>\n",
       "    </tr>\n",
       "  </thead>\n",
       "  <tbody>\n",
       "    <tr>\n",
       "      <th>75337</th>\n",
       "      <td>69078</td>\n",
       "      <td>0553277472</td>\n",
       "      <td>6</td>\n",
       "      <td>Zen and the Art of Motorcycle Maintenance: An ...</td>\n",
       "      <td>ROBERT PIRSIG</td>\n",
       "      <td>1984.0</td>\n",
       "      <td>Bantam</td>\n",
       "      <td>http://images.amazon.com/images/P/0553277472.0...</td>\n",
       "      <td>64</td>\n",
       "      <td>1.964912</td>\n",
       "      <td>57</td>\n",
       "    </tr>\n",
       "    <tr>\n",
       "      <th>39838</th>\n",
       "      <td>98758</td>\n",
       "      <td>0451172817</td>\n",
       "      <td>9</td>\n",
       "      <td>Needful Things</td>\n",
       "      <td>Stephen King</td>\n",
       "      <td>2004.0</td>\n",
       "      <td>Signet Book</td>\n",
       "      <td>http://images.amazon.com/images/P/0451172817.0...</td>\n",
       "      <td>80</td>\n",
       "      <td>2.710145</td>\n",
       "      <td>69</td>\n",
       "    </tr>\n",
       "    <tr>\n",
       "      <th>7415</th>\n",
       "      <td>136382</td>\n",
       "      <td>0440225701</td>\n",
       "      <td>4</td>\n",
       "      <td>The Street Lawyer</td>\n",
       "      <td>JOHN GRISHAM</td>\n",
       "      <td>1999.0</td>\n",
       "      <td>Dell</td>\n",
       "      <td>http://images.amazon.com/images/P/0440225701.0...</td>\n",
       "      <td>186</td>\n",
       "      <td>1.759124</td>\n",
       "      <td>137</td>\n",
       "    </tr>\n",
       "    <tr>\n",
       "      <th>59433</th>\n",
       "      <td>35857</td>\n",
       "      <td>038531292X</td>\n",
       "      <td>0</td>\n",
       "      <td>The Gift</td>\n",
       "      <td>Danielle Steel</td>\n",
       "      <td>1994.0</td>\n",
       "      <td>Delacorte Press</td>\n",
       "      <td>http://images.amazon.com/images/P/038531292X.0...</td>\n",
       "      <td>124</td>\n",
       "      <td>1.545455</td>\n",
       "      <td>22</td>\n",
       "    </tr>\n",
       "    <tr>\n",
       "      <th>49331</th>\n",
       "      <td>114414</td>\n",
       "      <td>0743206045</td>\n",
       "      <td>0</td>\n",
       "      <td>Daddy's Little Girl</td>\n",
       "      <td>Mary Higgins Clark</td>\n",
       "      <td>2002.0</td>\n",
       "      <td>Simon &amp;amp; Schuster</td>\n",
       "      <td>http://images.amazon.com/images/P/0743206045.0...</td>\n",
       "      <td>94</td>\n",
       "      <td>2.758621</td>\n",
       "      <td>29</td>\n",
       "    </tr>\n",
       "  </tbody>\n",
       "</table>\n",
       "</div>"
      ],
      "text/plain": [
       "       user_id        ISBN  rating  \\\n",
       "75337    69078  0553277472       6   \n",
       "39838    98758  0451172817       9   \n",
       "7415    136382  0440225701       4   \n",
       "59433    35857  038531292X       0   \n",
       "49331   114414  0743206045       0   \n",
       "\n",
       "                                                   title              author  \\\n",
       "75337  Zen and the Art of Motorcycle Maintenance: An ...       ROBERT PIRSIG   \n",
       "39838                                     Needful Things        Stephen King   \n",
       "7415                                   The Street Lawyer        JOHN GRISHAM   \n",
       "59433                                           The Gift      Danielle Steel   \n",
       "49331                                Daddy's Little Girl  Mary Higgins Clark   \n",
       "\n",
       "         year             publisher  \\\n",
       "75337  1984.0                Bantam   \n",
       "39838  2004.0           Signet Book   \n",
       "7415   1999.0                  Dell   \n",
       "59433  1994.0       Delacorte Press   \n",
       "49331  2002.0  Simon &amp; Schuster   \n",
       "\n",
       "                                                 img_url  num_of_rating  \\\n",
       "75337  http://images.amazon.com/images/P/0553277472.0...             64   \n",
       "39838  http://images.amazon.com/images/P/0451172817.0...             80   \n",
       "7415   http://images.amazon.com/images/P/0440225701.0...            186   \n",
       "59433  http://images.amazon.com/images/P/038531292X.0...            124   \n",
       "49331  http://images.amazon.com/images/P/0743206045.0...             94   \n",
       "\n",
       "       avg_rating  total_no_of_users_rated  \n",
       "75337    1.964912                       57  \n",
       "39838    2.710145                       69  \n",
       "7415     1.759124                      137  \n",
       "59433    1.545455                       22  \n",
       "49331    2.758621                       29  "
      ]
     },
     "execution_count": 164,
     "metadata": {},
     "output_type": "execute_result"
    }
   ],
   "source": [
    "final_ratings.sample(5)"
   ]
  },
  {
   "cell_type": "code",
   "execution_count": 165,
   "id": "c9328a45",
   "metadata": {},
   "outputs": [],
   "source": [
    "books_pivot = final_ratings.pivot_table(columns='user_id',\n",
    "                                        index='title',\n",
    "                                        values='rating')"
   ]
  },
  {
   "cell_type": "code",
   "execution_count": 166,
   "id": "b9e7bc9f",
   "metadata": {},
   "outputs": [
    {
     "data": {
      "text/html": [
       "<div>\n",
       "<style scoped>\n",
       "    .dataframe tbody tr th:only-of-type {\n",
       "        vertical-align: middle;\n",
       "    }\n",
       "\n",
       "    .dataframe tbody tr th {\n",
       "        vertical-align: top;\n",
       "    }\n",
       "\n",
       "    .dataframe thead th {\n",
       "        text-align: right;\n",
       "    }\n",
       "</style>\n",
       "<table border=\"1\" class=\"dataframe\">\n",
       "  <thead>\n",
       "    <tr style=\"text-align: right;\">\n",
       "      <th>user_id</th>\n",
       "      <th>254</th>\n",
       "      <th>2276</th>\n",
       "      <th>2766</th>\n",
       "      <th>2977</th>\n",
       "      <th>3363</th>\n",
       "      <th>3757</th>\n",
       "      <th>4017</th>\n",
       "      <th>4385</th>\n",
       "      <th>6242</th>\n",
       "      <th>6251</th>\n",
       "      <th>...</th>\n",
       "      <th>274004</th>\n",
       "      <th>274061</th>\n",
       "      <th>274301</th>\n",
       "      <th>274308</th>\n",
       "      <th>274808</th>\n",
       "      <th>275970</th>\n",
       "      <th>277427</th>\n",
       "      <th>277478</th>\n",
       "      <th>277639</th>\n",
       "      <th>278418</th>\n",
       "    </tr>\n",
       "    <tr>\n",
       "      <th>title</th>\n",
       "      <th></th>\n",
       "      <th></th>\n",
       "      <th></th>\n",
       "      <th></th>\n",
       "      <th></th>\n",
       "      <th></th>\n",
       "      <th></th>\n",
       "      <th></th>\n",
       "      <th></th>\n",
       "      <th></th>\n",
       "      <th></th>\n",
       "      <th></th>\n",
       "      <th></th>\n",
       "      <th></th>\n",
       "      <th></th>\n",
       "      <th></th>\n",
       "      <th></th>\n",
       "      <th></th>\n",
       "      <th></th>\n",
       "      <th></th>\n",
       "      <th></th>\n",
       "    </tr>\n",
       "  </thead>\n",
       "  <tbody>\n",
       "    <tr>\n",
       "      <th>1984</th>\n",
       "      <td>9.0</td>\n",
       "      <td>NaN</td>\n",
       "      <td>NaN</td>\n",
       "      <td>NaN</td>\n",
       "      <td>NaN</td>\n",
       "      <td>NaN</td>\n",
       "      <td>NaN</td>\n",
       "      <td>NaN</td>\n",
       "      <td>NaN</td>\n",
       "      <td>NaN</td>\n",
       "      <td>...</td>\n",
       "      <td>NaN</td>\n",
       "      <td>NaN</td>\n",
       "      <td>NaN</td>\n",
       "      <td>NaN</td>\n",
       "      <td>NaN</td>\n",
       "      <td>0.0</td>\n",
       "      <td>NaN</td>\n",
       "      <td>NaN</td>\n",
       "      <td>NaN</td>\n",
       "      <td>NaN</td>\n",
       "    </tr>\n",
       "    <tr>\n",
       "      <th>1st to Die: A Novel</th>\n",
       "      <td>NaN</td>\n",
       "      <td>NaN</td>\n",
       "      <td>NaN</td>\n",
       "      <td>NaN</td>\n",
       "      <td>NaN</td>\n",
       "      <td>NaN</td>\n",
       "      <td>NaN</td>\n",
       "      <td>NaN</td>\n",
       "      <td>NaN</td>\n",
       "      <td>NaN</td>\n",
       "      <td>...</td>\n",
       "      <td>NaN</td>\n",
       "      <td>NaN</td>\n",
       "      <td>NaN</td>\n",
       "      <td>NaN</td>\n",
       "      <td>NaN</td>\n",
       "      <td>NaN</td>\n",
       "      <td>NaN</td>\n",
       "      <td>NaN</td>\n",
       "      <td>NaN</td>\n",
       "      <td>NaN</td>\n",
       "    </tr>\n",
       "    <tr>\n",
       "      <th>2nd Chance</th>\n",
       "      <td>NaN</td>\n",
       "      <td>10.0</td>\n",
       "      <td>NaN</td>\n",
       "      <td>NaN</td>\n",
       "      <td>NaN</td>\n",
       "      <td>NaN</td>\n",
       "      <td>NaN</td>\n",
       "      <td>NaN</td>\n",
       "      <td>NaN</td>\n",
       "      <td>NaN</td>\n",
       "      <td>...</td>\n",
       "      <td>NaN</td>\n",
       "      <td>NaN</td>\n",
       "      <td>NaN</td>\n",
       "      <td>0.0</td>\n",
       "      <td>NaN</td>\n",
       "      <td>NaN</td>\n",
       "      <td>NaN</td>\n",
       "      <td>NaN</td>\n",
       "      <td>0.0</td>\n",
       "      <td>NaN</td>\n",
       "    </tr>\n",
       "    <tr>\n",
       "      <th>4 Blondes</th>\n",
       "      <td>NaN</td>\n",
       "      <td>NaN</td>\n",
       "      <td>NaN</td>\n",
       "      <td>NaN</td>\n",
       "      <td>NaN</td>\n",
       "      <td>NaN</td>\n",
       "      <td>NaN</td>\n",
       "      <td>NaN</td>\n",
       "      <td>NaN</td>\n",
       "      <td>0.0</td>\n",
       "      <td>...</td>\n",
       "      <td>NaN</td>\n",
       "      <td>NaN</td>\n",
       "      <td>NaN</td>\n",
       "      <td>NaN</td>\n",
       "      <td>NaN</td>\n",
       "      <td>NaN</td>\n",
       "      <td>NaN</td>\n",
       "      <td>NaN</td>\n",
       "      <td>NaN</td>\n",
       "      <td>NaN</td>\n",
       "    </tr>\n",
       "    <tr>\n",
       "      <th>84 Charing Cross Road</th>\n",
       "      <td>NaN</td>\n",
       "      <td>NaN</td>\n",
       "      <td>NaN</td>\n",
       "      <td>NaN</td>\n",
       "      <td>NaN</td>\n",
       "      <td>NaN</td>\n",
       "      <td>NaN</td>\n",
       "      <td>NaN</td>\n",
       "      <td>NaN</td>\n",
       "      <td>NaN</td>\n",
       "      <td>...</td>\n",
       "      <td>NaN</td>\n",
       "      <td>NaN</td>\n",
       "      <td>NaN</td>\n",
       "      <td>NaN</td>\n",
       "      <td>NaN</td>\n",
       "      <td>10.0</td>\n",
       "      <td>NaN</td>\n",
       "      <td>NaN</td>\n",
       "      <td>NaN</td>\n",
       "      <td>NaN</td>\n",
       "    </tr>\n",
       "    <tr>\n",
       "      <th>...</th>\n",
       "      <td>...</td>\n",
       "      <td>...</td>\n",
       "      <td>...</td>\n",
       "      <td>...</td>\n",
       "      <td>...</td>\n",
       "      <td>...</td>\n",
       "      <td>...</td>\n",
       "      <td>...</td>\n",
       "      <td>...</td>\n",
       "      <td>...</td>\n",
       "      <td>...</td>\n",
       "      <td>...</td>\n",
       "      <td>...</td>\n",
       "      <td>...</td>\n",
       "      <td>...</td>\n",
       "      <td>...</td>\n",
       "      <td>...</td>\n",
       "      <td>...</td>\n",
       "      <td>...</td>\n",
       "      <td>...</td>\n",
       "      <td>...</td>\n",
       "    </tr>\n",
       "    <tr>\n",
       "      <th>Year of Wonders</th>\n",
       "      <td>NaN</td>\n",
       "      <td>NaN</td>\n",
       "      <td>NaN</td>\n",
       "      <td>7.0</td>\n",
       "      <td>NaN</td>\n",
       "      <td>NaN</td>\n",
       "      <td>NaN</td>\n",
       "      <td>NaN</td>\n",
       "      <td>7.0</td>\n",
       "      <td>NaN</td>\n",
       "      <td>...</td>\n",
       "      <td>NaN</td>\n",
       "      <td>NaN</td>\n",
       "      <td>NaN</td>\n",
       "      <td>NaN</td>\n",
       "      <td>NaN</td>\n",
       "      <td>0.0</td>\n",
       "      <td>NaN</td>\n",
       "      <td>NaN</td>\n",
       "      <td>NaN</td>\n",
       "      <td>NaN</td>\n",
       "    </tr>\n",
       "    <tr>\n",
       "      <th>You Belong To Me</th>\n",
       "      <td>NaN</td>\n",
       "      <td>NaN</td>\n",
       "      <td>NaN</td>\n",
       "      <td>NaN</td>\n",
       "      <td>NaN</td>\n",
       "      <td>NaN</td>\n",
       "      <td>NaN</td>\n",
       "      <td>NaN</td>\n",
       "      <td>NaN</td>\n",
       "      <td>NaN</td>\n",
       "      <td>...</td>\n",
       "      <td>NaN</td>\n",
       "      <td>NaN</td>\n",
       "      <td>NaN</td>\n",
       "      <td>NaN</td>\n",
       "      <td>NaN</td>\n",
       "      <td>NaN</td>\n",
       "      <td>NaN</td>\n",
       "      <td>NaN</td>\n",
       "      <td>NaN</td>\n",
       "      <td>NaN</td>\n",
       "    </tr>\n",
       "    <tr>\n",
       "      <th>Zen and the Art of Motorcycle Maintenance: An Inquiry into Values</th>\n",
       "      <td>NaN</td>\n",
       "      <td>NaN</td>\n",
       "      <td>NaN</td>\n",
       "      <td>NaN</td>\n",
       "      <td>0.0</td>\n",
       "      <td>NaN</td>\n",
       "      <td>NaN</td>\n",
       "      <td>NaN</td>\n",
       "      <td>NaN</td>\n",
       "      <td>0.0</td>\n",
       "      <td>...</td>\n",
       "      <td>NaN</td>\n",
       "      <td>NaN</td>\n",
       "      <td>NaN</td>\n",
       "      <td>NaN</td>\n",
       "      <td>NaN</td>\n",
       "      <td>0.0</td>\n",
       "      <td>NaN</td>\n",
       "      <td>NaN</td>\n",
       "      <td>NaN</td>\n",
       "      <td>NaN</td>\n",
       "    </tr>\n",
       "    <tr>\n",
       "      <th>Zoya</th>\n",
       "      <td>NaN</td>\n",
       "      <td>NaN</td>\n",
       "      <td>NaN</td>\n",
       "      <td>NaN</td>\n",
       "      <td>NaN</td>\n",
       "      <td>NaN</td>\n",
       "      <td>NaN</td>\n",
       "      <td>NaN</td>\n",
       "      <td>NaN</td>\n",
       "      <td>NaN</td>\n",
       "      <td>...</td>\n",
       "      <td>NaN</td>\n",
       "      <td>NaN</td>\n",
       "      <td>NaN</td>\n",
       "      <td>NaN</td>\n",
       "      <td>NaN</td>\n",
       "      <td>NaN</td>\n",
       "      <td>NaN</td>\n",
       "      <td>NaN</td>\n",
       "      <td>NaN</td>\n",
       "      <td>NaN</td>\n",
       "    </tr>\n",
       "    <tr>\n",
       "      <th>\\O\\\" Is for Outlaw\"</th>\n",
       "      <td>NaN</td>\n",
       "      <td>NaN</td>\n",
       "      <td>NaN</td>\n",
       "      <td>NaN</td>\n",
       "      <td>NaN</td>\n",
       "      <td>NaN</td>\n",
       "      <td>NaN</td>\n",
       "      <td>NaN</td>\n",
       "      <td>NaN</td>\n",
       "      <td>NaN</td>\n",
       "      <td>...</td>\n",
       "      <td>NaN</td>\n",
       "      <td>NaN</td>\n",
       "      <td>8.0</td>\n",
       "      <td>NaN</td>\n",
       "      <td>NaN</td>\n",
       "      <td>NaN</td>\n",
       "      <td>NaN</td>\n",
       "      <td>NaN</td>\n",
       "      <td>NaN</td>\n",
       "      <td>NaN</td>\n",
       "    </tr>\n",
       "  </tbody>\n",
       "</table>\n",
       "<p>742 rows × 888 columns</p>\n",
       "</div>"
      ],
      "text/plain": [
       "user_id                                             254     2276    2766    \\\n",
       "title                                                                        \n",
       "1984                                                   9.0     NaN     NaN   \n",
       "1st to Die: A Novel                                    NaN     NaN     NaN   \n",
       "2nd Chance                                             NaN    10.0     NaN   \n",
       "4 Blondes                                              NaN     NaN     NaN   \n",
       "84 Charing Cross Road                                  NaN     NaN     NaN   \n",
       "...                                                    ...     ...     ...   \n",
       "Year of Wonders                                        NaN     NaN     NaN   \n",
       "You Belong To Me                                       NaN     NaN     NaN   \n",
       "Zen and the Art of Motorcycle Maintenance: An I...     NaN     NaN     NaN   \n",
       "Zoya                                                   NaN     NaN     NaN   \n",
       "\\O\\\" Is for Outlaw\"                                    NaN     NaN     NaN   \n",
       "\n",
       "user_id                                             2977    3363    3757    \\\n",
       "title                                                                        \n",
       "1984                                                   NaN     NaN     NaN   \n",
       "1st to Die: A Novel                                    NaN     NaN     NaN   \n",
       "2nd Chance                                             NaN     NaN     NaN   \n",
       "4 Blondes                                              NaN     NaN     NaN   \n",
       "84 Charing Cross Road                                  NaN     NaN     NaN   \n",
       "...                                                    ...     ...     ...   \n",
       "Year of Wonders                                        7.0     NaN     NaN   \n",
       "You Belong To Me                                       NaN     NaN     NaN   \n",
       "Zen and the Art of Motorcycle Maintenance: An I...     NaN     0.0     NaN   \n",
       "Zoya                                                   NaN     NaN     NaN   \n",
       "\\O\\\" Is for Outlaw\"                                    NaN     NaN     NaN   \n",
       "\n",
       "user_id                                             4017    4385    6242    \\\n",
       "title                                                                        \n",
       "1984                                                   NaN     NaN     NaN   \n",
       "1st to Die: A Novel                                    NaN     NaN     NaN   \n",
       "2nd Chance                                             NaN     NaN     NaN   \n",
       "4 Blondes                                              NaN     NaN     NaN   \n",
       "84 Charing Cross Road                                  NaN     NaN     NaN   \n",
       "...                                                    ...     ...     ...   \n",
       "Year of Wonders                                        NaN     NaN     7.0   \n",
       "You Belong To Me                                       NaN     NaN     NaN   \n",
       "Zen and the Art of Motorcycle Maintenance: An I...     NaN     NaN     NaN   \n",
       "Zoya                                                   NaN     NaN     NaN   \n",
       "\\O\\\" Is for Outlaw\"                                    NaN     NaN     NaN   \n",
       "\n",
       "user_id                                             6251    ...  274004  \\\n",
       "title                                                       ...           \n",
       "1984                                                   NaN  ...     NaN   \n",
       "1st to Die: A Novel                                    NaN  ...     NaN   \n",
       "2nd Chance                                             NaN  ...     NaN   \n",
       "4 Blondes                                              0.0  ...     NaN   \n",
       "84 Charing Cross Road                                  NaN  ...     NaN   \n",
       "...                                                    ...  ...     ...   \n",
       "Year of Wonders                                        NaN  ...     NaN   \n",
       "You Belong To Me                                       NaN  ...     NaN   \n",
       "Zen and the Art of Motorcycle Maintenance: An I...     0.0  ...     NaN   \n",
       "Zoya                                                   NaN  ...     NaN   \n",
       "\\O\\\" Is for Outlaw\"                                    NaN  ...     NaN   \n",
       "\n",
       "user_id                                             274061  274301  274308  \\\n",
       "title                                                                        \n",
       "1984                                                   NaN     NaN     NaN   \n",
       "1st to Die: A Novel                                    NaN     NaN     NaN   \n",
       "2nd Chance                                             NaN     NaN     0.0   \n",
       "4 Blondes                                              NaN     NaN     NaN   \n",
       "84 Charing Cross Road                                  NaN     NaN     NaN   \n",
       "...                                                    ...     ...     ...   \n",
       "Year of Wonders                                        NaN     NaN     NaN   \n",
       "You Belong To Me                                       NaN     NaN     NaN   \n",
       "Zen and the Art of Motorcycle Maintenance: An I...     NaN     NaN     NaN   \n",
       "Zoya                                                   NaN     NaN     NaN   \n",
       "\\O\\\" Is for Outlaw\"                                    NaN     8.0     NaN   \n",
       "\n",
       "user_id                                             274808  275970  277427  \\\n",
       "title                                                                        \n",
       "1984                                                   NaN     0.0     NaN   \n",
       "1st to Die: A Novel                                    NaN     NaN     NaN   \n",
       "2nd Chance                                             NaN     NaN     NaN   \n",
       "4 Blondes                                              NaN     NaN     NaN   \n",
       "84 Charing Cross Road                                  NaN    10.0     NaN   \n",
       "...                                                    ...     ...     ...   \n",
       "Year of Wonders                                        NaN     0.0     NaN   \n",
       "You Belong To Me                                       NaN     NaN     NaN   \n",
       "Zen and the Art of Motorcycle Maintenance: An I...     NaN     0.0     NaN   \n",
       "Zoya                                                   NaN     NaN     NaN   \n",
       "\\O\\\" Is for Outlaw\"                                    NaN     NaN     NaN   \n",
       "\n",
       "user_id                                             277478  277639  278418  \n",
       "title                                                                       \n",
       "1984                                                   NaN     NaN     NaN  \n",
       "1st to Die: A Novel                                    NaN     NaN     NaN  \n",
       "2nd Chance                                             NaN     0.0     NaN  \n",
       "4 Blondes                                              NaN     NaN     NaN  \n",
       "84 Charing Cross Road                                  NaN     NaN     NaN  \n",
       "...                                                    ...     ...     ...  \n",
       "Year of Wonders                                        NaN     NaN     NaN  \n",
       "You Belong To Me                                       NaN     NaN     NaN  \n",
       "Zen and the Art of Motorcycle Maintenance: An I...     NaN     NaN     NaN  \n",
       "Zoya                                                   NaN     NaN     NaN  \n",
       "\\O\\\" Is for Outlaw\"                                    NaN     NaN     NaN  \n",
       "\n",
       "[742 rows x 888 columns]"
      ]
     },
     "execution_count": 166,
     "metadata": {},
     "output_type": "execute_result"
    }
   ],
   "source": [
    "books_pivot"
   ]
  },
  {
   "cell_type": "code",
   "execution_count": 167,
   "id": "42ae4321",
   "metadata": {},
   "outputs": [
    {
     "data": {
      "text/plain": [
       "(742, 888)"
      ]
     },
     "execution_count": 167,
     "metadata": {},
     "output_type": "execute_result"
    }
   ],
   "source": [
    "books_pivot.shape"
   ]
  },
  {
   "cell_type": "code",
   "execution_count": 168,
   "id": "f2ffa4c8",
   "metadata": {},
   "outputs": [],
   "source": [
    "books_pivot.fillna(0, inplace=True)"
   ]
  },
  {
   "cell_type": "code",
   "execution_count": 169,
   "id": "cfe04ccb",
   "metadata": {},
   "outputs": [
    {
     "data": {
      "text/html": [
       "<div>\n",
       "<style scoped>\n",
       "    .dataframe tbody tr th:only-of-type {\n",
       "        vertical-align: middle;\n",
       "    }\n",
       "\n",
       "    .dataframe tbody tr th {\n",
       "        vertical-align: top;\n",
       "    }\n",
       "\n",
       "    .dataframe thead th {\n",
       "        text-align: right;\n",
       "    }\n",
       "</style>\n",
       "<table border=\"1\" class=\"dataframe\">\n",
       "  <thead>\n",
       "    <tr style=\"text-align: right;\">\n",
       "      <th>user_id</th>\n",
       "      <th>254</th>\n",
       "      <th>2276</th>\n",
       "      <th>2766</th>\n",
       "      <th>2977</th>\n",
       "      <th>3363</th>\n",
       "      <th>3757</th>\n",
       "      <th>4017</th>\n",
       "      <th>4385</th>\n",
       "      <th>6242</th>\n",
       "      <th>6251</th>\n",
       "      <th>...</th>\n",
       "      <th>274004</th>\n",
       "      <th>274061</th>\n",
       "      <th>274301</th>\n",
       "      <th>274308</th>\n",
       "      <th>274808</th>\n",
       "      <th>275970</th>\n",
       "      <th>277427</th>\n",
       "      <th>277478</th>\n",
       "      <th>277639</th>\n",
       "      <th>278418</th>\n",
       "    </tr>\n",
       "    <tr>\n",
       "      <th>title</th>\n",
       "      <th></th>\n",
       "      <th></th>\n",
       "      <th></th>\n",
       "      <th></th>\n",
       "      <th></th>\n",
       "      <th></th>\n",
       "      <th></th>\n",
       "      <th></th>\n",
       "      <th></th>\n",
       "      <th></th>\n",
       "      <th></th>\n",
       "      <th></th>\n",
       "      <th></th>\n",
       "      <th></th>\n",
       "      <th></th>\n",
       "      <th></th>\n",
       "      <th></th>\n",
       "      <th></th>\n",
       "      <th></th>\n",
       "      <th></th>\n",
       "      <th></th>\n",
       "    </tr>\n",
       "  </thead>\n",
       "  <tbody>\n",
       "    <tr>\n",
       "      <th>1984</th>\n",
       "      <td>9.0</td>\n",
       "      <td>0.0</td>\n",
       "      <td>0.0</td>\n",
       "      <td>0.0</td>\n",
       "      <td>0.0</td>\n",
       "      <td>0.0</td>\n",
       "      <td>0.0</td>\n",
       "      <td>0.0</td>\n",
       "      <td>0.0</td>\n",
       "      <td>0.0</td>\n",
       "      <td>...</td>\n",
       "      <td>0.0</td>\n",
       "      <td>0.0</td>\n",
       "      <td>0.0</td>\n",
       "      <td>0.0</td>\n",
       "      <td>0.0</td>\n",
       "      <td>0.0</td>\n",
       "      <td>0.0</td>\n",
       "      <td>0.0</td>\n",
       "      <td>0.0</td>\n",
       "      <td>0.0</td>\n",
       "    </tr>\n",
       "    <tr>\n",
       "      <th>1st to Die: A Novel</th>\n",
       "      <td>0.0</td>\n",
       "      <td>0.0</td>\n",
       "      <td>0.0</td>\n",
       "      <td>0.0</td>\n",
       "      <td>0.0</td>\n",
       "      <td>0.0</td>\n",
       "      <td>0.0</td>\n",
       "      <td>0.0</td>\n",
       "      <td>0.0</td>\n",
       "      <td>0.0</td>\n",
       "      <td>...</td>\n",
       "      <td>0.0</td>\n",
       "      <td>0.0</td>\n",
       "      <td>0.0</td>\n",
       "      <td>0.0</td>\n",
       "      <td>0.0</td>\n",
       "      <td>0.0</td>\n",
       "      <td>0.0</td>\n",
       "      <td>0.0</td>\n",
       "      <td>0.0</td>\n",
       "      <td>0.0</td>\n",
       "    </tr>\n",
       "    <tr>\n",
       "      <th>2nd Chance</th>\n",
       "      <td>0.0</td>\n",
       "      <td>10.0</td>\n",
       "      <td>0.0</td>\n",
       "      <td>0.0</td>\n",
       "      <td>0.0</td>\n",
       "      <td>0.0</td>\n",
       "      <td>0.0</td>\n",
       "      <td>0.0</td>\n",
       "      <td>0.0</td>\n",
       "      <td>0.0</td>\n",
       "      <td>...</td>\n",
       "      <td>0.0</td>\n",
       "      <td>0.0</td>\n",
       "      <td>0.0</td>\n",
       "      <td>0.0</td>\n",
       "      <td>0.0</td>\n",
       "      <td>0.0</td>\n",
       "      <td>0.0</td>\n",
       "      <td>0.0</td>\n",
       "      <td>0.0</td>\n",
       "      <td>0.0</td>\n",
       "    </tr>\n",
       "    <tr>\n",
       "      <th>4 Blondes</th>\n",
       "      <td>0.0</td>\n",
       "      <td>0.0</td>\n",
       "      <td>0.0</td>\n",
       "      <td>0.0</td>\n",
       "      <td>0.0</td>\n",
       "      <td>0.0</td>\n",
       "      <td>0.0</td>\n",
       "      <td>0.0</td>\n",
       "      <td>0.0</td>\n",
       "      <td>0.0</td>\n",
       "      <td>...</td>\n",
       "      <td>0.0</td>\n",
       "      <td>0.0</td>\n",
       "      <td>0.0</td>\n",
       "      <td>0.0</td>\n",
       "      <td>0.0</td>\n",
       "      <td>0.0</td>\n",
       "      <td>0.0</td>\n",
       "      <td>0.0</td>\n",
       "      <td>0.0</td>\n",
       "      <td>0.0</td>\n",
       "    </tr>\n",
       "    <tr>\n",
       "      <th>84 Charing Cross Road</th>\n",
       "      <td>0.0</td>\n",
       "      <td>0.0</td>\n",
       "      <td>0.0</td>\n",
       "      <td>0.0</td>\n",
       "      <td>0.0</td>\n",
       "      <td>0.0</td>\n",
       "      <td>0.0</td>\n",
       "      <td>0.0</td>\n",
       "      <td>0.0</td>\n",
       "      <td>0.0</td>\n",
       "      <td>...</td>\n",
       "      <td>0.0</td>\n",
       "      <td>0.0</td>\n",
       "      <td>0.0</td>\n",
       "      <td>0.0</td>\n",
       "      <td>0.0</td>\n",
       "      <td>10.0</td>\n",
       "      <td>0.0</td>\n",
       "      <td>0.0</td>\n",
       "      <td>0.0</td>\n",
       "      <td>0.0</td>\n",
       "    </tr>\n",
       "    <tr>\n",
       "      <th>...</th>\n",
       "      <td>...</td>\n",
       "      <td>...</td>\n",
       "      <td>...</td>\n",
       "      <td>...</td>\n",
       "      <td>...</td>\n",
       "      <td>...</td>\n",
       "      <td>...</td>\n",
       "      <td>...</td>\n",
       "      <td>...</td>\n",
       "      <td>...</td>\n",
       "      <td>...</td>\n",
       "      <td>...</td>\n",
       "      <td>...</td>\n",
       "      <td>...</td>\n",
       "      <td>...</td>\n",
       "      <td>...</td>\n",
       "      <td>...</td>\n",
       "      <td>...</td>\n",
       "      <td>...</td>\n",
       "      <td>...</td>\n",
       "      <td>...</td>\n",
       "    </tr>\n",
       "    <tr>\n",
       "      <th>Year of Wonders</th>\n",
       "      <td>0.0</td>\n",
       "      <td>0.0</td>\n",
       "      <td>0.0</td>\n",
       "      <td>7.0</td>\n",
       "      <td>0.0</td>\n",
       "      <td>0.0</td>\n",
       "      <td>0.0</td>\n",
       "      <td>0.0</td>\n",
       "      <td>7.0</td>\n",
       "      <td>0.0</td>\n",
       "      <td>...</td>\n",
       "      <td>0.0</td>\n",
       "      <td>0.0</td>\n",
       "      <td>0.0</td>\n",
       "      <td>0.0</td>\n",
       "      <td>0.0</td>\n",
       "      <td>0.0</td>\n",
       "      <td>0.0</td>\n",
       "      <td>0.0</td>\n",
       "      <td>0.0</td>\n",
       "      <td>0.0</td>\n",
       "    </tr>\n",
       "    <tr>\n",
       "      <th>You Belong To Me</th>\n",
       "      <td>0.0</td>\n",
       "      <td>0.0</td>\n",
       "      <td>0.0</td>\n",
       "      <td>0.0</td>\n",
       "      <td>0.0</td>\n",
       "      <td>0.0</td>\n",
       "      <td>0.0</td>\n",
       "      <td>0.0</td>\n",
       "      <td>0.0</td>\n",
       "      <td>0.0</td>\n",
       "      <td>...</td>\n",
       "      <td>0.0</td>\n",
       "      <td>0.0</td>\n",
       "      <td>0.0</td>\n",
       "      <td>0.0</td>\n",
       "      <td>0.0</td>\n",
       "      <td>0.0</td>\n",
       "      <td>0.0</td>\n",
       "      <td>0.0</td>\n",
       "      <td>0.0</td>\n",
       "      <td>0.0</td>\n",
       "    </tr>\n",
       "    <tr>\n",
       "      <th>Zen and the Art of Motorcycle Maintenance: An Inquiry into Values</th>\n",
       "      <td>0.0</td>\n",
       "      <td>0.0</td>\n",
       "      <td>0.0</td>\n",
       "      <td>0.0</td>\n",
       "      <td>0.0</td>\n",
       "      <td>0.0</td>\n",
       "      <td>0.0</td>\n",
       "      <td>0.0</td>\n",
       "      <td>0.0</td>\n",
       "      <td>0.0</td>\n",
       "      <td>...</td>\n",
       "      <td>0.0</td>\n",
       "      <td>0.0</td>\n",
       "      <td>0.0</td>\n",
       "      <td>0.0</td>\n",
       "      <td>0.0</td>\n",
       "      <td>0.0</td>\n",
       "      <td>0.0</td>\n",
       "      <td>0.0</td>\n",
       "      <td>0.0</td>\n",
       "      <td>0.0</td>\n",
       "    </tr>\n",
       "    <tr>\n",
       "      <th>Zoya</th>\n",
       "      <td>0.0</td>\n",
       "      <td>0.0</td>\n",
       "      <td>0.0</td>\n",
       "      <td>0.0</td>\n",
       "      <td>0.0</td>\n",
       "      <td>0.0</td>\n",
       "      <td>0.0</td>\n",
       "      <td>0.0</td>\n",
       "      <td>0.0</td>\n",
       "      <td>0.0</td>\n",
       "      <td>...</td>\n",
       "      <td>0.0</td>\n",
       "      <td>0.0</td>\n",
       "      <td>0.0</td>\n",
       "      <td>0.0</td>\n",
       "      <td>0.0</td>\n",
       "      <td>0.0</td>\n",
       "      <td>0.0</td>\n",
       "      <td>0.0</td>\n",
       "      <td>0.0</td>\n",
       "      <td>0.0</td>\n",
       "    </tr>\n",
       "    <tr>\n",
       "      <th>\\O\\\" Is for Outlaw\"</th>\n",
       "      <td>0.0</td>\n",
       "      <td>0.0</td>\n",
       "      <td>0.0</td>\n",
       "      <td>0.0</td>\n",
       "      <td>0.0</td>\n",
       "      <td>0.0</td>\n",
       "      <td>0.0</td>\n",
       "      <td>0.0</td>\n",
       "      <td>0.0</td>\n",
       "      <td>0.0</td>\n",
       "      <td>...</td>\n",
       "      <td>0.0</td>\n",
       "      <td>0.0</td>\n",
       "      <td>8.0</td>\n",
       "      <td>0.0</td>\n",
       "      <td>0.0</td>\n",
       "      <td>0.0</td>\n",
       "      <td>0.0</td>\n",
       "      <td>0.0</td>\n",
       "      <td>0.0</td>\n",
       "      <td>0.0</td>\n",
       "    </tr>\n",
       "  </tbody>\n",
       "</table>\n",
       "<p>742 rows × 888 columns</p>\n",
       "</div>"
      ],
      "text/plain": [
       "user_id                                             254     2276    2766    \\\n",
       "title                                                                        \n",
       "1984                                                   9.0     0.0     0.0   \n",
       "1st to Die: A Novel                                    0.0     0.0     0.0   \n",
       "2nd Chance                                             0.0    10.0     0.0   \n",
       "4 Blondes                                              0.0     0.0     0.0   \n",
       "84 Charing Cross Road                                  0.0     0.0     0.0   \n",
       "...                                                    ...     ...     ...   \n",
       "Year of Wonders                                        0.0     0.0     0.0   \n",
       "You Belong To Me                                       0.0     0.0     0.0   \n",
       "Zen and the Art of Motorcycle Maintenance: An I...     0.0     0.0     0.0   \n",
       "Zoya                                                   0.0     0.0     0.0   \n",
       "\\O\\\" Is for Outlaw\"                                    0.0     0.0     0.0   \n",
       "\n",
       "user_id                                             2977    3363    3757    \\\n",
       "title                                                                        \n",
       "1984                                                   0.0     0.0     0.0   \n",
       "1st to Die: A Novel                                    0.0     0.0     0.0   \n",
       "2nd Chance                                             0.0     0.0     0.0   \n",
       "4 Blondes                                              0.0     0.0     0.0   \n",
       "84 Charing Cross Road                                  0.0     0.0     0.0   \n",
       "...                                                    ...     ...     ...   \n",
       "Year of Wonders                                        7.0     0.0     0.0   \n",
       "You Belong To Me                                       0.0     0.0     0.0   \n",
       "Zen and the Art of Motorcycle Maintenance: An I...     0.0     0.0     0.0   \n",
       "Zoya                                                   0.0     0.0     0.0   \n",
       "\\O\\\" Is for Outlaw\"                                    0.0     0.0     0.0   \n",
       "\n",
       "user_id                                             4017    4385    6242    \\\n",
       "title                                                                        \n",
       "1984                                                   0.0     0.0     0.0   \n",
       "1st to Die: A Novel                                    0.0     0.0     0.0   \n",
       "2nd Chance                                             0.0     0.0     0.0   \n",
       "4 Blondes                                              0.0     0.0     0.0   \n",
       "84 Charing Cross Road                                  0.0     0.0     0.0   \n",
       "...                                                    ...     ...     ...   \n",
       "Year of Wonders                                        0.0     0.0     7.0   \n",
       "You Belong To Me                                       0.0     0.0     0.0   \n",
       "Zen and the Art of Motorcycle Maintenance: An I...     0.0     0.0     0.0   \n",
       "Zoya                                                   0.0     0.0     0.0   \n",
       "\\O\\\" Is for Outlaw\"                                    0.0     0.0     0.0   \n",
       "\n",
       "user_id                                             6251    ...  274004  \\\n",
       "title                                                       ...           \n",
       "1984                                                   0.0  ...     0.0   \n",
       "1st to Die: A Novel                                    0.0  ...     0.0   \n",
       "2nd Chance                                             0.0  ...     0.0   \n",
       "4 Blondes                                              0.0  ...     0.0   \n",
       "84 Charing Cross Road                                  0.0  ...     0.0   \n",
       "...                                                    ...  ...     ...   \n",
       "Year of Wonders                                        0.0  ...     0.0   \n",
       "You Belong To Me                                       0.0  ...     0.0   \n",
       "Zen and the Art of Motorcycle Maintenance: An I...     0.0  ...     0.0   \n",
       "Zoya                                                   0.0  ...     0.0   \n",
       "\\O\\\" Is for Outlaw\"                                    0.0  ...     0.0   \n",
       "\n",
       "user_id                                             274061  274301  274308  \\\n",
       "title                                                                        \n",
       "1984                                                   0.0     0.0     0.0   \n",
       "1st to Die: A Novel                                    0.0     0.0     0.0   \n",
       "2nd Chance                                             0.0     0.0     0.0   \n",
       "4 Blondes                                              0.0     0.0     0.0   \n",
       "84 Charing Cross Road                                  0.0     0.0     0.0   \n",
       "...                                                    ...     ...     ...   \n",
       "Year of Wonders                                        0.0     0.0     0.0   \n",
       "You Belong To Me                                       0.0     0.0     0.0   \n",
       "Zen and the Art of Motorcycle Maintenance: An I...     0.0     0.0     0.0   \n",
       "Zoya                                                   0.0     0.0     0.0   \n",
       "\\O\\\" Is for Outlaw\"                                    0.0     8.0     0.0   \n",
       "\n",
       "user_id                                             274808  275970  277427  \\\n",
       "title                                                                        \n",
       "1984                                                   0.0     0.0     0.0   \n",
       "1st to Die: A Novel                                    0.0     0.0     0.0   \n",
       "2nd Chance                                             0.0     0.0     0.0   \n",
       "4 Blondes                                              0.0     0.0     0.0   \n",
       "84 Charing Cross Road                                  0.0    10.0     0.0   \n",
       "...                                                    ...     ...     ...   \n",
       "Year of Wonders                                        0.0     0.0     0.0   \n",
       "You Belong To Me                                       0.0     0.0     0.0   \n",
       "Zen and the Art of Motorcycle Maintenance: An I...     0.0     0.0     0.0   \n",
       "Zoya                                                   0.0     0.0     0.0   \n",
       "\\O\\\" Is for Outlaw\"                                    0.0     0.0     0.0   \n",
       "\n",
       "user_id                                             277478  277639  278418  \n",
       "title                                                                       \n",
       "1984                                                   0.0     0.0     0.0  \n",
       "1st to Die: A Novel                                    0.0     0.0     0.0  \n",
       "2nd Chance                                             0.0     0.0     0.0  \n",
       "4 Blondes                                              0.0     0.0     0.0  \n",
       "84 Charing Cross Road                                  0.0     0.0     0.0  \n",
       "...                                                    ...     ...     ...  \n",
       "Year of Wonders                                        0.0     0.0     0.0  \n",
       "You Belong To Me                                       0.0     0.0     0.0  \n",
       "Zen and the Art of Motorcycle Maintenance: An I...     0.0     0.0     0.0  \n",
       "Zoya                                                   0.0     0.0     0.0  \n",
       "\\O\\\" Is for Outlaw\"                                    0.0     0.0     0.0  \n",
       "\n",
       "[742 rows x 888 columns]"
      ]
     },
     "execution_count": 169,
     "metadata": {},
     "output_type": "execute_result"
    }
   ],
   "source": [
    "books_pivot"
   ]
  },
  {
   "cell_type": "code",
   "execution_count": 170,
   "id": "97612711",
   "metadata": {},
   "outputs": [],
   "source": [
    "# Compressed Sparse Row matrix\n",
    "from scipy.sparse import csr_matrix"
   ]
  },
  {
   "cell_type": "code",
   "execution_count": 171,
   "id": "5131e423",
   "metadata": {},
   "outputs": [],
   "source": [
    "books_sparse = csr_matrix(books_pivot)"
   ]
  },
  {
   "cell_type": "code",
   "execution_count": 172,
   "id": "4100d141",
   "metadata": {},
   "outputs": [
    {
     "data": {
      "text/plain": [
       "<742x888 sparse matrix of type '<class 'numpy.float64'>'\n",
       "\twith 14942 stored elements in Compressed Sparse Row format>"
      ]
     },
     "execution_count": 172,
     "metadata": {},
     "output_type": "execute_result"
    }
   ],
   "source": [
    "books_sparse"
   ]
  },
  {
   "cell_type": "code",
   "execution_count": 173,
   "id": "df793aef",
   "metadata": {},
   "outputs": [],
   "source": [
    "from sklearn.neighbors import NearestNeighbors"
   ]
  },
  {
   "cell_type": "code",
   "execution_count": 174,
   "id": "d6e6972c",
   "metadata": {},
   "outputs": [],
   "source": [
    "model = NearestNeighbors(algorithm='brute')"
   ]
  },
  {
   "cell_type": "code",
   "execution_count": 175,
   "id": "af537f29",
   "metadata": {},
   "outputs": [
    {
     "data": {
      "text/plain": [
       "NearestNeighbors(algorithm='brute')"
      ]
     },
     "execution_count": 175,
     "metadata": {},
     "output_type": "execute_result"
    }
   ],
   "source": [
    "model.fit(books_sparse)"
   ]
  },
  {
   "cell_type": "code",
   "execution_count": 176,
   "id": "879a8ec1",
   "metadata": {},
   "outputs": [],
   "source": [
    "distance, suggestion = model.kneighbors(books_pivot.iloc[237,:].values.reshape(1,-1), n_neighbors=6)"
   ]
  },
  {
   "cell_type": "code",
   "execution_count": 177,
   "id": "3a255285",
   "metadata": {},
   "outputs": [
    {
     "data": {
      "text/plain": [
       "array([[ 0.        , 68.78953409, 69.5413546 , 72.64296249, 76.83098333,\n",
       "        77.28518616]])"
      ]
     },
     "execution_count": 177,
     "metadata": {},
     "output_type": "execute_result"
    }
   ],
   "source": [
    "distance"
   ]
  },
  {
   "cell_type": "code",
   "execution_count": 178,
   "id": "62d5b50c",
   "metadata": {},
   "outputs": [
    {
     "data": {
      "text/plain": [
       "array([[237, 240, 238, 241, 184, 536]], dtype=int64)"
      ]
     },
     "execution_count": 178,
     "metadata": {},
     "output_type": "execute_result"
    }
   ],
   "source": [
    "suggestion"
   ]
  },
  {
   "cell_type": "code",
   "execution_count": 179,
   "id": "5715f742",
   "metadata": {},
   "outputs": [
    {
     "name": "stdout",
     "output_type": "stream",
     "text": [
      "Index(['Harry Potter and the Chamber of Secrets (Book 2)',\n",
      "       'Harry Potter and the Prisoner of Azkaban (Book 3)',\n",
      "       'Harry Potter and the Goblet of Fire (Book 4)',\n",
      "       'Harry Potter and the Sorcerer's Stone (Book 1)', 'Exclusive',\n",
      "       'The Cradle Will Fall'],\n",
      "      dtype='object', name='title')\n"
     ]
    }
   ],
   "source": [
    "for i in range(len(suggestion)):\n",
    "    print(books_pivot.index[suggestion[i]])"
   ]
  },
  {
   "cell_type": "code",
   "execution_count": 180,
   "id": "3d207151",
   "metadata": {},
   "outputs": [
    {
     "data": {
      "text/plain": [
       "Index(['1984', '1st to Die: A Novel', '2nd Chance', '4 Blondes',\n",
       "       '84 Charing Cross Road', 'A Bend in the Road', 'A Case of Need',\n",
       "       'A Child Called \\It\\\": One Child's Courage to Survive\"',\n",
       "       'A Civil Action', 'A Cry In The Night',\n",
       "       ...\n",
       "       'Winter Solstice', 'Wish You Well', 'Without Remorse',\n",
       "       'Wizard and Glass (The Dark Tower, Book 4)', 'Wuthering Heights',\n",
       "       'Year of Wonders', 'You Belong To Me',\n",
       "       'Zen and the Art of Motorcycle Maintenance: An Inquiry into Values',\n",
       "       'Zoya', '\\O\\\" Is for Outlaw\"'],\n",
       "      dtype='object', name='title', length=742)"
      ]
     },
     "execution_count": 180,
     "metadata": {},
     "output_type": "execute_result"
    }
   ],
   "source": [
    "books_pivot.index"
   ]
  },
  {
   "cell_type": "code",
   "execution_count": 181,
   "id": "761e73ef",
   "metadata": {},
   "outputs": [],
   "source": [
    "book_name = books_pivot.index"
   ]
  },
  {
   "cell_type": "code",
   "execution_count": 182,
   "id": "78c8d286",
   "metadata": {},
   "outputs": [],
   "source": [
    "def recommendation_book(book_name):\n",
    "    book_id = np.where(books_pivot.index == book_name)[0][0]\n",
    "    distance, suggestion = model.kneighbors(books_pivot.iloc[book_id,:].values.reshape(1,-1), n_neighbors=11)# recommending 10 books\n",
    "    \n",
    "    for i in range(len(suggestion)):\n",
    "        books = books_pivot.index[suggestion[i]]\n",
    "        for j in books:\n",
    "            print(j)"
   ]
  },
  {
   "cell_type": "code",
   "execution_count": 183,
   "id": "e708cabc",
   "metadata": {},
   "outputs": [
    {
     "name": "stdout",
     "output_type": "stream",
     "text": [
      "Harry Potter and the Chamber of Secrets (Book 2)\n",
      "Harry Potter and the Prisoner of Azkaban (Book 3)\n",
      "Harry Potter and the Goblet of Fire (Book 4)\n",
      "Harry Potter and the Sorcerer's Stone (Book 1)\n",
      "Exclusive\n",
      "The Cradle Will Fall\n",
      "Jacob Have I Loved\n",
      "The Witness\n",
      "Tom Clancy's Op-Center (Tom Clancy's Op Center (Paperback))\n",
      "Toxin\n",
      "The Long Road Home\n"
     ]
    }
   ],
   "source": [
    "# testing our recomendation based on selected book\n",
    "book = 'Harry Potter and the Chamber of Secrets (Book 2)'\n",
    "recommendation_book(book)"
   ]
  },
  {
   "cell_type": "markdown",
   "id": "b9569b62",
   "metadata": {},
   "source": [
    "# All Authors Books"
   ]
  },
  {
   "cell_type": "code",
   "execution_count": 184,
   "id": "b56d19c7",
   "metadata": {},
   "outputs": [
    {
     "data": {
      "text/plain": [
       "Agatha Christie         632\n",
       "William Shakespeare     567\n",
       "Stephen King            524\n",
       "Ann M. Martin           423\n",
       "Carolyn Keene           373\n",
       "                       ... \n",
       "R. Gelman                 1\n",
       "Ellery R. Sheets          1\n",
       "Artiste C. Arthur         1\n",
       "Emily Pearl Kingsley      1\n",
       "Christopher  Biffle       1\n",
       "Name: author, Length: 102022, dtype: int64"
      ]
     },
     "execution_count": 184,
     "metadata": {},
     "output_type": "execute_result"
    }
   ],
   "source": [
    "books.author.value_counts()"
   ]
  },
  {
   "cell_type": "code",
   "execution_count": 185,
   "id": "312852d7",
   "metadata": {},
   "outputs": [
    {
     "data": {
      "text/plain": [
       "Text(0.5, 1.0, 'Number Of books Written by Authors')"
      ]
     },
     "execution_count": 185,
     "metadata": {},
     "output_type": "execute_result"
    },
    {
     "data": {
      "image/png": "[encoded data removed]",
      "text/plain": [
       "<Figure size 1500x800 with 1 Axes>"
      ]
     },
     "metadata": {},
     "output_type": "display_data"
    }
   ],
   "source": [
    "plt.figure(figsize=(15,8))\n",
    "sns.countplot(data = books, y = 'author', order = pd.value_counts(books['author']).iloc[:10].index, color='goldenrod')\n",
    "plt.title('Number Of books Written by Authors')"
   ]
  },
  {
   "cell_type": "code",
   "execution_count": 186,
   "id": "21639f3d",
   "metadata": {},
   "outputs": [
    {
     "data": {
      "text/plain": [
       "Index(['Agatha Christie', 'William Shakespeare', 'Stephen King',\n",
       "       'Ann M. Martin', 'Carolyn Keene', 'Francine Pascal', 'Isaac Asimov',\n",
       "       'Nora Roberts', 'Barbara Cartland', 'Charles Dickens',\n",
       "       ...\n",
       "       'Susan J. Harrison', 'Publishing Company Western', 'George Hendrick',\n",
       "       'Linda Jackson', 'Jim Durk', 'R. Gelman', 'Ellery R. Sheets',\n",
       "       'Artiste C. Arthur', 'Emily Pearl Kingsley', 'Christopher  Biffle'],\n",
       "      dtype='object', length=102022)"
      ]
     },
     "execution_count": 186,
     "metadata": {},
     "output_type": "execute_result"
    }
   ],
   "source": [
    "authors = pd.DataFrame(pd.value_counts(books['author']))\n",
    "authors_name = authors.index\n",
    "authors_name"
   ]
  },
  {
   "cell_type": "code",
   "execution_count": 187,
   "id": "1669abfc",
   "metadata": {},
   "outputs": [
    {
     "data": {
      "text/plain": [
       "\"\\n# Create column Rating average\\nratings_explicit['Avg_Rating'] = ratings_explicit.groupby('ISBN')['rating'].transform('mean')\\n\\n\""
      ]
     },
     "execution_count": 187,
     "metadata": {},
     "output_type": "execute_result"
    }
   ],
   "source": [
    "'''\n",
    "# Create column Rating average\n",
    "ratings_explicit['Avg_Rating'] = ratings_explicit.groupby('ISBN')['rating'].transform('mean')\n",
    "\n",
    "'''"
   ]
  },
  {
   "cell_type": "code",
   "execution_count": 188,
   "id": "f7e8cb75",
   "metadata": {},
   "outputs": [
    {
     "data": {
      "text/plain": [
       "Index(['ISBN', 'title', 'author', 'year', 'publisher', 'img_url'], dtype='object')"
      ]
     },
     "execution_count": 188,
     "metadata": {},
     "output_type": "execute_result"
    }
   ],
   "source": [
    "books.columns"
   ]
  },
  {
   "cell_type": "code",
   "execution_count": 189,
   "id": "7a6ac85b",
   "metadata": {},
   "outputs": [
    {
     "data": {
      "text/plain": [
       "Index(['user_id', 'ISBN', 'rating'], dtype='object')"
      ]
     },
     "execution_count": 189,
     "metadata": {},
     "output_type": "execute_result"
    }
   ],
   "source": [
    "ratings.columns"
   ]
  },
  {
   "cell_type": "code",
   "execution_count": 190,
   "id": "7177adc4",
   "metadata": {},
   "outputs": [
    {
     "data": {
      "text/plain": [
       "(271357, 6)"
      ]
     },
     "execution_count": 190,
     "metadata": {},
     "output_type": "execute_result"
    }
   ],
   "source": [
    "books.shape"
   ]
  },
  {
   "cell_type": "code",
   "execution_count": 191,
   "id": "6531fd1e",
   "metadata": {},
   "outputs": [
    {
     "data": {
      "text/plain": [
       "(526356, 3)"
      ]
     },
     "execution_count": 191,
     "metadata": {},
     "output_type": "execute_result"
    }
   ],
   "source": [
    "ratings.shape"
   ]
  },
  {
   "cell_type": "code",
   "execution_count": 192,
   "id": "9ee425f8",
   "metadata": {},
   "outputs": [],
   "source": [
    "books_with_ratings = books.merge(ratings,on='ISBN')"
   ]
  },
  {
   "cell_type": "code",
   "execution_count": 193,
   "id": "2abddfd0",
   "metadata": {},
   "outputs": [
    {
     "data": {
      "text/plain": [
       "(487668, 8)"
      ]
     },
     "execution_count": 193,
     "metadata": {},
     "output_type": "execute_result"
    }
   ],
   "source": [
    "books_with_ratings.shape"
   ]
  },
  {
   "cell_type": "code",
   "execution_count": 194,
   "id": "e5a8eb2e",
   "metadata": {},
   "outputs": [
    {
     "data": {
      "text/html": [
       "<div>\n",
       "<style scoped>\n",
       "    .dataframe tbody tr th:only-of-type {\n",
       "        vertical-align: middle;\n",
       "    }\n",
       "\n",
       "    .dataframe tbody tr th {\n",
       "        vertical-align: top;\n",
       "    }\n",
       "\n",
       "    .dataframe thead th {\n",
       "        text-align: right;\n",
       "    }\n",
       "</style>\n",
       "<table border=\"1\" class=\"dataframe\">\n",
       "  <thead>\n",
       "    <tr style=\"text-align: right;\">\n",
       "      <th></th>\n",
       "      <th>ISBN</th>\n",
       "      <th>title</th>\n",
       "      <th>author</th>\n",
       "      <th>year</th>\n",
       "      <th>publisher</th>\n",
       "      <th>img_url</th>\n",
       "      <th>user_id</th>\n",
       "      <th>rating</th>\n",
       "    </tr>\n",
       "  </thead>\n",
       "  <tbody>\n",
       "    <tr>\n",
       "      <th>391283</th>\n",
       "      <td>0345254538</td>\n",
       "      <td>Dict of Misinformation</td>\n",
       "      <td>Tom Burnam</td>\n",
       "      <td>1976.0</td>\n",
       "      <td>Ballantine Books</td>\n",
       "      <td>http://images.amazon.com/images/P/0345254538.0...</td>\n",
       "      <td>238541</td>\n",
       "      <td>7</td>\n",
       "    </tr>\n",
       "    <tr>\n",
       "      <th>248007</th>\n",
       "      <td>0673397092</td>\n",
       "      <td>New forces, old forces, and the future of worl...</td>\n",
       "      <td>Seyom Brown</td>\n",
       "      <td>1988.0</td>\n",
       "      <td>Scott, Foresman/Little Brown College Division,...</td>\n",
       "      <td>http://images.amazon.com/images/P/0673397092.0...</td>\n",
       "      <td>26544</td>\n",
       "      <td>0</td>\n",
       "    </tr>\n",
       "    <tr>\n",
       "      <th>138456</th>\n",
       "      <td>0449227545</td>\n",
       "      <td>The Hammer of Eden: A Novel</td>\n",
       "      <td>Ken Follett</td>\n",
       "      <td>1999.0</td>\n",
       "      <td>Fawcett Books</td>\n",
       "      <td>http://images.amazon.com/images/P/0449227545.0...</td>\n",
       "      <td>35859</td>\n",
       "      <td>0</td>\n",
       "    </tr>\n",
       "  </tbody>\n",
       "</table>\n",
       "</div>"
      ],
      "text/plain": [
       "              ISBN                                              title  \\\n",
       "391283  0345254538                             Dict of Misinformation   \n",
       "248007  0673397092  New forces, old forces, and the future of worl...   \n",
       "138456  0449227545                        The Hammer of Eden: A Novel   \n",
       "\n",
       "             author    year  \\\n",
       "391283   Tom Burnam  1976.0   \n",
       "248007  Seyom Brown  1988.0   \n",
       "138456  Ken Follett  1999.0   \n",
       "\n",
       "                                                publisher  \\\n",
       "391283                                   Ballantine Books   \n",
       "248007  Scott, Foresman/Little Brown College Division,...   \n",
       "138456                                      Fawcett Books   \n",
       "\n",
       "                                                  img_url  user_id  rating  \n",
       "391283  http://images.amazon.com/images/P/0345254538.0...   238541       7  \n",
       "248007  http://images.amazon.com/images/P/0673397092.0...    26544       0  \n",
       "138456  http://images.amazon.com/images/P/0449227545.0...    35859       0  "
      ]
     },
     "execution_count": 194,
     "metadata": {},
     "output_type": "execute_result"
    }
   ],
   "source": [
    "books_with_ratings.sample(3)"
   ]
  },
  {
   "cell_type": "code",
   "execution_count": 195,
   "id": "6e0c1841",
   "metadata": {},
   "outputs": [
    {
     "data": {
      "text/html": [
       "<div>\n",
       "<style scoped>\n",
       "    .dataframe tbody tr th:only-of-type {\n",
       "        vertical-align: middle;\n",
       "    }\n",
       "\n",
       "    .dataframe tbody tr th {\n",
       "        vertical-align: top;\n",
       "    }\n",
       "\n",
       "    .dataframe thead th {\n",
       "        text-align: right;\n",
       "    }\n",
       "</style>\n",
       "<table border=\"1\" class=\"dataframe\">\n",
       "  <thead>\n",
       "    <tr style=\"text-align: right;\">\n",
       "      <th></th>\n",
       "      <th>ISBN</th>\n",
       "      <th>title</th>\n",
       "      <th>author</th>\n",
       "      <th>year</th>\n",
       "      <th>publisher</th>\n",
       "      <th>img_url</th>\n",
       "      <th>user_id</th>\n",
       "      <th>rating</th>\n",
       "      <th>Avg_Rating</th>\n",
       "    </tr>\n",
       "  </thead>\n",
       "  <tbody>\n",
       "    <tr>\n",
       "      <th>0</th>\n",
       "      <td>0002005018</td>\n",
       "      <td>Clara Callan</td>\n",
       "      <td>Richard Bruce Wright</td>\n",
       "      <td>2001.0</td>\n",
       "      <td>HarperFlamingo Canada</td>\n",
       "      <td>http://images.amazon.com/images/P/0002005018.0...</td>\n",
       "      <td>11676</td>\n",
       "      <td>8</td>\n",
       "      <td>2.000000</td>\n",
       "    </tr>\n",
       "    <tr>\n",
       "      <th>1</th>\n",
       "      <td>0002005018</td>\n",
       "      <td>Clara Callan</td>\n",
       "      <td>Richard Bruce Wright</td>\n",
       "      <td>2001.0</td>\n",
       "      <td>HarperFlamingo Canada</td>\n",
       "      <td>http://images.amazon.com/images/P/0002005018.0...</td>\n",
       "      <td>85526</td>\n",
       "      <td>0</td>\n",
       "      <td>2.000000</td>\n",
       "    </tr>\n",
       "    <tr>\n",
       "      <th>2</th>\n",
       "      <td>0002005018</td>\n",
       "      <td>Clara Callan</td>\n",
       "      <td>Richard Bruce Wright</td>\n",
       "      <td>2001.0</td>\n",
       "      <td>HarperFlamingo Canada</td>\n",
       "      <td>http://images.amazon.com/images/P/0002005018.0...</td>\n",
       "      <td>96054</td>\n",
       "      <td>0</td>\n",
       "      <td>2.000000</td>\n",
       "    </tr>\n",
       "    <tr>\n",
       "      <th>3</th>\n",
       "      <td>0002005018</td>\n",
       "      <td>Clara Callan</td>\n",
       "      <td>Richard Bruce Wright</td>\n",
       "      <td>2001.0</td>\n",
       "      <td>HarperFlamingo Canada</td>\n",
       "      <td>http://images.amazon.com/images/P/0002005018.0...</td>\n",
       "      <td>177458</td>\n",
       "      <td>0</td>\n",
       "      <td>2.000000</td>\n",
       "    </tr>\n",
       "    <tr>\n",
       "      <th>4</th>\n",
       "      <td>0374157065</td>\n",
       "      <td>Flu: The Story of the Great Influenza Pandemic...</td>\n",
       "      <td>Gina Bari Kolata</td>\n",
       "      <td>1999.0</td>\n",
       "      <td>Farrar Straus Giroux</td>\n",
       "      <td>http://images.amazon.com/images/P/0374157065.0...</td>\n",
       "      <td>110912</td>\n",
       "      <td>10</td>\n",
       "      <td>6.333333</td>\n",
       "    </tr>\n",
       "  </tbody>\n",
       "</table>\n",
       "</div>"
      ],
      "text/plain": [
       "         ISBN                                              title  \\\n",
       "0  0002005018                                       Clara Callan   \n",
       "1  0002005018                                       Clara Callan   \n",
       "2  0002005018                                       Clara Callan   \n",
       "3  0002005018                                       Clara Callan   \n",
       "4  0374157065  Flu: The Story of the Great Influenza Pandemic...   \n",
       "\n",
       "                 author    year              publisher  \\\n",
       "0  Richard Bruce Wright  2001.0  HarperFlamingo Canada   \n",
       "1  Richard Bruce Wright  2001.0  HarperFlamingo Canada   \n",
       "2  Richard Bruce Wright  2001.0  HarperFlamingo Canada   \n",
       "3  Richard Bruce Wright  2001.0  HarperFlamingo Canada   \n",
       "4      Gina Bari Kolata  1999.0   Farrar Straus Giroux   \n",
       "\n",
       "                                             img_url  user_id  rating  \\\n",
       "0  http://images.amazon.com/images/P/0002005018.0...    11676       8   \n",
       "1  http://images.amazon.com/images/P/0002005018.0...    85526       0   \n",
       "2  http://images.amazon.com/images/P/0002005018.0...    96054       0   \n",
       "3  http://images.amazon.com/images/P/0002005018.0...   177458       0   \n",
       "4  http://images.amazon.com/images/P/0374157065.0...   110912      10   \n",
       "\n",
       "   Avg_Rating  \n",
       "0    2.000000  \n",
       "1    2.000000  \n",
       "2    2.000000  \n",
       "3    2.000000  \n",
       "4    6.333333  "
      ]
     },
     "execution_count": 195,
     "metadata": {},
     "output_type": "execute_result"
    }
   ],
   "source": [
    "books_with_ratings['Avg_Rating'] = books_with_ratings.groupby('ISBN')['rating'].transform('mean')\n",
    "books_with_ratings.head()"
   ]
  },
  {
   "cell_type": "code",
   "execution_count": 196,
   "id": "22cad18b",
   "metadata": {},
   "outputs": [
    {
     "data": {
      "text/plain": [
       "(487668, 9)"
      ]
     },
     "execution_count": 196,
     "metadata": {},
     "output_type": "execute_result"
    }
   ],
   "source": [
    "books_with_ratings.shape"
   ]
  },
  {
   "cell_type": "code",
   "execution_count": 197,
   "id": "31041970",
   "metadata": {},
   "outputs": [],
   "source": [
    "books_with_ratings.drop_duplicates(['title', 'author'], inplace=True, ignore_index=True)"
   ]
  },
  {
   "cell_type": "code",
   "execution_count": 198,
   "id": "c5a4d067",
   "metadata": {},
   "outputs": [
    {
     "data": {
      "text/plain": [
       "(166043, 9)"
      ]
     },
     "execution_count": 198,
     "metadata": {},
     "output_type": "execute_result"
    }
   ],
   "source": [
    "books_with_ratings.shape"
   ]
  },
  {
   "cell_type": "code",
   "execution_count": 199,
   "id": "b6646f18",
   "metadata": {},
   "outputs": [
    {
     "data": {
      "text/html": [
       "<div>\n",
       "<style scoped>\n",
       "    .dataframe tbody tr th:only-of-type {\n",
       "        vertical-align: middle;\n",
       "    }\n",
       "\n",
       "    .dataframe tbody tr th {\n",
       "        vertical-align: top;\n",
       "    }\n",
       "\n",
       "    .dataframe thead th {\n",
       "        text-align: right;\n",
       "    }\n",
       "</style>\n",
       "<table border=\"1\" class=\"dataframe\">\n",
       "  <thead>\n",
       "    <tr style=\"text-align: right;\">\n",
       "      <th></th>\n",
       "      <th>ISBN</th>\n",
       "      <th>title</th>\n",
       "      <th>author</th>\n",
       "      <th>year</th>\n",
       "      <th>publisher</th>\n",
       "      <th>img_url</th>\n",
       "      <th>user_id</th>\n",
       "      <th>rating</th>\n",
       "      <th>Avg_Rating</th>\n",
       "    </tr>\n",
       "  </thead>\n",
       "  <tbody>\n",
       "    <tr>\n",
       "      <th>0</th>\n",
       "      <td>0002005018</td>\n",
       "      <td>Clara Callan</td>\n",
       "      <td>Richard Bruce Wright</td>\n",
       "      <td>2001.0</td>\n",
       "      <td>HarperFlamingo Canada</td>\n",
       "      <td>http://images.amazon.com/images/P/0002005018.0...</td>\n",
       "      <td>11676</td>\n",
       "      <td>8</td>\n",
       "      <td>2.000000</td>\n",
       "    </tr>\n",
       "    <tr>\n",
       "      <th>1</th>\n",
       "      <td>0374157065</td>\n",
       "      <td>Flu: The Story of the Great Influenza Pandemic...</td>\n",
       "      <td>Gina Bari Kolata</td>\n",
       "      <td>1999.0</td>\n",
       "      <td>Farrar Straus Giroux</td>\n",
       "      <td>http://images.amazon.com/images/P/0374157065.0...</td>\n",
       "      <td>110912</td>\n",
       "      <td>10</td>\n",
       "      <td>6.333333</td>\n",
       "    </tr>\n",
       "    <tr>\n",
       "      <th>2</th>\n",
       "      <td>0399135782</td>\n",
       "      <td>The Kitchen God's Wife</td>\n",
       "      <td>Amy Tan</td>\n",
       "      <td>1991.0</td>\n",
       "      <td>Putnam Pub Group</td>\n",
       "      <td>http://images.amazon.com/images/P/0399135782.0...</td>\n",
       "      <td>11676</td>\n",
       "      <td>9</td>\n",
       "      <td>4.400000</td>\n",
       "    </tr>\n",
       "    <tr>\n",
       "      <th>3</th>\n",
       "      <td>0425176428</td>\n",
       "      <td>What If?: The World's Foremost Military Histor...</td>\n",
       "      <td>Robert Cowley</td>\n",
       "      <td>2000.0</td>\n",
       "      <td>Berkley Publishing Group</td>\n",
       "      <td>http://images.amazon.com/images/P/0425176428.0...</td>\n",
       "      <td>52614</td>\n",
       "      <td>8</td>\n",
       "      <td>8.000000</td>\n",
       "    </tr>\n",
       "    <tr>\n",
       "      <th>4</th>\n",
       "      <td>0671870432</td>\n",
       "      <td>PLEADING GUILTY</td>\n",
       "      <td>Scott Turow</td>\n",
       "      <td>1993.0</td>\n",
       "      <td>Audioworks</td>\n",
       "      <td>http://images.amazon.com/images/P/0671870432.0...</td>\n",
       "      <td>11676</td>\n",
       "      <td>8</td>\n",
       "      <td>8.000000</td>\n",
       "    </tr>\n",
       "  </tbody>\n",
       "</table>\n",
       "</div>"
      ],
      "text/plain": [
       "         ISBN                                              title  \\\n",
       "0  0002005018                                       Clara Callan   \n",
       "1  0374157065  Flu: The Story of the Great Influenza Pandemic...   \n",
       "2  0399135782                             The Kitchen God's Wife   \n",
       "3  0425176428  What If?: The World's Foremost Military Histor...   \n",
       "4  0671870432                                    PLEADING GUILTY   \n",
       "\n",
       "                 author    year                 publisher  \\\n",
       "0  Richard Bruce Wright  2001.0     HarperFlamingo Canada   \n",
       "1      Gina Bari Kolata  1999.0      Farrar Straus Giroux   \n",
       "2               Amy Tan  1991.0          Putnam Pub Group   \n",
       "3         Robert Cowley  2000.0  Berkley Publishing Group   \n",
       "4           Scott Turow  1993.0                Audioworks   \n",
       "\n",
       "                                             img_url  user_id  rating  \\\n",
       "0  http://images.amazon.com/images/P/0002005018.0...    11676       8   \n",
       "1  http://images.amazon.com/images/P/0374157065.0...   110912      10   \n",
       "2  http://images.amazon.com/images/P/0399135782.0...    11676       9   \n",
       "3  http://images.amazon.com/images/P/0425176428.0...    52614       8   \n",
       "4  http://images.amazon.com/images/P/0671870432.0...    11676       8   \n",
       "\n",
       "   Avg_Rating  \n",
       "0    2.000000  \n",
       "1    6.333333  \n",
       "2    4.400000  \n",
       "3    8.000000  \n",
       "4    8.000000  "
      ]
     },
     "execution_count": 199,
     "metadata": {},
     "output_type": "execute_result"
    }
   ],
   "source": [
    "books_with_ratings.head()"
   ]
  },
  {
   "cell_type": "code",
   "execution_count": 200,
   "id": "bdd62fdd",
   "metadata": {},
   "outputs": [
    {
     "data": {
      "text/plain": [
       "Agatha Christie         632\n",
       "William Shakespeare     567\n",
       "Stephen King            524\n",
       "Ann M. Martin           423\n",
       "Carolyn Keene           373\n",
       "                       ... \n",
       "R. Gelman                 1\n",
       "Ellery R. Sheets          1\n",
       "Artiste C. Arthur         1\n",
       "Emily Pearl Kingsley      1\n",
       "Christopher  Biffle       1\n",
       "Name: author, Length: 102022, dtype: int64"
      ]
     },
     "execution_count": 200,
     "metadata": {},
     "output_type": "execute_result"
    }
   ],
   "source": [
    "pd.value_counts(books['author'])"
   ]
  },
  {
   "cell_type": "code",
   "execution_count": 201,
   "id": "48fd458d",
   "metadata": {},
   "outputs": [
    {
     "data": {
      "text/plain": [
       "Agatha Christie        377\n",
       "Ann M. Martin          370\n",
       "William Shakespeare    336\n",
       "Francine Pascal        319\n",
       "Barbara Cartland       297\n",
       "                      ... \n",
       "Miles Corwin             1\n",
       "Jane M. Dieckmann        1\n",
       "Martin Balarezo          1\n",
       "Kenneth M. Morris        1\n",
       "David Biggs              1\n",
       "Name: author, Length: 67163, dtype: int64"
      ]
     },
     "execution_count": 201,
     "metadata": {},
     "output_type": "execute_result"
    }
   ],
   "source": [
    "books_with_ratings.author.value_counts()"
   ]
  },
  {
   "cell_type": "code",
   "execution_count": 202,
   "id": "329f1b84",
   "metadata": {},
   "outputs": [],
   "source": [
    "authors_name = books_with_ratings['author']"
   ]
  },
  {
   "cell_type": "code",
   "execution_count": 203,
   "id": "49b0bc41",
   "metadata": {},
   "outputs": [],
   "source": [
    "def get_books_author(author_name):\n",
    "    a = books_with_ratings[books_with_ratings['author']==author_name][['title', 'Avg_Rating', 'img_url']]\n",
    "    a = a.sort_values(by='Avg_Rating',ascending=False)\n",
    "    return a"
   ]
  },
  {
   "cell_type": "code",
   "execution_count": 204,
   "id": "cb5661f9",
   "metadata": {},
   "outputs": [
    {
     "data": {
      "text/html": [
       "<div>\n",
       "<style scoped>\n",
       "    .dataframe tbody tr th:only-of-type {\n",
       "        vertical-align: middle;\n",
       "    }\n",
       "\n",
       "    .dataframe tbody tr th {\n",
       "        vertical-align: top;\n",
       "    }\n",
       "\n",
       "    .dataframe thead th {\n",
       "        text-align: right;\n",
       "    }\n",
       "</style>\n",
       "<table border=\"1\" class=\"dataframe\">\n",
       "  <thead>\n",
       "    <tr style=\"text-align: right;\">\n",
       "      <th></th>\n",
       "      <th>title</th>\n",
       "      <th>Avg_Rating</th>\n",
       "      <th>img_url</th>\n",
       "    </tr>\n",
       "  </thead>\n",
       "  <tbody>\n",
       "    <tr>\n",
       "      <th>166042</th>\n",
       "      <td>Cocktail Classics</td>\n",
       "      <td>7.0</td>\n",
       "      <td>http://images.amazon.com/images/P/1845170423.0...</td>\n",
       "    </tr>\n",
       "  </tbody>\n",
       "</table>\n",
       "</div>"
      ],
      "text/plain": [
       "                    title  Avg_Rating  \\\n",
       "166042  Cocktail Classics         7.0   \n",
       "\n",
       "                                                  img_url  \n",
       "166042  http://images.amazon.com/images/P/1845170423.0...  "
      ]
     },
     "execution_count": 204,
     "metadata": {},
     "output_type": "execute_result"
    }
   ],
   "source": [
    "get_books_author('David Biggs')"
   ]
  },
  {
   "cell_type": "markdown",
   "id": "8788f5fc",
   "metadata": {},
   "source": [
    "# Books on Age"
   ]
  },
  {
   "cell_type": "code",
   "execution_count": 205,
   "id": "671c44b4",
   "metadata": {},
   "outputs": [
    {
     "data": {
      "text/html": [
       "<div>\n",
       "<style scoped>\n",
       "    .dataframe tbody tr th:only-of-type {\n",
       "        vertical-align: middle;\n",
       "    }\n",
       "\n",
       "    .dataframe tbody tr th {\n",
       "        vertical-align: top;\n",
       "    }\n",
       "\n",
       "    .dataframe thead th {\n",
       "        text-align: right;\n",
       "    }\n",
       "</style>\n",
       "<table border=\"1\" class=\"dataframe\">\n",
       "  <thead>\n",
       "    <tr style=\"text-align: right;\">\n",
       "      <th></th>\n",
       "      <th>user_id</th>\n",
       "      <th>age</th>\n",
       "      <th>country</th>\n",
       "    </tr>\n",
       "  </thead>\n",
       "  <tbody>\n",
       "    <tr>\n",
       "      <th>0</th>\n",
       "      <td>1</td>\n",
       "      <td>36.0</td>\n",
       "      <td>usa</td>\n",
       "    </tr>\n",
       "    <tr>\n",
       "      <th>1</th>\n",
       "      <td>2</td>\n",
       "      <td>18.0</td>\n",
       "      <td>usa</td>\n",
       "    </tr>\n",
       "  </tbody>\n",
       "</table>\n",
       "</div>"
      ],
      "text/plain": [
       "   user_id   age country\n",
       "0        1  36.0     usa\n",
       "1        2  18.0     usa"
      ]
     },
     "execution_count": 205,
     "metadata": {},
     "output_type": "execute_result"
    }
   ],
   "source": [
    "users.head(2)"
   ]
  },
  {
   "cell_type": "code",
   "execution_count": 206,
   "id": "319e7c04",
   "metadata": {},
   "outputs": [],
   "source": [
    "from sklearn.preprocessing import StandardScaler\n",
    "\n",
    "from scipy.cluster import hierarchy\n",
    "from sklearn.cluster import AgglomerativeClustering\n",
    "from sklearn.cluster import KMeans"
   ]
  },
  {
   "cell_type": "code",
   "execution_count": 207,
   "id": "7bf36194",
   "metadata": {},
   "outputs": [],
   "source": [
    "sc = StandardScaler()"
   ]
  },
  {
   "cell_type": "code",
   "execution_count": 208,
   "id": "4a23e116",
   "metadata": {},
   "outputs": [
    {
     "data": {
      "text/plain": [
       "array([[36.],\n",
       "       [18.],\n",
       "       [23.],\n",
       "       ...,\n",
       "       [33.],\n",
       "       [36.],\n",
       "       [31.]])"
      ]
     },
     "execution_count": 208,
     "metadata": {},
     "output_type": "execute_result"
    }
   ],
   "source": [
    "x = users.age.values.reshape(-1, 1)\n",
    "x"
   ]
  },
  {
   "cell_type": "code",
   "execution_count": 209,
   "id": "375afe58",
   "metadata": {},
   "outputs": [
    {
     "data": {
      "text/plain": [
       "array([[ 0.16067384],\n",
       "       [-1.53059075],\n",
       "       [-1.06079503],\n",
       "       ...,\n",
       "       [-0.12120359],\n",
       "       [ 0.16067384],\n",
       "       [-0.30912188]])"
      ]
     },
     "execution_count": 209,
     "metadata": {},
     "output_type": "execute_result"
    }
   ],
   "source": [
    "x = sc.fit_transform(x)\n",
    "x"
   ]
  },
  {
   "cell_type": "code",
   "execution_count": 210,
   "id": "9c70cbf2",
   "metadata": {},
   "outputs": [],
   "source": [
    "km = KMeans()"
   ]
  },
  {
   "cell_type": "code",
   "execution_count": 211,
   "id": "51928a3f",
   "metadata": {},
   "outputs": [
    {
     "data": {
      "text/plain": [
       "array([4, 2, 5, ..., 0, 4, 0])"
      ]
     },
     "execution_count": 211,
     "metadata": {},
     "output_type": "execute_result"
    }
   ],
   "source": [
    "cluster = km.fit_predict(x)\n",
    "cluster"
   ]
  },
  {
   "cell_type": "code",
   "execution_count": null,
   "id": "c1da8118",
   "metadata": {},
   "outputs": [],
   "source": [
    "wcss = []\n",
    "\n",
    "for i in range(1, 21):\n",
    "    km = KMeans(n_clusters=i)\n",
    "    cluster = km.fit_predict(x)\n",
    "    wcss.append(km.inertia_)\n",
    "\n",
    "wcss"
   ]
  },
  {
   "cell_type": "code",
   "execution_count": null,
   "id": "04b44214",
   "metadata": {},
   "outputs": [],
   "source": [
    "sns.set_style('whitegrid')\n",
    "plt.plot(range(1,21),wcss)\n",
    "plt.xlabel('K_Means')\n",
    "plt.ylabel('WCSS')"
   ]
  },
  {
   "cell_type": "code",
   "execution_count": null,
   "id": "94b69332",
   "metadata": {},
   "outputs": [],
   "source": [
    "km = KMeans(n_clusters=5)\n",
    "ylabel = km.fit_predict(x)\n",
    "ylabel"
   ]
  },
  {
   "cell_type": "code",
   "execution_count": null,
   "id": "4cf6d418",
   "metadata": {},
   "outputs": [],
   "source": [
    "km.cluster_centers_"
   ]
  },
  {
   "cell_type": "code",
   "execution_count": null,
   "id": "a0837b29",
   "metadata": {},
   "outputs": [],
   "source": [
    "users['Cluster'] = ylabel"
   ]
  },
  {
   "cell_type": "code",
   "execution_count": null,
   "id": "bc4bc549",
   "metadata": {},
   "outputs": [],
   "source": [
    "users.head()"
   ]
  },
  {
   "cell_type": "code",
   "execution_count": null,
   "id": "54221b26",
   "metadata": {},
   "outputs": [],
   "source": [
    "users.Cluster.value_counts()"
   ]
  },
  {
   "cell_type": "code",
   "execution_count": null,
   "id": "921b48a2",
   "metadata": {},
   "outputs": [],
   "source": [
    "'''\n",
    "cluster NO   Min     Max\n",
    "   2        -5.0    -24.5\n",
    "   3        -25.0   -32.5\n",
    "   0        -33.0   -42.0\n",
    "   1        -43.0   -55.0\n",
    "   4        -56.0   -80.0\n",
    "   \n",
    "'''"
   ]
  },
  {
   "cell_type": "code",
   "execution_count": null,
   "id": "489340bd",
   "metadata": {},
   "outputs": [],
   "source": [
    "users.columns"
   ]
  },
  {
   "cell_type": "code",
   "execution_count": null,
   "id": "2249e9a8",
   "metadata": {},
   "outputs": [],
   "source": [
    "ratings.columns"
   ]
  },
  {
   "cell_type": "code",
   "execution_count": null,
   "id": "7ba88fe6",
   "metadata": {},
   "outputs": [],
   "source": [
    "books.columns"
   ]
  },
  {
   "cell_type": "code",
   "execution_count": null,
   "id": "26b600e6",
   "metadata": {},
   "outputs": [],
   "source": [
    "age_with_books = users.merge(ratings, on='user_id')\n",
    "age_with_books = age_with_books.merge(books, on='ISBN')\n",
    "age_with_books['Avg_Rating'] = age_with_books.groupby('ISBN')['rating'].transform('mean')\n",
    "age_with_books = age_with_books.drop_duplicates(['title', 'author'])\n",
    "age_with_books.sample(4)"
   ]
  },
  {
   "cell_type": "code",
   "execution_count": null,
   "id": "2a3d9e73",
   "metadata": {},
   "outputs": [],
   "source": [
    "age_with_books.country.sort_values().unique()"
   ]
  },
  {
   "cell_type": "code",
   "execution_count": null,
   "id": "bce7c58f",
   "metadata": {},
   "outputs": [],
   "source": [
    "def get_books_by_age(age):\n",
    "    if age < 25:\n",
    "        a = age_with_books[age_with_books.Cluster == 2]\n",
    "        a = a.sort_values(by='Avg_Rating',ascending=False)\n",
    "        return a[['title', 'author', 'Avg_Rating']]\n",
    "    \n",
    "    elif ((age >= 25) & (age <33)):\n",
    "        a = age_with_books[age_with_books.Cluster == 3]\n",
    "        a = a.sort_values(by='Avg_Rating',ascending=False)\n",
    "        return a[['title', 'author', 'Avg_Rating']]\n",
    "    \n",
    "    elif ((age >= 33) & (age <43)):\n",
    "        a = age_with_books[age_with_books.Cluster == 0]\n",
    "        a = a.sort_values(by='Avg_Rating',ascending=False)\n",
    "        return a[['title', 'author', 'Avg_Rating']]\n",
    "    \n",
    "    elif ((age >= 43) & (age <56)):\n",
    "        a = age_with_books[age_with_books.Cluster == 1]\n",
    "        a = a.sort_values(by='Avg_Rating',ascending=False)\n",
    "        return a[['title', 'author', 'Avg_Rating']]\n",
    "    \n",
    "    else:\n",
    "        a = age_with_books[age_with_books.Cluster == 4]\n",
    "        a = a.sort_values(by='Avg_Rating',ascending=False)\n",
    "        return a[['title', 'author', 'Avg_Rating']]"
   ]
  },
  {
   "cell_type": "code",
   "execution_count": null,
   "id": "cc1601bb",
   "metadata": {},
   "outputs": [],
   "source": [
    "get_books_by_age(3).head(2)"
   ]
  },
  {
   "cell_type": "code",
   "execution_count": null,
   "id": "bdf92136",
   "metadata": {},
   "outputs": [],
   "source": [
    "get_books_by_age(28).head(2)"
   ]
  },
  {
   "cell_type": "code",
   "execution_count": null,
   "id": "4ca8c336",
   "metadata": {},
   "outputs": [],
   "source": [
    "get_books_by_age(40).head(2)"
   ]
  },
  {
   "cell_type": "code",
   "execution_count": null,
   "id": "f77a01f4",
   "metadata": {},
   "outputs": [],
   "source": [
    "get_books_by_age(50).head(2)"
   ]
  },
  {
   "cell_type": "code",
   "execution_count": null,
   "id": "8b01b4d4",
   "metadata": {},
   "outputs": [],
   "source": [
    "get_books_by_age(58).head(2)"
   ]
  },
  {
   "cell_type": "markdown",
   "id": "ae1df752",
   "metadata": {},
   "source": [
    "## Country"
   ]
  },
  {
   "cell_type": "code",
   "execution_count": null,
   "id": "cfc17f04",
   "metadata": {},
   "outputs": [],
   "source": [
    "age_with_books.head(2)"
   ]
  },
  {
   "cell_type": "code",
   "execution_count": null,
   "id": "aef8f1bd",
   "metadata": {},
   "outputs": [],
   "source": [
    "def selected_country(cntry):\n",
    "    books = age_with_books[age_with_books.country == cntry]\n",
    "    books = books.sort_values(by=['Avg_Rating'],ascending=False) \n",
    "    books = books[['title', 'country', 'Avg_Rating']]\n",
    "    return books"
   ]
  },
  {
   "cell_type": "code",
   "execution_count": null,
   "id": "5da27b4a",
   "metadata": {},
   "outputs": [],
   "source": [
    "selected_country('usa')"
   ]
  },
  {
   "cell_type": "code",
   "execution_count": null,
   "id": "8024c2d9",
   "metadata": {},
   "outputs": [],
   "source": [
    "import pickle\n",
    "pickle.dump(model, open('model.pkl', 'wb'))\n",
    "pickle.dump(book_name, open('book_name.pkl', 'wb'))\n",
    "pickle.dump(final_ratings, open('final_ratings.pkl', 'wb'))\n",
    "pickle.dump(books_pivot, open('books_pivot.pkl', 'wb'))\n",
    "pickle.dump(popular_book_img, open('popular_book_img.pkl', 'wb'))\n",
    "pickle.dump(no_of_times_rated_book_img, open('no_of_times_rated_book_img.pkl', 'wb'))\n",
    "pickle.dump(books_with_ratings, open('books_with_ratings.pkl', 'wb'))\n",
    "pickle.dump(age_with_books, open('age_with_books.pkl', 'wb'))\n"
   ]
  },
  {
   "cell_type": "code",
   "execution_count": null,
   "id": "3a8ef493",
   "metadata": {},
   "outputs": [],
   "source": []
  }
 ],
 "metadata": {
  "kernelspec": {
   "display_name": "Python 3 (ipykernel)",
   "language": "python",
   "name": "python3"
  },
  "language_info": {
   "codemirror_mode": {
    "name": "ipython",
    "version": 3
   },
   "file_extension": ".py",
   "mimetype": "text/x-python",
   "name": "python",
   "nbconvert_exporter": "python",
   "pygments_lexer": "ipython3",
   "version": "3.9.13"
  }
 },
 "nbformat": 4,
 "nbformat_minor": 5
}
